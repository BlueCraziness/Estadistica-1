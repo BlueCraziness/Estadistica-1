{
 "cells": [
  {
   "cell_type": "markdown",
   "metadata": {},
   "source": [
    "<h1>TRABAJO MUESTREO - INFERENCIA</h1>"
   ]
  },
  {
   "cell_type": "markdown",
   "metadata": {},
   "source": [
    "En los siguientes enlaces encontrará los datos relacionados con los resultados de las pruebas de estado para las Instituciones de Educación Superior (IES) colombianas de carácter universitario de los últimos tres (3) años:\n",
    "\n",
    " https://www.dropbox.com/s/xgsf3l5gjw0h0q4/saberpro.RData\n",
    "\n",
    "Considere estos datos como una población finita. Las variables que componen la tabla son:\n",
    "\n",
    "\n",
    "\n",
    " - `periodo:` año de realización de la prueba. La variable se presenta fragmentada debido al origen de los datos. Requiere agruparse adecuadamente. Para ello, consulte la función revalue y describa, brevemente, su funcionamiento.\n",
    " -  `apli_consecutivo:` consecutivo asignado al estudiante en el momento de presentar la prueba. Único por estudiante\n",
    " -  `estu_depto_reside:` departamento de residencia del estudiante\n",
    " -   `estu_cod_reside_depto:` código DANE del departamento de residencia del estudiante\n",
    " -   `inst_cod_institucion:` código de la IES ante el ministerio. Único por Institución\n",
    " -   `inst_nombre_institucion:` Nombre de la Institución. Algunas presentan sedes y subsedes\n",
    " -   `raz_cuant_punt:` Puntaje Razonamiento Cuantitativo\n",
    " -   `raz_cuant_des:` Nivel de Desempeño Razonamiento Cuantitativo (categórica)\n",
    " -   `lect_crit_punt:` Puntaje Lectura Crítica\n",
    " -   `lect_crit_des:` Nivel de Desempeño Lectura Crítica (categórica)\n",
    " -   `comp_ciud_punt:` Puntaje Competencias Ciudadanas\n",
    " -   `comp_ciud_des:` Nivel de Desempeño Competencias Ciudadanas (categórica)\n",
    " -   `ingles_punt:` Puntaje Inglés\n",
    " -   `ingles_desem:` Nivel de Desempeño en Inglés (categórica)\n",
    " -  `comu_escr_punt:` Puntaje Comunicación Escrita\n",
    " -  `comu_escr_des:` Nivel de Desempeño Comunicación Escrita (categórica)\n",
    "\n",
    "Tenga en cuenta que algunas variables categóricas figuran como numéricas, haga la correspondiente transformación.\n",
    "\n",
    "Los puntos a desarrollar son:\n",
    "\n",
    "\n",
    "   1. Realice muestreo aleatorio simple y realice las estimaciones (inferencia) correspondientes. Tenga en cuenta que son múltiples variables\n",
    "   2.  Realice los correspondientes muestreos estratificados y compare los resultados con los anteriores. Explique las diferencias y/o similitudes\n",
    "   3.  Realice los correspondientes muestreos por conglomerados y compare los resultados con los puntos 1 y 2. Explique las diferencias y/o similitudes\n",
    "   4.  ¿Considera que es procedente realizar un muestreo sistemático? Argumente su respuesta\n",
    "    Si la respuesta del punto 4 fue positiva, realice el correspondiente muestreo y compare con los anteriores\n",
    "   5.  Para las estimaciones emplee los siguientes niveles de confianza: 90%, 95% y 99%.\n",
    "\n",
    "El trabajo puede entregarse en formato PDF o como notebook de jupyter\n",
    "\n",
    "Recomendaciones:\n",
    "\n",
    " -   Procure tabular de manera adecuada las estimaciones para optimizar espacio\n",
    " -   Evite extenderse en las explicaciones\n",
    " -   Trate de optimizar el uso de gráficas (visite el siguiente repositorio si desea una guía: https://github.com/karlosmantilla/graficas-basicas-descriptivas-\n",
    " -   Referencie las fórmulas empleadas en los cálculos\n"
   ]
  },
  {
   "cell_type": "markdown",
   "metadata": {},
   "source": [
    "**Asignatura: Estadistica 2**\n",
    "\n",
    "**Profesor: Carlos Alfonso Mantilla Duarte**\n",
    "\n",
    "**Grupo: F1**\n",
    "\n",
    "\n",
    "\n",
    "<table style=\"font-size:14px;\">\n",
    "<thead>\n",
    "<td style=\"text-align:center\" ><strong>Integrante</strong></td>\n",
    "<td style=\"text-align:center\"><strong>Codigo</strong></td>\n",
    "</thead>\n",
    "<tr>\n",
    "<td style=\"text-align:center\">Orlando Alberto Moncada Rodriguez</td>\n",
    "<td style=\"text-align:center\">2170133</td>\n",
    "</tr>\n",
    "    <tr>\n",
    "<td style=\"text-align:center\">Santiago Andres Castro Duitama</td>\n",
    "<td style=\"text-align:center\">2170134</td>\n",
    "</tr>\n",
    "    <tr>\n",
    "<td style=\"text-align:center\">David Santiago Morales Norato</td>\n",
    "<td style=\"text-align:center\">2170102</td>\n",
    "</tr>\n",
    "</table>"
   ]
  },
  {
   "cell_type": "markdown",
   "metadata": {},
   "source": [
    "## Funciones y librerias"
   ]
  },
  {
   "cell_type": "code",
<<<<<<< Updated upstream
   "execution_count": 1,
=======
   "execution_count": 9,
>>>>>>> Stashed changes
   "metadata": {},
   "outputs": [
    {
     "name": "stderr",
     "output_type": "stream",
     "text": [
      "Warning message:\n",
      "\"package 'samplingbook' was built under R version 3.6.3\"Loading required package: pps\n",
      "Loading required package: sampling\n",
      "Warning message:\n",
      "\"package 'sampling' was built under R version 3.6.3\"Loading required package: survey\n",
      "Warning message:\n",
      "\"package 'survey' was built under R version 3.6.3\"Loading required package: grid\n",
      "Loading required package: Matrix\n",
      "Loading required package: survival\n",
      "\n",
      "Attaching package: 'survival'\n",
      "\n",
      "The following objects are masked from 'package:sampling':\n",
      "\n",
      "    cluster, strata\n",
      "\n",
      "\n",
      "Attaching package: 'survey'\n",
      "\n",
      "The following object is masked from 'package:graphics':\n",
      "\n",
      "    dotchart\n",
      "\n"
     ]
    }
   ],
   "source": [
    "mystats <- function(x, na.omit=FALSE){\n",
    "  if (na.omit)\n",
    "    x <- x[!is.na(x)]\n",
    "  m <- mean(x)\n",
    "  n <- length(x)\n",
    "  s <- sd(x)\n",
    "  skew <- sum((x-m)^3/s^3)/n\n",
    "  kurt <- sum((x-m)^4/s^4)/n - 3\n",
    "  return(c(\"tamaño\"=n, \"media\"=m, \"desviación estándar\"=s, \"simetría\"=skew, \"kurtosis\"=kurt))\n",
    "}\n",
    "\n",
    "library(samplingbook)\n"
   ]
  },
  {
   "cell_type": "markdown",
   "metadata": {},
   "source": [
    "# Desarrollo"
   ]
  },
  {
   "cell_type": "code",
<<<<<<< Updated upstream
   "execution_count": 15,
   "metadata": {},
   "outputs": [
    {
     "name": "stderr",
     "output_type": "stream",
     "text": [
      "Warning message in load(\"saberpro.RData\"):\n",
      "“input string 'COLEGIO DE ESTUDIOS SUPERIORES DE ADMINISTRACION-CESA-BOGOTÁ D.C.' cannot be translated to UTF-8, is it valid in 'CP1252'?”\n",
      "Warning message in load(\"saberpro.RData\"):\n",
      "“input string 'COLEGIO MAYOR DE NUESTRA SEÑORA DEL ROSARIO-BOGOTÁ D.C.' cannot be translated to UTF-8, is it valid in 'CP1252'?”\n",
      "Warning message in load(\"saberpro.RData\"):\n",
      "“input string 'CORPORACION ESCUELA DE ARTES Y LETRAS-BOGOTÁ D.C.' cannot be translated to UTF-8, is it valid in 'CP1252'?”\n",
      "Warning message in load(\"saberpro.RData\"):\n",
      "“input string 'CORPORACION INTERNACIONAL PARA EL DESARROLLO EDUCATIVO -CIDE-BOGOTÁ D.C.' cannot be translated to UTF-8, is it valid in 'CP1252'?”\n",
      "Warning message in load(\"saberpro.RData\"):\n",
      "“input string 'CORPORACION TECNOLOGICA INDUSTRIAL COLOMBIANA - TEINCO-BOGOTÁ D.C.' cannot be translated to UTF-8, is it valid in 'CP1252'?”\n",
      "Warning message in load(\"saberpro.RData\"):\n",
      "“input string 'CORPORACION UNIFICADA NACIONAL DE EDUCACION SUPERIOR-CUN-BOGOTÁ D.C.' cannot be translated to UTF-8, is it valid in 'CP1252'?”\n",
      "Warning message in load(\"saberpro.RData\"):\n",
      "“input string 'CORPORACION UNIVERSIDAD PILOTO DE COLOMBIA-BOGOTÁ D.C.' cannot be translated to UTF-8, is it valid in 'CP1252'?”\n",
      "Warning message in load(\"saberpro.RData\"):\n",
      "“input string 'CORPORACION UNIVERSITARIA  UNITEC-BOGOTÁ D.C.' cannot be translated to UTF-8, is it valid in 'CP1252'?”\n",
      "Warning message in load(\"saberpro.RData\"):\n",
      "“input string 'CORPORACION UNIVERSITARIA CENDA-BOGOTÁ D.C.' cannot be translated to UTF-8, is it valid in 'CP1252'?”\n",
      "Warning message in load(\"saberpro.RData\"):\n",
      "“input string 'CORPORACION UNIVERSITARIA DE ASTURIAS-BOGOTÁ D.C.' cannot be translated to UTF-8, is it valid in 'CP1252'?”\n",
      "Warning message in load(\"saberpro.RData\"):\n",
      "“input string 'CORPORACION UNIVERSITARIA DE CIENCIA Y DESARROLLO - UNICIENCIA-BOGOTÁ D.C.' cannot be translated to UTF-8, is it valid in 'CP1252'?”\n",
      "Warning message in load(\"saberpro.RData\"):\n",
      "“input string 'CORPORACION UNIVERSITARIA DE COLOMBIA IDEAS-BOGOTÁ D.C.' cannot be translated to UTF-8, is it valid in 'CP1252'?”\n",
      "Warning message in load(\"saberpro.RData\"):\n",
      "“input string 'CORPORACION UNIVERSITARIA IBEROAMERICANA-BOGOTÁ D.C.' cannot be translated to UTF-8, is it valid in 'CP1252'?”\n",
      "Warning message in load(\"saberpro.RData\"):\n",
      "“input string 'CORPORACION UNIVERSITARIA MINUTO DE DIOS -UNIMINUTO-BOGOTÁ D.C.' cannot be translated to UTF-8, is it valid in 'CP1252'?”\n",
      "Warning message in load(\"saberpro.RData\"):\n",
      "“input string 'CORPORACION UNIVERSITARIA REPUBLICANA-BOGOTÁ D.C.' cannot be translated to UTF-8, is it valid in 'CP1252'?”\n",
      "Warning message in load(\"saberpro.RData\"):\n",
      "“input string 'DIRECCION NACIONAL DE ESCUELAS-BOGOTÁ D.C.' cannot be translated to UTF-8, is it valid in 'CP1252'?”\n",
      "Warning message in load(\"saberpro.RData\"):\n",
      "“input string 'ESC NORMAL SUPERIOR NSTRA SRA DE LA PAZ-BOGOTÁ D.C.' cannot be translated to UTF-8, is it valid in 'CP1252'?”\n",
      "Warning message in load(\"saberpro.RData\"):\n",
      "“input string 'ESCUELA COLOMBIANA DE INGENIERIAJULIO GARAVITO-BOGOTÁ D.C.' cannot be translated to UTF-8, is it valid in 'CP1252'?”\n",
      "Warning message in load(\"saberpro.RData\"):\n",
      "“input string 'ESCUELA DE INGENIEROS MILITARES-BOGOTÁ D.C.' cannot be translated to UTF-8, is it valid in 'CP1252'?”\n",
      "Warning message in load(\"saberpro.RData\"):\n",
      "“input string 'ESCUELA DE INTELIGENCIA Y CONTRAINTELIGENCIA BRIGADIER GENERAL RICARDO CHARRY SOLANO-BOGOTÁ D.C.' cannot be translated to UTF-8, is it valid in 'CP1252'?”\n",
      "Warning message in load(\"saberpro.RData\"):\n",
      "“input string 'ESCUELA DE LOGISTICA-BOGOTÁ D.C.' cannot be translated to UTF-8, is it valid in 'CP1252'?”\n",
      "Warning message in load(\"saberpro.RData\"):\n",
      "“input string 'ESCUELA MILITAR DE CADETES GENERAL JOSE MARIA CORDOVA-BOGOTÁ D.C.' cannot be translated to UTF-8, is it valid in 'CP1252'?”\n",
      "Warning message in load(\"saberpro.RData\"):\n",
      "“input string 'ESCUELA SUPERIOR DE ADMINISTRACION PUBLICA-ESAP-BOGOTÁ D.C.' cannot be translated to UTF-8, is it valid in 'CP1252'?”\n",
      "Warning message in load(\"saberpro.RData\"):\n",
      "“input string 'ESCUELA TECNOLOGICA INSTITUTO TECNICO CENTRAL -BOGOTÁ D.C.' cannot be translated to UTF-8, is it valid in 'CP1252'?”\n",
      "Warning message in load(\"saberpro.RData\"):\n",
      "“input string 'FUNDACIÓN UNIVERSITARIA SAN ALFONSO- FUSA-BOGOTÁ D.C.' cannot be translated to UTF-8, is it valid in 'CP1252'?”\n",
      "Warning message in load(\"saberpro.RData\"):\n",
      "“input string 'FUNDACION DE EDUCACION SUPERIOR SAN JOSE -FESSANJOSE-BOGOTÁ D.C.' cannot be translated to UTF-8, is it valid in 'CP1252'?”\n",
      "Warning message in load(\"saberpro.RData\"):\n",
      "“input string 'FUNDACION ESCUELA COLOMBIANA DE REHABILITACION-BOGOTÁ D.C.' cannot be translated to UTF-8, is it valid in 'CP1252'?”\n",
      "Warning message in load(\"saberpro.RData\"):\n",
      "“input string 'FUNDACION PARA LA EDUCACION SUPERIOR SAN MATEO FUNDACION SAN MATEO-BOGOTÁ D.C.' cannot be translated to UTF-8, is it valid in 'CP1252'?”\n",
      "Warning message in load(\"saberpro.RData\"):\n",
      "“input string 'FUNDACION UNIVERSIDAD AUTONOMA DE COLOMBIA -FUAC--BOGOTÁ D.C.' cannot be translated to UTF-8, is it valid in 'CP1252'?”\n",
      "Warning message in load(\"saberpro.RData\"):\n",
      "“input string 'FUNDACION UNIVERSIDAD DE AMERICA-BOGOTÁ D.C.' cannot be translated to UTF-8, is it valid in 'CP1252'?”\n",
      "Warning message in load(\"saberpro.RData\"):\n",
      "“input string 'FUNDACION UNIVERSIDAD DE BOGOTAJORGE TADEO LOZANO-BOGOTÁ D.C.' cannot be translated to UTF-8, is it valid in 'CP1252'?”\n",
      "Warning message in load(\"saberpro.RData\"):\n",
      "“input string 'FUNDACION UNIVERSITARIA AGRARIA DE COLOMBIA -UNIAGRARIA-BOGOTÁ D.C.' cannot be translated to UTF-8, is it valid in 'CP1252'?”\n",
      "Warning message in load(\"saberpro.RData\"):\n",
      "“input string 'FUNDACION UNIVERSITARIA CAFAM-BOGOTÁ D.C.' cannot be translated to UTF-8, is it valid in 'CP1252'?”\n",
      "Warning message in load(\"saberpro.RData\"):\n",
      "“input string 'FUNDACION UNIVERSITARIA CERVANTINA SAN AGUSTIN - UNICERVANTINA SAN AGUSTIN-BOGOTÁ D.C.' cannot be translated to UTF-8, is it valid in 'CP1252'?”\n",
      "Warning message in load(\"saberpro.RData\"):\n",
      "“input string 'FUNDACION UNIVERSITARIA DE CIENCIAS DE LA SALUD-BOGOTÁ D.C.' cannot be translated to UTF-8, is it valid in 'CP1252'?”\n",
      "Warning message in load(\"saberpro.RData\"):\n",
      "“input string 'FUNDACION UNIVERSITARIA DEL AREA ANDINA-BOGOTÁ D.C.' cannot be translated to UTF-8, is it valid in 'CP1252'?”\n",
      "Warning message in load(\"saberpro.RData\"):\n",
      "“input string 'FUNDACION UNIVERSITARIA EMPRESARIAL DE LA CAMARA DE COMERCIO DE Bogotá -BOGOTÁ D.C.' cannot be translated to UTF-8, is it valid in 'CP1252'?”\n",
      "Warning message in load(\"saberpro.RData\"):\n",
      "“input string 'FUNDACION UNIVERSITARIA JUAN N. CORPAS-BOGOTÁ D.C.' cannot be translated to UTF-8, is it valid in 'CP1252'?”\n",
      "Warning message in load(\"saberpro.RData\"):\n",
      "“input string 'FUNDACION UNIVERSITARIA KONRAD LORENZ-BOGOTÁ D.C.' cannot be translated to UTF-8, is it valid in 'CP1252'?”\n",
      "Warning message in load(\"saberpro.RData\"):\n",
      "“input string 'FUNDACION UNIVERSITARIA LOS LIBERTADORES-BOGOTÁ D.C.' cannot be translated to UTF-8, is it valid in 'CP1252'?”\n",
      "Warning message in load(\"saberpro.RData\"):\n",
      "“input string 'FUNDACION UNIVERSITARIA MONSERRATE - UNIMONSERRATE-BOGOTÁ D.C.' cannot be translated to UTF-8, is it valid in 'CP1252'?”\n",
      "Warning message in load(\"saberpro.RData\"):\n",
      "“input string 'FUNDACION UNIVERSITARIA PARA EL DESARROLLO HUMANO - UNINPAHU-BOGOTÁ D.C.' cannot be translated to UTF-8, is it valid in 'CP1252'?”\n",
      "Warning message in load(\"saberpro.RData\"):\n",
      "“input string 'FUNDACION UNIVERSITARIA SAN MARTIN-BOGOTÁ D.C.' cannot be translated to UTF-8, is it valid in 'CP1252'?”\n",
      "Warning message in load(\"saberpro.RData\"):\n",
      "“input string 'FUNDACION UNIVERSITARIA SANITAS-BOGOTÁ D.C.' cannot be translated to UTF-8, is it valid in 'CP1252'?”\n",
      "Warning message in load(\"saberpro.RData\"):\n",
      "“input string 'IED ESCUELA NORMAL SUPERIOR MARÍA AUXILIADORA - SEDE PRINCIPAL-SANTA MARTA' cannot be translated to UTF-8, is it valid in 'CP1252'?”\n",
      "Warning message in load(\"saberpro.RData\"):\n",
      "“input string 'INSTITUCION UNIVERSITARIA COLEGIOS DE COLOMBIA -UNICOC-BOGOTÁ D.C.' cannot be translated to UTF-8, is it valid in 'CP1252'?”\n",
      "Warning message in load(\"saberpro.RData\"):\n",
      "“input string 'INSTITUCION UNIVERSITARIA COLOMBO AMERICANA - UNICA-BOGOTÁ D.C.' cannot be translated to UTF-8, is it valid in 'CP1252'?”\n",
      "Warning message in load(\"saberpro.RData\"):\n",
      "“input string 'INSTITUCION UNIVERSITARIA DE COLOMBIA - UNIVERSITARIA DE COLOMBIA-BOGOTÁ D.C.' cannot be translated to UTF-8, is it valid in 'CP1252'?”\n",
      "Warning message in load(\"saberpro.RData\"):\n",
      "“input string 'INSTITUCION UNIVERSITARIA LATINA - UNILATINA-BOGOTÁ D.C.' cannot be translated to UTF-8, is it valid in 'CP1252'?”\n",
      "Warning message in load(\"saberpro.RData\"):\n",
      "“input string 'POLITECNICO GRANCOLOMBIANO-BOGOTÁ D.C.' cannot be translated to UTF-8, is it valid in 'CP1252'?”\n",
      "Warning message in load(\"saberpro.RData\"):\n",
      "“input string 'PONTIFICIA UNIVERSIDAD JAVERIANA-BOGOTÁ D.C.' cannot be translated to UTF-8, is it valid in 'CP1252'?”\n",
      "Warning message in load(\"saberpro.RData\"):\n",
      "“input string 'UNIPANAMERICANA - FUNDACION UNIVERSITARIA PANAMERICANA-BOGOTÁ D.C.' cannot be translated to UTF-8, is it valid in 'CP1252'?”\n",
      "Warning message in load(\"saberpro.RData\"):\n",
      "“input string 'UNIVERSIDAD-COLEGIO MAYOR DE CUNDINAMARCA-BOGOTÁ D.C.' cannot be translated to UTF-8, is it valid in 'CP1252'?”\n",
      "Warning message in load(\"saberpro.RData\"):\n",
      "“input string 'UNIVERSIDAD ANTONIO NARIÑO-BOGOTÁ D.C.' cannot be translated to UTF-8, is it valid in 'CP1252'?”\n",
      "Warning message in load(\"saberpro.RData\"):\n",
      "“input string 'UNIVERSIDAD CATOLICA DE COLOMBIA-BOGOTÁ D.C.' cannot be translated to UTF-8, is it valid in 'CP1252'?”\n",
      "Warning message in load(\"saberpro.RData\"):\n",
      "“input string 'UNIVERSIDAD CENTRAL-BOGOTÁ D.C.' cannot be translated to UTF-8, is it valid in 'CP1252'?”\n",
      "Warning message in load(\"saberpro.RData\"):\n",
      "“input string 'UNIVERSIDAD COOPERATIVA DE COLOMBIA-BOGOTÁ D.C.' cannot be translated to UTF-8, is it valid in 'CP1252'?”\n",
      "Warning message in load(\"saberpro.RData\"):\n",
      "“input string 'UNIVERSIDAD DE CIENCIAS APLICADAS Y AMBIENTALES UDCA.-BOGOTÁ D.C.' cannot be translated to UTF-8, is it valid in 'CP1252'?”\n",
      "Warning message in load(\"saberpro.RData\"):\n",
      "“input string 'UNIVERSIDAD DE LA SALLE-BOGOTÁ D.C.' cannot be translated to UTF-8, is it valid in 'CP1252'?”\n",
      "Warning message in load(\"saberpro.RData\"):\n",
      "“input string 'UNIVERSIDAD DE LOS ANDES-BOGOTÁ D.C.' cannot be translated to UTF-8, is it valid in 'CP1252'?”\n",
      "Warning message in load(\"saberpro.RData\"):\n",
      "“input string 'UNIVERSIDAD DE SAN BUENAVENTURA-BOGOTÁ D.C.' cannot be translated to UTF-8, is it valid in 'CP1252'?”\n",
      "Warning message in load(\"saberpro.RData\"):\n",
      "“input string 'UNIVERSIDAD DISTRITALFRANCISCO JOSE DE CALDAS-BOGOTÁ D.C.' cannot be translated to UTF-8, is it valid in 'CP1252'?”\n",
      "Warning message in load(\"saberpro.RData\"):\n",
      "“input string 'UNIVERSIDAD EAN-BOGOTÁ D.C.' cannot be translated to UTF-8, is it valid in 'CP1252'?”\n",
      "Warning message in load(\"saberpro.RData\"):\n",
      "“input string 'UNIVERSIDAD ECCI-BOGOTÁ D.C.' cannot be translated to UTF-8, is it valid in 'CP1252'?”\n",
      "Warning message in load(\"saberpro.RData\"):\n",
      "“input string 'UNIVERSIDAD EL BOSQUE-BOGOTÁ D.C.' cannot be translated to UTF-8, is it valid in 'CP1252'?”\n",
      "Warning message in load(\"saberpro.RData\"):\n",
      "“input string 'UNIVERSIDAD EXTERNADO DE COLOMBIA-BOGOTÁ D.C.' cannot be translated to UTF-8, is it valid in 'CP1252'?”\n",
      "Warning message in load(\"saberpro.RData\"):\n",
      "“input string 'UNIVERSIDAD INCCA DE COLOMBIA-BOGOTÁ D.C.' cannot be translated to UTF-8, is it valid in 'CP1252'?”\n",
      "Warning message in load(\"saberpro.RData\"):\n",
      "“input string 'UNIVERSIDAD LA GRAN COLOMBIA-BOGOTÁ D.C.' cannot be translated to UTF-8, is it valid in 'CP1252'?”\n",
      "Warning message in load(\"saberpro.RData\"):\n",
      "“input string 'UNIVERSIDAD LIBRE-BOGOTÁ D.C.' cannot be translated to UTF-8, is it valid in 'CP1252'?”\n",
      "Warning message in load(\"saberpro.RData\"):\n",
      "“input string 'UNIVERSIDAD MANUELA BELTRAN-UMB--BOGOTÁ D.C.' cannot be translated to UTF-8, is it valid in 'CP1252'?”\n",
      "Warning message in load(\"saberpro.RData\"):\n",
      "“input string 'UNIVERSIDAD MILITARNUEVA GRANADA-BOGOTÁ D.C.' cannot be translated to UTF-8, is it valid in 'CP1252'?”\n",
      "Warning message in load(\"saberpro.RData\"):\n",
      "“input string 'UNIVERSIDAD NACIONAL ABIERTA Y A DISTANCIA UNAD-BOGOTÁ D.C.' cannot be translated to UTF-8, is it valid in 'CP1252'?”\n",
      "Warning message in load(\"saberpro.RData\"):\n",
      "“input string 'UNIVERSIDAD NACIONAL DE COLOMBIA-BOGOTÁ D.C.' cannot be translated to UTF-8, is it valid in 'CP1252'?”\n",
      "Warning message in load(\"saberpro.RData\"):\n",
      "“input string 'UNIVERSIDAD PEDAGOGICA NACIONAL-BOGOTÁ D.C.' cannot be translated to UTF-8, is it valid in 'CP1252'?”\n",
      "Warning message in load(\"saberpro.RData\"):\n",
      "“input string 'UNIVERSIDAD SANTO TOMAS-BOGOTÁ D.C.' cannot be translated to UTF-8, is it valid in 'CP1252'?”\n",
      "Warning message in load(\"saberpro.RData\"):\n",
      "“input string 'UNIVERSIDAD SERGIO ARBOLEDA-BOGOTÁ D.C.' cannot be translated to UTF-8, is it valid in 'CP1252'?”\n",
      "Warning message in load(\"saberpro.RData\"):\n",
      "“input string 'UNIVERSITARIA AGUSTINIANA- UNIAGUSTINIANA-BOGOTÁ D.C.' cannot be translated to UTF-8, is it valid in 'CP1252'?”\n",
      "Warning message in load(\"saberpro.RData\"):\n",
      "“input string 'UNIVERSITARIA VIRTUAL INTERNACIONAL-BOGOTÁ D.C.' cannot be translated to UTF-8, is it valid in 'CP1252'?”\n",
      "Warning message in load(\"saberpro.RData\"):\n",
      "“input string 'COLEGIO DE ESTUDIOS SUPERIORES DE ADMINISTRACION-CESA-BOGOTÃ D.C.' cannot be translated to UTF-8, is it valid in 'CP1252'?”\n",
      "Warning message in load(\"saberpro.RData\"):\n",
      "“input string 'COLEGIO MAYOR DE NUESTRA SEÃ‘ORA DEL ROSARIO-BOGOTÃ D.C.' cannot be translated to UTF-8, is it valid in 'CP1252'?”\n",
      "Warning message in load(\"saberpro.RData\"):\n",
      "“input string 'CORPORACION ESCUELA DE ARTES Y LETRAS-BOGOTÃ D.C.' cannot be translated to UTF-8, is it valid in 'CP1252'?”\n",
      "Warning message in load(\"saberpro.RData\"):\n",
      "“input string 'CORPORACION INTERNACIONAL PARA EL DESARROLLO EDUCATIVO -CIDE-BOGOTÃ D.C.' cannot be translated to UTF-8, is it valid in 'CP1252'?”\n",
      "Warning message in load(\"saberpro.RData\"):\n",
      "“input string 'CORPORACION TECNOLOGICA INDUSTRIAL COLOMBIANA - TEINCO-BOGOTÃ D.C.' cannot be translated to UTF-8, is it valid in 'CP1252'?”\n",
      "Warning message in load(\"saberpro.RData\"):\n",
      "“input string 'CORPORACION UNIFICADA NACIONAL DE EDUCACION SUPERIOR-CUN-BOGOTÃ D.C.' cannot be translated to UTF-8, is it valid in 'CP1252'?”\n",
      "Warning message in load(\"saberpro.RData\"):\n",
      "“input string 'CORPORACION UNIVERSIDAD PILOTO DE COLOMBIA-BOGOTÃ D.C.' cannot be translated to UTF-8, is it valid in 'CP1252'?”\n",
      "Warning message in load(\"saberpro.RData\"):\n",
      "“input string 'CORPORACION UNIVERSITARIA  UNITEC-BOGOTÃ D.C.' cannot be translated to UTF-8, is it valid in 'CP1252'?”\n",
      "Warning message in load(\"saberpro.RData\"):\n",
      "“input string 'CORPORACION UNIVERSITARIA CENDA-BOGOTÃ D.C.' cannot be translated to UTF-8, is it valid in 'CP1252'?”\n",
      "Warning message in load(\"saberpro.RData\"):\n",
      "“input string 'CORPORACION UNIVERSITARIA DE ASTURIAS-BOGOTÃ D.C.' cannot be translated to UTF-8, is it valid in 'CP1252'?”\n",
      "Warning message in load(\"saberpro.RData\"):\n",
      "“input string 'CORPORACION UNIVERSITARIA DE CIENCIA Y DESARROLLO - UNICIENCIA-BOGOTÃ D.C.' cannot be translated to UTF-8, is it valid in 'CP1252'?”\n",
      "Warning message in load(\"saberpro.RData\"):\n",
      "“input string 'CORPORACION UNIVERSITARIA DE COLOMBIA IDEAS-BOGOTÃ D.C.' cannot be translated to UTF-8, is it valid in 'CP1252'?”\n",
      "Warning message in load(\"saberpro.RData\"):\n",
      "“input string 'CORPORACION UNIVERSITARIA IBEROAMERICANA-BOGOTÃ D.C.' cannot be translated to UTF-8, is it valid in 'CP1252'?”\n",
      "Warning message in load(\"saberpro.RData\"):\n",
      "“input string 'CORPORACION UNIVERSITARIA MINUTO DE DIOS -UNIMINUTO-BOGOTÃ D.C.' cannot be translated to UTF-8, is it valid in 'CP1252'?”\n",
      "Warning message in load(\"saberpro.RData\"):\n",
      "“input string 'CORPORACION UNIVERSITARIA REPUBLICANA-BOGOTÃ D.C.' cannot be translated to UTF-8, is it valid in 'CP1252'?”\n",
      "Warning message in load(\"saberpro.RData\"):\n",
      "“input string 'CORPORACION UNIVERSITARIA TALLER CINCO CENTRO DE DISEÃ‘O-BOGOTÃ D.C.' cannot be translated to UTF-8, is it valid in 'CP1252'?”\n",
      "Warning message in load(\"saberpro.RData\"):\n",
      "“input string 'DIRECCION NACIONAL DE ESCUELAS-BOGOTÃ D.C.' cannot be translated to UTF-8, is it valid in 'CP1252'?”\n",
      "Warning message in load(\"saberpro.RData\"):\n",
      "“input string 'ESCUELA COLOMBIANA DE INGENIERIAJULIO GARAVITO-BOGOTÃ D.C.' cannot be translated to UTF-8, is it valid in 'CP1252'?”\n",
      "Warning message in load(\"saberpro.RData\"):\n",
      "“input string 'ESCUELA DE INGENIEROS MILITARES-BOGOTÃ D.C.' cannot be translated to UTF-8, is it valid in 'CP1252'?”\n",
      "Warning message in load(\"saberpro.RData\"):\n",
      "“input string 'ESCUELA DE INTELIGENCIA Y CONTRAINTELIGENCIA BRIGADIER GENERAL RICARDO CHARRY SOLANO-BOGOTÃ D.C.' cannot be translated to UTF-8, is it valid in 'CP1252'?”\n",
      "Warning message in load(\"saberpro.RData\"):\n",
      "“input string 'ESCUELA DE LOGISTICA-BOGOTÃ D.C.' cannot be translated to UTF-8, is it valid in 'CP1252'?”\n",
      "Warning message in load(\"saberpro.RData\"):\n",
      "“input string 'ESCUELA MILITAR DE CADETES GENERAL JOSE MARIA CORDOVA-BOGOTÃ D.C.' cannot be translated to UTF-8, is it valid in 'CP1252'?”\n",
      "Warning message in load(\"saberpro.RData\"):\n",
      "“input string 'ESCUELA SUPERIOR DE ADMINISTRACION PUBLICA-ESAP-BOGOTÃ D.C.' cannot be translated to UTF-8, is it valid in 'CP1252'?”\n",
      "Warning message in load(\"saberpro.RData\"):\n",
      "“input string 'ESCUELA TECNOLOGICA INSTITUTO TECNICO CENTRAL -BOGOTÃ D.C.' cannot be translated to UTF-8, is it valid in 'CP1252'?”\n",
      "Warning message in load(\"saberpro.RData\"):\n",
      "“input string 'FUNDACIÃ“N UNIVERSITARIA SAN ALFONSO- FUSA-BOGOTÃ D.C.' cannot be translated to UTF-8, is it valid in 'CP1252'?”\n",
      "Warning message in load(\"saberpro.RData\"):\n",
      "“input string 'FUNDACION DE EDUCACION SUPERIOR SAN JOSE -FESSANJOSE-BOGOTÃ D.C.' cannot be translated to UTF-8, is it valid in 'CP1252'?”\n",
      "Warning message in load(\"saberpro.RData\"):\n",
      "“input string 'FUNDACION ESCUELA COLOMBIANA DE REHABILITACION-BOGOTÃ D.C.' cannot be translated to UTF-8, is it valid in 'CP1252'?”\n",
      "Warning message in load(\"saberpro.RData\"):\n",
      "“input string 'FUNDACION PARA LA EDUCACION SUPERIOR SAN MATEO FUNDACION SAN MATEO-BOGOTÃ D.C.' cannot be translated to UTF-8, is it valid in 'CP1252'?”\n",
      "Warning message in load(\"saberpro.RData\"):\n",
      "“input string 'FUNDACION UNIVERSIDAD AUTONOMA DE COLOMBIA -FUAC--BOGOTÃ D.C.' cannot be translated to UTF-8, is it valid in 'CP1252'?”\n",
      "Warning message in load(\"saberpro.RData\"):\n",
      "“input string 'FUNDACION UNIVERSIDAD DE AMERICA-BOGOTÃ D.C.' cannot be translated to UTF-8, is it valid in 'CP1252'?”\n",
      "Warning message in load(\"saberpro.RData\"):\n",
      "“input string 'FUNDACION UNIVERSIDAD DE BOGOTAJORGE TADEO LOZANO-BOGOTÃ D.C.' cannot be translated to UTF-8, is it valid in 'CP1252'?”\n",
      "Warning message in load(\"saberpro.RData\"):\n",
      "“input string 'FUNDACION UNIVERSITARIA AGRARIA DE COLOMBIA -UNIAGRARIA-BOGOTÃ D.C.' cannot be translated to UTF-8, is it valid in 'CP1252'?”\n",
      "Warning message in load(\"saberpro.RData\"):\n",
      "“input string 'FUNDACION UNIVERSITARIA CAFAM-BOGOTÃ D.C.' cannot be translated to UTF-8, is it valid in 'CP1252'?”\n",
      "Warning message in load(\"saberpro.RData\"):\n",
      "“input string 'FUNDACION UNIVERSITARIA CERVANTINA SAN AGUSTIN - UNICERVANTINA SAN AGUSTIN-BOGOTÃ D.C.' cannot be translated to UTF-8, is it valid in 'CP1252'?”\n",
      "Warning message in load(\"saberpro.RData\"):\n",
      "“input string 'FUNDACION UNIVERSITARIA DE CIENCIAS DE LA SALUD-BOGOTÃ D.C.' cannot be translated to UTF-8, is it valid in 'CP1252'?”\n",
      "Warning message in load(\"saberpro.RData\"):\n",
      "“input string 'FUNDACION UNIVERSITARIA DEL AREA ANDINA-BOGOTÃ D.C.' cannot be translated to UTF-8, is it valid in 'CP1252'?”\n",
      "Warning message in load(\"saberpro.RData\"):\n",
      "“input string 'FUNDACION UNIVERSITARIA EMPRESARIAL DE LA CAMARA DE COMERCIO DE BogotÃ¡ -BOGOTÃ D.C.' cannot be translated to UTF-8, is it valid in 'CP1252'?”\n",
      "Warning message in load(\"saberpro.RData\"):\n",
      "“input string 'FUNDACION UNIVERSITARIA HORIZONTE-BOGOTÃ D.C.' cannot be translated to UTF-8, is it valid in 'CP1252'?”\n",
      "Warning message in load(\"saberpro.RData\"):\n",
      "“input string 'FUNDACION UNIVERSITARIA JUAN N. CORPAS-BOGOTÃ D.C.' cannot be translated to UTF-8, is it valid in 'CP1252'?”\n",
      "Warning message in load(\"saberpro.RData\"):\n",
      "“input string 'FUNDACION UNIVERSITARIA KONRAD LORENZ-BOGOTÃ D.C.' cannot be translated to UTF-8, is it valid in 'CP1252'?”\n",
      "Warning message in load(\"saberpro.RData\"):\n",
      "“input string 'FUNDACION UNIVERSITARIA LOS LIBERTADORES-BOGOTÃ D.C.' cannot be translated to UTF-8, is it valid in 'CP1252'?”\n",
      "Warning message in load(\"saberpro.RData\"):\n",
      "“input string 'FUNDACION UNIVERSITARIA MONSERRATE - UNIMONSERRATE-BOGOTÃ D.C.' cannot be translated to UTF-8, is it valid in 'CP1252'?”\n",
      "Warning message in load(\"saberpro.RData\"):\n",
      "“input string 'FUNDACION UNIVERSITARIA PARA EL DESARROLLO HUMANO - UNINPAHU-BOGOTÃ D.C.' cannot be translated to UTF-8, is it valid in 'CP1252'?”\n",
      "Warning message in load(\"saberpro.RData\"):\n",
      "“input string 'FUNDACION UNIVERSITARIA SAN MARTIN-BOGOTÃ D.C.' cannot be translated to UTF-8, is it valid in 'CP1252'?”\n",
      "Warning message in load(\"saberpro.RData\"):\n",
      "“input string 'FUNDACION UNIVERSITARIA SANITAS-BOGOTÃ D.C.' cannot be translated to UTF-8, is it valid in 'CP1252'?”\n",
      "Warning message in load(\"saberpro.RData\"):\n",
      "“input string 'INSTITUCION UNIVERSITARIA COLEGIOS DE COLOMBIA -UNICOC-BOGOTÃ D.C.' cannot be translated to UTF-8, is it valid in 'CP1252'?”\n",
      "Warning message in load(\"saberpro.RData\"):\n",
      "“input string 'INSTITUCION UNIVERSITARIA COLOMBO AMERICANA - UNICA-BOGOTÃ D.C.' cannot be translated to UTF-8, is it valid in 'CP1252'?”\n",
      "Warning message in load(\"saberpro.RData\"):\n",
      "“input string 'INSTITUCION UNIVERSITARIA DE COLOMBIA - UNIVERSITARIA DE COLOMBIA-BOGOTÃ D.C.' cannot be translated to UTF-8, is it valid in 'CP1252'?”\n",
      "Warning message in load(\"saberpro.RData\"):\n",
      "“input string 'INSTITUCION UNIVERSITARIA LATINA - UNILATINA-BOGOTÃ D.C.' cannot be translated to UTF-8, is it valid in 'CP1252'?”\n",
      "Warning message in load(\"saberpro.RData\"):\n",
      "“input string 'INSTITUTO SUPERIOR DE CIENCIAS SOCIALES Y ECONOMICO FAMILIARES-ICSEF-BOGOTÃ D.C.' cannot be translated to UTF-8, is it valid in 'CP1252'?”\n",
      "Warning message in load(\"saberpro.RData\"):\n",
      "“input string 'POLITECNICO GRANCOLOMBIANO-BOGOTÃ D.C.' cannot be translated to UTF-8, is it valid in 'CP1252'?”\n",
      "Warning message in load(\"saberpro.RData\"):\n",
      "“input string 'PONTIFICIA UNIVERSIDAD JAVERIANA-BOGOTÃ D.C.' cannot be translated to UTF-8, is it valid in 'CP1252'?”\n",
      "Warning message in load(\"saberpro.RData\"):\n",
      "“input string 'UNIPANAMERICANA - FUNDACION UNIVERSITARIA PANAMERICANA-BOGOTÃ D.C.' cannot be translated to UTF-8, is it valid in 'CP1252'?”\n",
      "Warning message in load(\"saberpro.RData\"):\n",
      "“input string 'UNIVERSIDAD-COLEGIO MAYOR DE CUNDINAMARCA-BOGOTÃ D.C.' cannot be translated to UTF-8, is it valid in 'CP1252'?”\n",
      "Warning message in load(\"saberpro.RData\"):\n",
      "“input string 'UNIVERSIDAD ANTONIO NARIÃ‘O-BOGOTÃ D.C.' cannot be translated to UTF-8, is it valid in 'CP1252'?”\n",
      "Warning message in load(\"saberpro.RData\"):\n",
      "“input string 'UNIVERSIDAD CATOLICA DE COLOMBIA-BOGOTÃ D.C.' cannot be translated to UTF-8, is it valid in 'CP1252'?”\n",
      "Warning message in load(\"saberpro.RData\"):\n",
      "“input string 'UNIVERSIDAD CENTRAL-BOGOTÃ D.C.' cannot be translated to UTF-8, is it valid in 'CP1252'?”\n",
      "Warning message in load(\"saberpro.RData\"):\n",
      "“input string 'UNIVERSIDAD COOPERATIVA DE COLOMBIA-BOGOTÃ D.C.' cannot be translated to UTF-8, is it valid in 'CP1252'?”\n",
      "Warning message in load(\"saberpro.RData\"):\n",
      "“input string 'UNIVERSIDAD DE CIENCIAS APLICADAS Y AMBIENTALES UDCA.-BOGOTÃ D.C.' cannot be translated to UTF-8, is it valid in 'CP1252'?”\n",
      "Warning message in load(\"saberpro.RData\"):\n",
      "“input string 'UNIVERSIDAD DE LA SALLE-BOGOTÃ D.C.' cannot be translated to UTF-8, is it valid in 'CP1252'?”\n",
      "Warning message in load(\"saberpro.RData\"):\n",
      "“input string 'UNIVERSIDAD DE LOS ANDES-BOGOTÃ D.C.' cannot be translated to UTF-8, is it valid in 'CP1252'?”\n",
      "Warning message in load(\"saberpro.RData\"):\n",
      "“input string 'UNIVERSIDAD DE SAN BUENAVENTURA-BOGOTÃ D.C.' cannot be translated to UTF-8, is it valid in 'CP1252'?”\n",
      "Warning message in load(\"saberpro.RData\"):\n",
      "“input string 'UNIVERSIDAD DISTRITALFRANCISCO JOSE DE CALDAS-BOGOTÃ D.C.' cannot be translated to UTF-8, is it valid in 'CP1252'?”\n",
      "Warning message in load(\"saberpro.RData\"):\n",
      "“input string 'UNIVERSIDAD EAN-BOGOTÃ D.C.' cannot be translated to UTF-8, is it valid in 'CP1252'?”\n",
      "Warning message in load(\"saberpro.RData\"):\n",
      "“input string 'UNIVERSIDAD ECCI-BOGOTÃ D.C.' cannot be translated to UTF-8, is it valid in 'CP1252'?”\n",
      "Warning message in load(\"saberpro.RData\"):\n",
      "“input string 'UNIVERSIDAD EL BOSQUE-BOGOTÃ D.C.' cannot be translated to UTF-8, is it valid in 'CP1252'?”\n",
      "Warning message in load(\"saberpro.RData\"):\n",
      "“input string 'UNIVERSIDAD EXTERNADO DE COLOMBIA-BOGOTÃ D.C.' cannot be translated to UTF-8, is it valid in 'CP1252'?”\n",
      "Warning message in load(\"saberpro.RData\"):\n",
      "“input string 'UNIVERSIDAD INCCA DE COLOMBIA-BOGOTÃ D.C.' cannot be translated to UTF-8, is it valid in 'CP1252'?”\n",
      "Warning message in load(\"saberpro.RData\"):\n",
      "“input string 'UNIVERSIDAD LA GRAN COLOMBIA-BOGOTÃ D.C.' cannot be translated to UTF-8, is it valid in 'CP1252'?”\n",
      "Warning message in load(\"saberpro.RData\"):\n",
      "“input string 'UNIVERSIDAD LIBRE-BOGOTÃ D.C.' cannot be translated to UTF-8, is it valid in 'CP1252'?”\n",
      "Warning message in load(\"saberpro.RData\"):\n",
      "“input string 'UNIVERSIDAD MANUELA BELTRAN-UMB--BOGOTÃ D.C.' cannot be translated to UTF-8, is it valid in 'CP1252'?”\n",
      "Warning message in load(\"saberpro.RData\"):\n",
      "“input string 'UNIVERSIDAD MILITARNUEVA GRANADA-BOGOTÃ D.C.' cannot be translated to UTF-8, is it valid in 'CP1252'?”\n",
      "Warning message in load(\"saberpro.RData\"):\n",
      "“input string 'UNIVERSIDAD NACIONAL ABIERTA Y A DISTANCIA UNAD-BOGOTÃ D.C.' cannot be translated to UTF-8, is it valid in 'CP1252'?”\n",
      "Warning message in load(\"saberpro.RData\"):\n",
      "“input string 'UNIVERSIDAD NACIONAL DE COLOMBIA-BOGOTÃ D.C.' cannot be translated to UTF-8, is it valid in 'CP1252'?”\n",
      "Warning message in load(\"saberpro.RData\"):\n",
      "“input string 'UNIVERSIDAD PEDAGOGICA NACIONAL-BOGOTÃ D.C.' cannot be translated to UTF-8, is it valid in 'CP1252'?”\n",
      "Warning message in load(\"saberpro.RData\"):\n",
      "“input string 'UNIVERSIDAD SANTO TOMAS-BOGOTÃ D.C.' cannot be translated to UTF-8, is it valid in 'CP1252'?”\n",
      "Warning message in load(\"saberpro.RData\"):\n",
      "“input string 'UNIVERSIDAD SERGIO ARBOLEDA-BOGOTÃ D.C.' cannot be translated to UTF-8, is it valid in 'CP1252'?”\n",
      "Warning message in load(\"saberpro.RData\"):\n",
      "“input string 'UNIVERSITARIA AGUSTINIANA- UNIAGUSTINIANA-BOGOTÃ D.C.' cannot be translated to UTF-8, is it valid in 'CP1252'?”\n",
      "Warning message in load(\"saberpro.RData\"):\n",
      "“input string 'UNIVERSITARIA VIRTUAL INTERNACIONAL-BOGOTÃ D.C.' cannot be translated to UTF-8, is it valid in 'CP1252'?”\n",
      "Warning message in load(\"saberpro.RData\"):\n",
      "“input string 'ELITE- ESCUELA LATINOAMERICANA DE INGENIEROS, TECNOLOGOS Y EMPRESARIOS-BOGOTÃ D.C.' cannot be translated to UTF-8, is it valid in 'CP1252'?”\n",
      "Warning message in load(\"saberpro.RData\"):\n",
      "“input string 'ESCUELA COLOMBIANA DE INGENIERIA\"JULIO GARAVITO\"-BOGOTÃ D.C.' cannot be translated to UTF-8, is it valid in 'CP1252'?”\n",
      "Warning message in load(\"saberpro.RData\"):\n",
      "“input string 'ESCUELA MILITAR DE CADETES \"GENERAL JOSE MARIA CORDOVA\"-BOGOTÃ D.C.' cannot be translated to UTF-8, is it valid in 'CP1252'?”\n",
      "Warning message in load(\"saberpro.RData\"):\n",
      "“input string 'FUNDACION CENTRO DE EDUCACION SUPERIOR,INVESTIGACION Y PROFESIONALIZACION -CEDINPRO-BOGOTÃ D.C.' cannot be translated to UTF-8, is it valid in 'CP1252'?”\n",
      "Warning message in load(\"saberpro.RData\"):\n",
      "“input string 'FUNDACION PARA LA EDUCACION SUPERIOR SAN MATEO \"FUNDACION SAN MATEO\"-BOGOTÃ D.C.' cannot be translated to UTF-8, is it valid in 'CP1252'?”\n",
      "Warning message in load(\"saberpro.RData\"):\n",
      "“input string 'FUNDACION UNIVERSIDAD DE BOGOTA\"JORGE TADEO LOZANO\"-BOGOTÃ D.C.' cannot be translated to UTF-8, is it valid in 'CP1252'?”\n",
      "Warning message in load(\"saberpro.RData\"):\n",
      "“input string 'UNIVERSIDAD DISTRITAL\"FRANCISCO JOSE DE CALDAS\"-BOGOTÃ D.C.' cannot be translated to UTF-8, is it valid in 'CP1252'?”\n",
      "Warning message in load(\"saberpro.RData\"):\n",
      "“input string 'UNIVERSIDAD MILITAR\"NUEVA GRANADA\"-BOGOTÃ D.C.' cannot be translated to UTF-8, is it valid in 'CP1252'?”\n"
     ]
    },
    {
     "data": {
      "text/html": [
       "<table>\n",
       "<caption>A data.frame: 6 × 16</caption>\n",
       "<thead>\n",
       "\t<tr><th></th><th scope=col>periodo</th><th scope=col>apli_consecutivo</th><th scope=col>estu_depto_reside</th><th scope=col>estu_cod_reside_depto</th><th scope=col>inst_cod_institucion</th><th scope=col>inst_nombre_institucion</th><th scope=col>raz_cuant_punt</th><th scope=col>raz_cuant_des</th><th scope=col>lect_crit_punt</th><th scope=col>lect_crit_des</th><th scope=col>comp_ciud_punt</th><th scope=col>comp_ciud_des</th><th scope=col>ingles_punt</th><th scope=col>ingles_desem</th><th scope=col>comu_escr_punt</th><th scope=col>comu_escr_des</th></tr>\n",
       "\t<tr><th></th><th scope=col>&lt;int&gt;</th><th scope=col>&lt;fct&gt;</th><th scope=col>&lt;fct&gt;</th><th scope=col>&lt;int&gt;</th><th scope=col>&lt;int&gt;</th><th scope=col>&lt;fct&gt;</th><th scope=col>&lt;int&gt;</th><th scope=col>&lt;int&gt;</th><th scope=col>&lt;int&gt;</th><th scope=col>&lt;int&gt;</th><th scope=col>&lt;int&gt;</th><th scope=col>&lt;int&gt;</th><th scope=col>&lt;int&gt;</th><th scope=col>&lt;fct&gt;</th><th scope=col>&lt;int&gt;</th><th scope=col>&lt;int&gt;</th></tr>\n",
       "</thead>\n",
       "<tbody>\n",
       "\t<tr><th scope=row>1</th><td>20163</td><td>EK201630062726</td><td>ATLANTICO   </td><td> 8</td><td> 1202</td><td>UNIVERSIDAD DEL ATLANTICO-BARRANQUILLA                                    </td><td>160</td><td>3</td><td>130</td><td>2</td><td>167</td><td>3</td><td>160</td><td>A2 </td><td>155</td><td>3</td></tr>\n",
       "\t<tr><th scope=row>2</th><td>20163</td><td>EK201630208121</td><td>CUNDINAMARCA</td><td>25</td><td> 2725</td><td>POLITECNICO GRANCOLOMBIANO-BOGOTÁ D.C.                                    </td><td>138</td><td>2</td><td>132</td><td>2</td><td> 77</td><td>1</td><td>125</td><td>A1 </td><td>164</td><td>3</td></tr>\n",
       "\t<tr><th scope=row>3</th><td>20163</td><td>EK201630220210</td><td>CALDAS      </td><td>17</td><td> 2829</td><td>CORPORACION UNIVERSITARIA MINUTO DE DIOS -UNIMINUTO-BOGOTÁ D.C.           </td><td>146</td><td>2</td><td>157</td><td>2</td><td>150</td><td>2</td><td>104</td><td>A1-</td><td>122</td><td>2</td></tr>\n",
       "\t<tr><th scope=row>4</th><td>20163</td><td>EK201630180243</td><td>MAGDALENA   </td><td>47</td><td>10413</td><td>IED ESCUELA NORMAL SUPERIOR MARÍA AUXILIADORA - SEDE PRINCIPAL-SANTA MARTA</td><td>160</td><td>3</td><td>172</td><td>3</td><td>151</td><td>2</td><td>160</td><td>A2 </td><td>192</td><td>4</td></tr>\n",
       "\t<tr><th scope=row>5</th><td>20163</td><td>EK201630225077</td><td>CORDOBA     </td><td>23</td><td> 1113</td><td>UNIVERSIDAD DE CORDOBA-MONTERIA                                           </td><td>130</td><td>2</td><td>122</td><td>1</td><td>144</td><td>2</td><td>192</td><td>B1 </td><td>131</td><td>2</td></tr>\n",
       "\t<tr><th scope=row>6</th><td>20163</td><td>EK201630189735</td><td>CAUCA       </td><td>19</td><td> 1807</td><td>UNIVERSIDAD LIBRE-CALI                                                    </td><td>159</td><td>3</td><td>129</td><td>2</td><td>147</td><td>2</td><td>108</td><td>A1-</td><td>154</td><td>3</td></tr>\n",
       "</tbody>\n",
       "</table>\n"
      ],
      "text/latex": [
       "A data.frame: 6 × 16\n",
       "\\begin{tabular}{r|llllllllllllllll}\n",
       "  & periodo & apli\\_consecutivo & estu\\_depto\\_reside & estu\\_cod\\_reside\\_depto & inst\\_cod\\_institucion & inst\\_nombre\\_institucion & raz\\_cuant\\_punt & raz\\_cuant\\_des & lect\\_crit\\_punt & lect\\_crit\\_des & comp\\_ciud\\_punt & comp\\_ciud\\_des & ingles\\_punt & ingles\\_desem & comu\\_escr\\_punt & comu\\_escr\\_des\\\\\n",
       "  & <int> & <fct> & <fct> & <int> & <int> & <fct> & <int> & <int> & <int> & <int> & <int> & <int> & <int> & <fct> & <int> & <int>\\\\\n",
       "\\hline\n",
       "\t1 & 20163 & EK201630062726 & ATLANTICO    &  8 &  1202 & UNIVERSIDAD DEL ATLANTICO-BARRANQUILLA                                     & 160 & 3 & 130 & 2 & 167 & 3 & 160 & A2  & 155 & 3\\\\\n",
       "\t2 & 20163 & EK201630208121 & CUNDINAMARCA & 25 &  2725 & POLITECNICO GRANCOLOMBIANO-BOGOTÁ D.C.                                     & 138 & 2 & 132 & 2 &  77 & 1 & 125 & A1  & 164 & 3\\\\\n",
       "\t3 & 20163 & EK201630220210 & CALDAS       & 17 &  2829 & CORPORACION UNIVERSITARIA MINUTO DE DIOS -UNIMINUTO-BOGOTÁ D.C.            & 146 & 2 & 157 & 2 & 150 & 2 & 104 & A1- & 122 & 2\\\\\n",
       "\t4 & 20163 & EK201630180243 & MAGDALENA    & 47 & 10413 & IED ESCUELA NORMAL SUPERIOR MARÍA AUXILIADORA - SEDE PRINCIPAL-SANTA MARTA & 160 & 3 & 172 & 3 & 151 & 2 & 160 & A2  & 192 & 4\\\\\n",
       "\t5 & 20163 & EK201630225077 & CORDOBA      & 23 &  1113 & UNIVERSIDAD DE CORDOBA-MONTERIA                                            & 130 & 2 & 122 & 1 & 144 & 2 & 192 & B1  & 131 & 2\\\\\n",
       "\t6 & 20163 & EK201630189735 & CAUCA        & 19 &  1807 & UNIVERSIDAD LIBRE-CALI                                                     & 159 & 3 & 129 & 2 & 147 & 2 & 108 & A1- & 154 & 3\\\\\n",
       "\\end{tabular}\n"
      ],
      "text/markdown": [
       "\n",
       "A data.frame: 6 × 16\n",
       "\n",
       "| <!--/--> | periodo &lt;int&gt; | apli_consecutivo &lt;fct&gt; | estu_depto_reside &lt;fct&gt; | estu_cod_reside_depto &lt;int&gt; | inst_cod_institucion &lt;int&gt; | inst_nombre_institucion &lt;fct&gt; | raz_cuant_punt &lt;int&gt; | raz_cuant_des &lt;int&gt; | lect_crit_punt &lt;int&gt; | lect_crit_des &lt;int&gt; | comp_ciud_punt &lt;int&gt; | comp_ciud_des &lt;int&gt; | ingles_punt &lt;int&gt; | ingles_desem &lt;fct&gt; | comu_escr_punt &lt;int&gt; | comu_escr_des &lt;int&gt; |\n",
       "|---|---|---|---|---|---|---|---|---|---|---|---|---|---|---|---|---|\n",
       "| 1 | 20163 | EK201630062726 | ATLANTICO    |  8 |  1202 | UNIVERSIDAD DEL ATLANTICO-BARRANQUILLA                                     | 160 | 3 | 130 | 2 | 167 | 3 | 160 | A2  | 155 | 3 |\n",
       "| 2 | 20163 | EK201630208121 | CUNDINAMARCA | 25 |  2725 | POLITECNICO GRANCOLOMBIANO-BOGOTÁ D.C.                                     | 138 | 2 | 132 | 2 |  77 | 1 | 125 | A1  | 164 | 3 |\n",
       "| 3 | 20163 | EK201630220210 | CALDAS       | 17 |  2829 | CORPORACION UNIVERSITARIA MINUTO DE DIOS -UNIMINUTO-BOGOTÁ D.C.            | 146 | 2 | 157 | 2 | 150 | 2 | 104 | A1- | 122 | 2 |\n",
       "| 4 | 20163 | EK201630180243 | MAGDALENA    | 47 | 10413 | IED ESCUELA NORMAL SUPERIOR MARÍA AUXILIADORA - SEDE PRINCIPAL-SANTA MARTA | 160 | 3 | 172 | 3 | 151 | 2 | 160 | A2  | 192 | 4 |\n",
       "| 5 | 20163 | EK201630225077 | CORDOBA      | 23 |  1113 | UNIVERSIDAD DE CORDOBA-MONTERIA                                            | 130 | 2 | 122 | 1 | 144 | 2 | 192 | B1  | 131 | 2 |\n",
       "| 6 | 20163 | EK201630189735 | CAUCA        | 19 |  1807 | UNIVERSIDAD LIBRE-CALI                                                     | 159 | 3 | 129 | 2 | 147 | 2 | 108 | A1- | 154 | 3 |\n",
       "\n"
      ],
      "text/plain": [
       "  periodo apli_consecutivo estu_depto_reside estu_cod_reside_depto\n",
       "1 20163   EK201630062726   ATLANTICO          8                   \n",
       "2 20163   EK201630208121   CUNDINAMARCA      25                   \n",
       "3 20163   EK201630220210   CALDAS            17                   \n",
       "4 20163   EK201630180243   MAGDALENA         47                   \n",
       "5 20163   EK201630225077   CORDOBA           23                   \n",
       "6 20163   EK201630189735   CAUCA             19                   \n",
       "  inst_cod_institucion\n",
       "1  1202               \n",
       "2  2725               \n",
       "3  2829               \n",
       "4 10413               \n",
       "5  1113               \n",
       "6  1807               \n",
       "  inst_nombre_institucion                                                   \n",
       "1 UNIVERSIDAD DEL ATLANTICO-BARRANQUILLA                                    \n",
       "2 POLITECNICO GRANCOLOMBIANO-BOGOTÁ D.C.                                    \n",
       "3 CORPORACION UNIVERSITARIA MINUTO DE DIOS -UNIMINUTO-BOGOTÁ D.C.           \n",
       "4 IED ESCUELA NORMAL SUPERIOR MARÍA AUXILIADORA - SEDE PRINCIPAL-SANTA MARTA\n",
       "5 UNIVERSIDAD DE CORDOBA-MONTERIA                                           \n",
       "6 UNIVERSIDAD LIBRE-CALI                                                    \n",
       "  raz_cuant_punt raz_cuant_des lect_crit_punt lect_crit_des comp_ciud_punt\n",
       "1 160            3             130            2             167           \n",
       "2 138            2             132            2              77           \n",
       "3 146            2             157            2             150           \n",
       "4 160            3             172            3             151           \n",
       "5 130            2             122            1             144           \n",
       "6 159            3             129            2             147           \n",
       "  comp_ciud_des ingles_punt ingles_desem comu_escr_punt comu_escr_des\n",
       "1 3             160         A2           155            3            \n",
       "2 1             125         A1           164            3            \n",
       "3 2             104         A1-          122            2            \n",
       "4 2             160         A2           192            4            \n",
       "5 2             192         B1           131            2            \n",
       "6 2             108         A1-          154            3            "
      ]
     },
     "metadata": {},
     "output_type": "display_data"
    }
   ],
=======
   "execution_count": 6,
   "metadata": {},
   "outputs": [],
>>>>>>> Stashed changes
   "source": [
    "saberpro<-get(load(\"saberpro.RData\"))\n",
    "#head(saberpro) #Cargamos los datos en una variable llamada \"saberpro\" e imprimimos los 6 primeros datos."
   ]
  },
  {
   "cell_type": "code",
<<<<<<< Updated upstream
   "execution_count": 4,
=======
   "execution_count": 11,
>>>>>>> Stashed changes
   "metadata": {},
   "outputs": [
    {
     "data": {
      "text/html": [
       "<style>\n",
       ".list-inline {list-style: none; margin:0; padding: 0}\n",
       ".list-inline>li {display: inline-block}\n",
       ".list-inline>li:not(:last-child)::after {content: \"\\00b7\"; padding: 0 .5ex}\n",
       "</style>\n",
       "<ol class=list-inline><li>725295</li><li>16</li></ol>\n"
      ],
      "text/latex": [
       "\\begin{enumerate*}\n",
       "\\item 725295\n",
       "\\item 16\n",
       "\\end{enumerate*}\n"
      ],
      "text/markdown": [
       "1. 725295\n",
       "2. 16\n",
       "\n",
       "\n"
      ],
      "text/plain": [
       "[1] 725295     16"
      ]
     },
     "metadata": {},
     "output_type": "display_data"
    }
   ],
   "source": [
    "dim(saberpro) #Cantidad de columnas y filas del dataframe"
   ]
  },
  {
   "cell_type": "markdown",
   "metadata": {},
   "source": [
    "## Arreglo de la Variable Periodo "
   ]
  },
  {
   "cell_type": "code",
   "execution_count": 19,
   "metadata": {},
   "outputs": [
    {
     "data": {
      "text/html": [
       "<style>\n",
       ".list-inline {list-style: none; margin:0; padding: 0}\n",
       ".list-inline>li {display: inline-block}\n",
       ".list-inline>li:not(:last-child)::after {content: \"\\00b7\"; padding: 0 .5ex}\n",
       "</style>\n",
       "<ol class=list-inline><li>20163</li><li>20162</li><li>20173</li><li>20172</li><li>20183</li><li>20182</li><li>20184</li></ol>\n"
      ],
      "text/latex": [
       "\\begin{enumerate*}\n",
       "\\item 20163\n",
       "\\item 20162\n",
       "\\item 20173\n",
       "\\item 20172\n",
       "\\item 20183\n",
       "\\item 20182\n",
       "\\item 20184\n",
       "\\end{enumerate*}\n"
      ],
      "text/markdown": [
       "1. 20163\n",
       "2. 20162\n",
       "3. 20173\n",
       "4. 20172\n",
       "5. 20183\n",
       "6. 20182\n",
       "7. 20184\n",
       "\n",
       "\n"
      ],
      "text/plain": [
       "[1] 20163 20162 20173 20172 20183 20182 20184"
      ]
     },
     "metadata": {},
     "output_type": "display_data"
    }
   ],
   "source": [
    "unique(saberpro[,1])"
   ]
  },
  {
   "cell_type": "markdown",
   "metadata": {},
   "source": [
    "Encontramos los valores unicos, para ver las diferentes unidades sin repetición de la variable periodo. Podemos deducir que los años que pueden estar en el dataset son 2016, 2017, 2018. Las unidades contenidas en la variable periodo tienen un número extra final en cada unidad, por ejemplo el 2016, tienen un valor 20162 en la variable. Para arreglar este error, se sugiere el uso de la función \"ravalue\" la cual recibe como parámetro un vector el cual desea ser cambiado, su segundo parámetro es vector de caracteres con nombre, con valores nuevos como valores y valores antiguos como nombres. Y como último parámetro tiene un warning que será mostrado en el caso de que un valor que se desea reemplazar del segundo parámetro no se encuentra contenido en el primero.\n",
    "\n",
    "El función revalue funciona de forma sencilla e intuitiva, recibe un vector con valores que queremos cambiar, luego le pasamos un vector mencionando que valores queremos cambiar y porqué valores cambiarlos.\n",
    " \n",
    "Sin embargo esta función no nos va servir, porque sus parámetros deben ser de tipo fct, o character, es por esto que usaremos una función similar llamada mapvalues, que toma 3 parámetros, el primero es el vector que queremos cambiar, el segundo los valores dentro del vector que vamos a cambiar, y el tercero un vector con los valores que se reemplazaran en el orden respectivo del segundo parámetro.\n"
   ]
  },
  {
   "cell_type": "code",
   "execution_count": 63,
   "metadata": {},
   "outputs": [],
   "source": [
    "#install.packeges('plyr')\n",
    "library(plyr)\n",
    "library(tidyverse)"
   ]
  },
  {
   "cell_type": "code",
   "execution_count": 51,
   "metadata": {},
   "outputs": [
    {
     "name": "stderr",
     "output_type": "stream",
     "text": [
      "The following `from` values were not present in `x`: 20173, 20172\n",
      "\n",
      "The following `from` values were not present in `x`: 20183, 20182, 20184\n",
      "\n"
     ]
    }
   ],
   "source": [
    "saberpro[,1]<- mapvalues(saberpro[,1],from=c(20163,20162),to=c(2016,2016))\n",
    "saberpro[,1]<- mapvalues(saberpro[,1],from=c(20173,20172),to=c(2017,2017))\n",
    "saberpro[,1]<- mapvalues(saberpro[,1],from=c(20183,20182,20184),to=c(2018,2018,2018))"
   ]
  },
  {
   "cell_type": "code",
   "execution_count": 53,
   "metadata": {},
   "outputs": [
    {
     "data": {
      "text/html": [
       "<style>\n",
       ".list-inline {list-style: none; margin:0; padding: 0}\n",
       ".list-inline>li {display: inline-block}\n",
       ".list-inline>li:not(:last-child)::after {content: \"\\00b7\"; padding: 0 .5ex}\n",
       "</style>\n",
       "<ol class=list-inline><li>2016</li><li>2017</li><li>2018</li></ol>\n"
      ],
      "text/latex": [
       "\\begin{enumerate*}\n",
       "\\item 2016\n",
       "\\item 2017\n",
       "\\item 2018\n",
       "\\end{enumerate*}\n"
      ],
      "text/markdown": [
       "1. 2016\n",
       "2. 2017\n",
       "3. 2018\n",
       "\n",
       "\n"
      ],
      "text/plain": [
       "[1] 2016 2017 2018"
      ]
     },
     "metadata": {},
     "output_type": "display_data"
    }
   ],
   "source": [
    "unique(saberpro[,1]) # Comprobamos que haya funcionado"
   ]
  },
  {
   "cell_type": "markdown",
   "metadata": {},
   "source": [
    "## 1. Realice muestreo aleatorio simple y realice las estimaciones (inferencia) correspondientes. Tenga en cuenta que son múltiples variables"
   ]
  },
  {
   "cell_type": "markdown",
   "metadata": {},
   "source": [
    "Calculamos primero el tamaño de la muestra dando la probabilidad de exito p=0.5 y la probabilidad de fracaso q=0.5 ya que hay una posibilidad de ser encuestado como hay otra que no."
   ]
  },
  {
   "cell_type": "code",
   "execution_count": 13,
   "metadata": {},
   "outputs": [
    {
     "name": "stdout",
     "output_type": "stream",
     "text": [
      "\n",
      "sample.size.prop object: Sample size for proportion estimate\n",
      "With finite population correction: N=725295, precision e=0.05 and expected proportion P=0.5\n",
      "\n",
      "Sample size needed: 384\n",
      "\n"
     ]
    }
   ],
   "source": [
    "muestra<-sample.size.prop(e=0.05, P = 0.5, N = 725295 , level = 0.95)\n",
    "print(muestra)"
   ]
  },
  {
   "cell_type": "code",
<<<<<<< Updated upstream
   "execution_count": 54,
=======
   "execution_count": 16,
>>>>>>> Stashed changes
   "metadata": {},
   "outputs": [],
   "source": [
    "puntajes<-data.frame(puntajeing=saberpro$ingles_punt, puntajelec=saberpro$lect_crit_punt, puntajeraz=saberpro$raz_cuant_punt )"
   ]
  },
  {
   "cell_type": "code",
<<<<<<< Updated upstream
   "execution_count": 55,
=======
   "execution_count": 17,
>>>>>>> Stashed changes
   "metadata": {},
   "outputs": [
    {
     "data": {
      "text/html": [
<<<<<<< Updated upstream
       "<style>\n",
       ".list-inline {list-style: none; margin:0; padding: 0}\n",
       ".list-inline>li {display: inline-block}\n",
       ".list-inline>li:not(:last-child)::after {content: \"\\00b7\"; padding: 0 .5ex}\n",
       "</style>\n",
       "<ol class=list-inline><li>514674</li><li>298993</li><li>447757</li><li>378991</li><li>706086</li><li>459652</li></ol>\n"
      ],
      "text/latex": [
       "\\begin{enumerate*}\n",
       "\\item 514674\n",
       "\\item 298993\n",
       "\\item 447757\n",
       "\\item 378991\n",
       "\\item 706086\n",
       "\\item 459652\n",
       "\\end{enumerate*}\n"
      ],
      "text/markdown": [
       "1. 514674\n",
       "2. 298993\n",
       "3. 447757\n",
       "4. 378991\n",
       "5. 706086\n",
       "6. 459652\n",
=======
       "<ol class=list-inline>\n",
       "\t<li>149226</li>\n",
       "\t<li>556557</li>\n",
       "\t<li>66400</li>\n",
       "\t<li>240243</li>\n",
       "\t<li>429287</li>\n",
       "\t<li>387897</li>\n",
       "</ol>\n"
      ],
      "text/latex": [
       "\\begin{enumerate*}\n",
       "\\item 149226\n",
       "\\item 556557\n",
       "\\item 66400\n",
       "\\item 240243\n",
       "\\item 429287\n",
       "\\item 387897\n",
       "\\end{enumerate*}\n"
      ],
      "text/markdown": [
       "1. 149226\n",
       "2. 556557\n",
       "3. 66400\n",
       "4. 240243\n",
       "5. 429287\n",
       "6. 387897\n",
>>>>>>> Stashed changes
       "\n",
       "\n"
      ],
      "text/plain": [
<<<<<<< Updated upstream
       "[1] 514674 298993 447757 378991 706086 459652"
=======
       "[1] 149226 556557  66400 240243 429287 387897"
>>>>>>> Stashed changes
      ]
     },
     "metadata": {},
     "output_type": "display_data"
    }
   ],
   "source": [
    "n1<-100\n",
    "n2<-200\n",
    "n3<-500\n",
    "n4<-1000\n",
    "muestra1<- sample(1:nrow(puntajes),size=n1,replace=FALSE)\n",
    "muestra2<- sample(1:nrow(puntajes),size=n2,replace=FALSE)\n",
    "muestra3<- sample(1:nrow(puntajes),size=n3,replace=FALSE)\n",
    "muestra4<- sample(1:nrow(puntajes),size=n4,replace=FALSE)\n",
    "head(muestra3)"
   ]
  },
  {
   "cell_type": "code",
<<<<<<< Updated upstream
   "execution_count": 56,
=======
   "execution_count": 18,
>>>>>>> Stashed changes
   "metadata": {},
   "outputs": [
    {
     "data": {
<<<<<<< Updated upstream
      "image/png": "iVBORw0KGgoAAAANSUhEUgAAA0gAAANICAMAAADKOT/pAAADAFBMVEUAAAABAQECAgIDAwME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\n3dEAAAAASUVORK5CYII=",
=======
      "image/png": "iVBORw0KGgoAAAANSUhEUgAAA0gAAANICAMAAADKOT/pAAAAMFBMVEUAAABNTU1oaGh8fHyM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",
>>>>>>> Stashed changes
      "text/plain": [
       "Plot with title “Histogram of puntajeing”"
      ]
     },
     "metadata": {
      "image/png": {
       "height": 420,
       "width": 420
      },
      "text/plain": {
       "height": 420,
       "width": 420
      }
     },
     "output_type": "display_data"
    }
   ],
   "source": [
    "par(mfrow=c(2,1))\n",
    "with(puntajeing[muestra3,], plot(puntajeing, pch = 20))\n",
    "with(puntajeing[muestra3,], hist(puntajeing, nclass = 50))\n",
    "par(mfrow=c(1,1))"
   ]
  },
  {
   "cell_type": "code",
<<<<<<< Updated upstream
   "execution_count": 57,
=======
   "execution_count": 19,
>>>>>>> Stashed changes
   "metadata": {},
   "outputs": [
    {
     "data": {
      "text/html": [
       "<table>\n",
<<<<<<< Updated upstream
       "<caption>A data.frame: 6 × 3</caption>\n",
       "<thead>\n",
       "\t<tr><th></th><th scope=col>codigo</th><th scope=col>puntajeing</th><th scope=col>dpto</th></tr>\n",
       "\t<tr><th></th><th scope=col>&lt;int&gt;</th><th scope=col>&lt;int&gt;</th><th scope=col>&lt;fct&gt;</th></tr>\n",
       "</thead>\n",
       "<tbody>\n",
       "\t<tr><th scope=row>1</th><td> 8</td><td>160</td><td>ATLANTICO   </td></tr>\n",
       "\t<tr><th scope=row>2</th><td>25</td><td>125</td><td>CUNDINAMARCA</td></tr>\n",
       "\t<tr><th scope=row>3</th><td>17</td><td>104</td><td>CALDAS      </td></tr>\n",
       "\t<tr><th scope=row>4</th><td>47</td><td>160</td><td>MAGDALENA   </td></tr>\n",
       "\t<tr><th scope=row>5</th><td>23</td><td>192</td><td>CORDOBA     </td></tr>\n",
       "\t<tr><th scope=row>6</th><td>19</td><td>108</td><td>CAUCA       </td></tr>\n",
=======
       "<thead><tr><th scope=col>puntajeing</th><th scope=col>puntajelec</th><th scope=col>puntajeraz</th></tr></thead>\n",
       "<tbody>\n",
       "\t<tr><td>160</td><td>130</td><td>160</td></tr>\n",
       "\t<tr><td>125</td><td>132</td><td>138</td></tr>\n",
       "\t<tr><td>104</td><td>157</td><td>146</td></tr>\n",
       "\t<tr><td>160</td><td>172</td><td>160</td></tr>\n",
       "\t<tr><td>192</td><td>122</td><td>130</td></tr>\n",
       "\t<tr><td>108</td><td>129</td><td>159</td></tr>\n",
>>>>>>> Stashed changes
       "</tbody>\n",
       "</table>\n"
      ],
      "text/latex": [
       "A data.frame: 6 × 3\n",
       "\\begin{tabular}{r|lll}\n",
<<<<<<< Updated upstream
       "  & codigo & puntajeing & dpto\\\\\n",
       "  & <int> & <int> & <fct>\\\\\n",
       "\\hline\n",
       "\t1 &  8 & 160 & ATLANTICO   \\\\\n",
       "\t2 & 25 & 125 & CUNDINAMARCA\\\\\n",
       "\t3 & 17 & 104 & CALDAS      \\\\\n",
       "\t4 & 47 & 160 & MAGDALENA   \\\\\n",
       "\t5 & 23 & 192 & CORDOBA     \\\\\n",
       "\t6 & 19 & 108 & CAUCA       \\\\\n",
=======
       " puntajeing & puntajelec & puntajeraz\\\\\n",
       "\\hline\n",
       "\t 160 & 130 & 160\\\\\n",
       "\t 125 & 132 & 138\\\\\n",
       "\t 104 & 157 & 146\\\\\n",
       "\t 160 & 172 & 160\\\\\n",
       "\t 192 & 122 & 130\\\\\n",
       "\t 108 & 129 & 159\\\\\n",
>>>>>>> Stashed changes
       "\\end{tabular}\n"
      ],
      "text/markdown": [
       "\n",
<<<<<<< Updated upstream
       "A data.frame: 6 × 3\n",
       "\n",
       "| <!--/--> | codigo &lt;int&gt; | puntajeing &lt;int&gt; | dpto &lt;fct&gt; |\n",
       "|---|---|---|---|\n",
       "| 1 |  8 | 160 | ATLANTICO    |\n",
       "| 2 | 25 | 125 | CUNDINAMARCA |\n",
       "| 3 | 17 | 104 | CALDAS       |\n",
       "| 4 | 47 | 160 | MAGDALENA    |\n",
       "| 5 | 23 | 192 | CORDOBA      |\n",
       "| 6 | 19 | 108 | CAUCA        |\n",
=======
       "| puntajeing | puntajelec | puntajeraz |\n",
       "|---|---|---|\n",
       "| 160 | 130 | 160 |\n",
       "| 125 | 132 | 138 |\n",
       "| 104 | 157 | 146 |\n",
       "| 160 | 172 | 160 |\n",
       "| 192 | 122 | 130 |\n",
       "| 108 | 129 | 159 |\n",
>>>>>>> Stashed changes
       "\n"
      ],
      "text/plain": [
       "  puntajeing puntajelec puntajeraz\n",
       "1 160        130        160       \n",
       "2 125        132        138       \n",
       "3 104        157        146       \n",
       "4 160        172        160       \n",
       "5 192        122        130       \n",
       "6 108        129        159       "
      ]
     },
     "metadata": {},
     "output_type": "display_data"
    }
   ],
   "source": [
    "head(puntajes)"
   ]
  },
  {
   "cell_type": "code",
<<<<<<< Updated upstream
   "execution_count": 58,
=======
   "execution_count": 22,
>>>>>>> Stashed changes
   "metadata": {},
   "outputs": [
    {
     "data": {
      "text/html": [
       "<table>\n",
<<<<<<< Updated upstream
       "<caption>A data.frame: 5 × 4</caption>\n",
       "<thead>\n",
       "\t<tr><th></th><th scope=col>pop</th><th scope=col>m1</th><th scope=col>m2</th><th scope=col>m3</th></tr>\n",
       "\t<tr><th></th><th scope=col>&lt;dbl&gt;</th><th scope=col>&lt;dbl&gt;</th><th scope=col>&lt;dbl&gt;</th><th scope=col>&lt;dbl&gt;</th></tr>\n",
       "</thead>\n",
       "<tbody>\n",
       "\t<tr><th scope=row>tamaño</th><td>725295,0</td><td>100,0</td><td>200,0</td><td>500,0</td></tr>\n",
       "\t<tr><th scope=row>media</th><td>   150,4</td><td>149,0</td><td>153,2</td><td>150,1</td></tr>\n",
       "\t<tr><th scope=row>desviación estándar</th><td>    31,9</td><td> 29,2</td><td> 33,7</td><td> 32,6</td></tr>\n",
       "\t<tr><th scope=row>simetría</th><td>     0,3</td><td>  0,5</td><td>  0,6</td><td>  0,5</td></tr>\n",
       "\t<tr><th scope=row>kurtosis</th><td>     1,5</td><td> -0,7</td><td>  0,5</td><td>  1,5</td></tr>\n",
=======
       "<thead><tr><th></th><th scope=col>pop</th><th scope=col>m1</th><th scope=col>m2</th><th scope=col>m3</th><th scope=col>m4</th></tr></thead>\n",
       "<tbody>\n",
       "\t<tr><th scope=row>tamaño</th><td>725295.0</td><td>100.0   </td><td>200.0   </td><td>500.0   </td><td>1000.0  </td></tr>\n",
       "\t<tr><th scope=row>media</th><td>   150.4</td><td>156.2   </td><td>149.3   </td><td>146.2   </td><td> 151.2  </td></tr>\n",
       "\t<tr><th scope=row>desviación estándar</th><td>    31.9</td><td> 29.1   </td><td> 33.5   </td><td> 30.3   </td><td>  31.9  </td></tr>\n",
       "\t<tr><th scope=row>simetría</th><td>     0.3</td><td>  0.2   </td><td>  0.4   </td><td>  0.1   </td><td>   0.4  </td></tr>\n",
       "\t<tr><th scope=row>kurtosis</th><td>     1.5</td><td> -0.8   </td><td>  2.7   </td><td>  1.6   </td><td>   1.0  </td></tr>\n",
>>>>>>> Stashed changes
       "</tbody>\n",
       "</table>\n"
      ],
      "text/latex": [
<<<<<<< Updated upstream
       "A data.frame: 5 × 4\n",
       "\\begin{tabular}{r|llll}\n",
       "  & pop & m1 & m2 & m3\\\\\n",
       "  & <dbl> & <dbl> & <dbl> & <dbl>\\\\\n",
       "\\hline\n",
       "\ttamaño & 725295,0 & 100,0 & 200,0 & 500,0\\\\\n",
       "\tmedia &    150,4 & 149,0 & 153,2 & 150,1\\\\\n",
       "\tdesviación estándar &     31,9 &  29,2 &  33,7 &  32,6\\\\\n",
       "\tsimetría &      0,3 &   0,5 &   0,6 &   0,5\\\\\n",
       "\tkurtosis &      1,5 &  -0,7 &   0,5 &   1,5\\\\\n",
=======
       "\\begin{tabular}{r|lllll}\n",
       "  & pop & m1 & m2 & m3 & m4\\\\\n",
       "\\hline\n",
       "\ttamaño & 725295.0 & 100.0    & 200.0    & 500.0    & 1000.0  \\\\\n",
       "\tmedia &    150.4 & 156.2    & 149.3    & 146.2    &  151.2  \\\\\n",
       "\tdesviación estándar &     31.9 &  29.1    &  33.5    &  30.3    &   31.9  \\\\\n",
       "\tsimetría &      0.3 &   0.2    &   0.4    &   0.1    &    0.4  \\\\\n",
       "\tkurtosis &      1.5 &  -0.8    &   2.7    &   1.6    &    1.0  \\\\\n",
>>>>>>> Stashed changes
       "\\end{tabular}\n"
      ],
      "text/markdown": [
       "\n",
<<<<<<< Updated upstream
       "A data.frame: 5 × 4\n",
       "\n",
       "| <!--/--> | pop &lt;dbl&gt; | m1 &lt;dbl&gt; | m2 &lt;dbl&gt; | m3 &lt;dbl&gt; |\n",
       "|---|---|---|---|---|\n",
       "| tamaño | 725295,0 | 100,0 | 200,0 | 500,0 |\n",
       "| media |    150,4 | 149,0 | 153,2 | 150,1 |\n",
       "| desviación estándar |     31,9 |  29,2 |  33,7 |  32,6 |\n",
       "| simetría |      0,3 |   0,5 |   0,6 |   0,5 |\n",
       "| kurtosis |      1,5 |  -0,7 |   0,5 |   1,5 |\n",
       "\n"
      ],
      "text/plain": [
       "                    pop      m1    m2    m3   \n",
       "tamaño              725295,0 100,0 200,0 500,0\n",
       "media                  150,4 149,0 153,2 150,1\n",
       "desviación estándar     31,9  29,2  33,7  32,6\n",
       "simetría                 0,3   0,5   0,6   0,5\n",
       "kurtosis                 1,5  -0,7   0,5   1,5"
=======
       "| <!--/--> | pop | m1 | m2 | m3 | m4 |\n",
       "|---|---|---|---|---|---|\n",
       "| tamaño | 725295.0 | 100.0    | 200.0    | 500.0    | 1000.0   |\n",
       "| media |    150.4 | 156.2    | 149.3    | 146.2    |  151.2   |\n",
       "| desviación estándar |     31.9 |  29.1    |  33.5    |  30.3    |   31.9   |\n",
       "| simetría |      0.3 |   0.2    |   0.4    |   0.1    |    0.4   |\n",
       "| kurtosis |      1.5 |  -0.8    |   2.7    |   1.6    |    1.0   |\n",
       "\n"
      ],
      "text/plain": [
       "                    pop      m1    m2    m3    m4    \n",
       "tamaño              725295.0 100.0 200.0 500.0 1000.0\n",
       "media                  150.4 156.2 149.3 146.2  151.2\n",
       "desviación estándar     31.9  29.1  33.5  30.3   31.9\n",
       "simetría                 0.3   0.2   0.4   0.1    0.4\n",
       "kurtosis                 1.5  -0.8   2.7   1.6    1.0"
>>>>>>> Stashed changes
      ]
     },
     "metadata": {},
     "output_type": "display_data"
    }
   ],
   "source": [
    "pop<-round(mystats(puntajes[,'puntajeing']),1)\n",
    "m1<-round(mystats(puntajes[muestra1,'puntajeing']),1)\n",
    "m2<-round(mystats(puntajes[muestra2,'puntajeing']),1)\n",
    "m3<-round(mystats(puntajes[muestra3,'puntajeing']),1)\n",
    "m4<-round(mystats(puntajes[muestra4,'puntajeing']),1)\n",
    "data.frame(pop,m1,m2,m3,m4)"
   ]
  },
  {
   "cell_type": "code",
<<<<<<< Updated upstream
   "execution_count": 59,
=======
   "execution_count": 25,
>>>>>>> Stashed changes
   "metadata": {},
   "outputs": [
    {
     "data": {
<<<<<<< Updated upstream
      "image/png": "iVBORw0KGgoAAAANSUhEUgAAA0gAAANICAMAAADKOT/pAAAC+lBMVEUAAAABAQECAgIDAwME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\nAABJRU5ErkJggg==",
      "text/plain": [
       "Plot with title “Muestra 3 (500)”"
=======
      "image/png": "iVBORw0KGgoAAAANSUhEUgAAA0gAAANICAMAAADKOT/pAAAAMFBMVEUAAABNTU1oaGh8fHyM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\nEoAARAIQ8D9K5oEGmdWMXwAAAABJRU5ErkJggg==",
      "text/plain": [
       "Plot with title \"Muestra 4 (1000)\""
>>>>>>> Stashed changes
      ]
     },
     "metadata": {
      "image/png": {
       "height": 420,
       "width": 420
      },
      "text/plain": {
       "height": 420,
       "width": 420
      }
     },
     "output_type": "display_data"
    }
   ],
   "source": [
    "par(mfrow=c(2,5))\n",
    "with(puntajeing, boxplot(puntajeing, main = 'Población'))\n",
    "with(puntajeing[muestra1,], boxplot(puntajeing, main = 'Muestra 1 (100)'))\n",
    "with(puntajeing[muestra2,], boxplot(puntajeing, main = 'Muestra 2 (200)'))\n",
    "with(puntajeing[muestra3,], boxplot(puntajeing, main = 'Muestra 3 (500)'))\n",
    "with(puntajeing[muestra4,], boxplot(puntajeing, main = 'Muestra 4 (1000)'))\n",
    "with(puntajeing, hist(puntajeing, nclass = 50, main = 'Población'))\n",
    "with(puntajeing[muestra1,], hist(puntajeing, nclass = 50, main = 'Muestra 1 (100)'))\n",
    "with(puntajeing[muestra2,], hist(puntajeing, nclass = 50, main = 'Muestra 2 (200)'))\n",
    "with(puntajeing[muestra3,], hist(puntajeing, nclass = 50, main = 'Muestra 3 (500)'))\n",
    "with(puntajeing[muestra4,], hist(puntajeing, nclass = 50, main = 'Muestra 4 (1000)'))\n",
    "par(mfrow=c(1,1))"
   ]
  },
  {
   "cell_type": "markdown",
   "metadata": {},
   "source": [
    "## Inferencias"
   ]
  },
  {
   "cell_type": "markdown",
   "metadata": {},
   "source": [
    "Para esta situacion como se puede ver se uso como variable principal el puntaje de ingles obtenido en la pruebas, este se analizo como un independiente por ende no se uso mas variable sino solo esta.\n",
    "\n",
    "Las graficas nos muestras un comportamiento de precision entre mayor numero de muestra tomemos de la poblacion lo cual deriva en un factor de confianza, por ejemplo, al ver una muestra de 100 calificaciones podriamos decir que la media se encuentra en 148, cuando en realidad es 150.4. Pero, al ver la de 500 no hay una gran diferencia de la de 100, por lo cual nuestro grupo se pregunto el porque y se hallo una razon logaritmica entre el aumento de la cantidad de la muestra con respecto a la poblacional. Esta bien decir que 500 es un valor grande comparado a 100 pero comparado a la poblacion es minusculo.\n",
    "\n",
    "Se puede ver que el muestreo aleatorio simple requiere una muestra significativa para obtener una informacion significativa. "
   ]
  },
  {
   "cell_type": "markdown",
   "metadata": {},
   "source": [
    "2.  Realice los correspondientes muestreos estratificados y compare los resultados con los anteriores. Explique las diferencias y/o similitudes"
   ]
  },
  {
   "cell_type": "code",
   "execution_count": null,
   "metadata": {},
   "outputs": [],
   "source": []
  },
  {
   "cell_type": "markdown",
   "metadata": {},
   "source": [
    "3.  Realice los correspondientes muestreos por conglomerados y compare los resultados con los puntos 1 y 2. Explique las diferencias y/o similitudes"
   ]
  },
  {
   "cell_type": "code",
   "execution_count": 70,
   "metadata": {},
   "outputs": [
    {
     "name": "stderr",
     "output_type": "stream",
     "text": [
      "The following `from` values were not present in `x`: NARIÃ‘O, NARIÃƒâ€˜O\n",
      "\n"
     ]
    },
    {
     "data": {
      "text/html": [
       "<style>\n",
       ".list-inline {list-style: none; margin:0; padding: 0}\n",
       ".list-inline>li {display: inline-block}\n",
       ".list-inline>li:not(:last-child)::after {content: \"\\00b7\"; padding: 0 .5ex}\n",
       "</style>\n",
       "<ol class=list-inline><li>ATLANTICO</li><li>CUNDINAMARCA</li><li>CALDAS</li><li>MAGDALENA</li><li>CORDOBA</li><li>CAUCA</li><li>BOGOTA</li><li>ANTIOQUIA</li><li>META</li><li>CESAR</li><li>VALLE</li><li>TOLIMA</li><li>BOYACA</li><li>SANTANDER</li><li>BOLIVAR</li><li></li><li>HUILA</li><li>NORTE SANTANDER</li><li>SUCRE</li><li>QUINDIO</li><li>VAUPES</li><li>RISARALDA</li><li>NARIÑO</li><li>CAQUETA</li><li>CASANARE</li><li>CHOCO</li><li>PUTUMAYO</li><li>LA GUAJIRA</li><li>GUAVIARE</li><li>ARAUCA</li><li>SAN ANDRES</li><li>VICHADA</li><li>AMAZONAS</li><li>EXTRANJERO</li><li>GUAINIA</li></ol>\n",
       "\n",
       "<details>\n",
       "\t<summary style=display:list-item;cursor:pointer>\n",
       "\t\t<strong>Levels</strong>:\n",
       "\t</summary>\n",
       "\t<style>\n",
       "\t.list-inline {list-style: none; margin:0; padding: 0}\n",
       "\t.list-inline>li {display: inline-block}\n",
       "\t.list-inline>li:not(:last-child)::after {content: \"\\00b7\"; padding: 0 .5ex}\n",
       "\t</style>\n",
       "\t<ol class=list-inline><li>''</li><li>'AMAZONAS'</li><li>'ANTIOQUIA'</li><li>'ARAUCA'</li><li>'ATLANTICO'</li><li>'BOGOTA'</li><li>'BOLIVAR'</li><li>'BOYACA'</li><li>'CALDAS'</li><li>'CAQUETA'</li><li>'CASANARE'</li><li>'CAUCA'</li><li>'CESAR'</li><li>'CHOCO'</li><li>'CORDOBA'</li><li>'CUNDINAMARCA'</li><li>'EXTRANJERO'</li><li>'GUAINIA'</li><li>'GUAVIARE'</li><li>'HUILA'</li><li>'LA GUAJIRA'</li><li>'MAGDALENA'</li><li>'META'</li><li>'NARIÑO'</li><li>'NORTE SANTANDER'</li><li>'PUTUMAYO'</li><li>'QUINDIO'</li><li>'RISARALDA'</li><li>'SAN ANDRES'</li><li>'SANTANDER'</li><li>'SUCRE'</li><li>'TOLIMA'</li><li>'VALLE'</li><li>'VAUPES'</li><li>'VICHADA'</li></ol>\n",
       "</details>"
      ],
      "text/latex": [
       "\\begin{enumerate*}\n",
       "\\item ATLANTICO\n",
       "\\item CUNDINAMARCA\n",
       "\\item CALDAS\n",
       "\\item MAGDALENA\n",
       "\\item CORDOBA\n",
       "\\item CAUCA\n",
       "\\item BOGOTA\n",
       "\\item ANTIOQUIA\n",
       "\\item META\n",
       "\\item CESAR\n",
       "\\item VALLE\n",
       "\\item TOLIMA\n",
       "\\item BOYACA\n",
       "\\item SANTANDER\n",
       "\\item BOLIVAR\n",
       "\\item \n",
       "\\item HUILA\n",
       "\\item NORTE SANTANDER\n",
       "\\item SUCRE\n",
       "\\item QUINDIO\n",
       "\\item VAUPES\n",
       "\\item RISARALDA\n",
       "\\item NARIÑO\n",
       "\\item CAQUETA\n",
       "\\item CASANARE\n",
       "\\item CHOCO\n",
       "\\item PUTUMAYO\n",
       "\\item LA GUAJIRA\n",
       "\\item GUAVIARE\n",
       "\\item ARAUCA\n",
       "\\item SAN ANDRES\n",
       "\\item VICHADA\n",
       "\\item AMAZONAS\n",
       "\\item EXTRANJERO\n",
       "\\item GUAINIA\n",
       "\\end{enumerate*}\n",
       "\n",
       "\\emph{Levels}: \\begin{enumerate*}\n",
       "\\item ''\n",
       "\\item 'AMAZONAS'\n",
       "\\item 'ANTIOQUIA'\n",
       "\\item 'ARAUCA'\n",
       "\\item 'ATLANTICO'\n",
       "\\item 'BOGOTA'\n",
       "\\item 'BOLIVAR'\n",
       "\\item 'BOYACA'\n",
       "\\item 'CALDAS'\n",
       "\\item 'CAQUETA'\n",
       "\\item 'CASANARE'\n",
       "\\item 'CAUCA'\n",
       "\\item 'CESAR'\n",
       "\\item 'CHOCO'\n",
       "\\item 'CORDOBA'\n",
       "\\item 'CUNDINAMARCA'\n",
       "\\item 'EXTRANJERO'\n",
       "\\item 'GUAINIA'\n",
       "\\item 'GUAVIARE'\n",
       "\\item 'HUILA'\n",
       "\\item 'LA GUAJIRA'\n",
       "\\item 'MAGDALENA'\n",
       "\\item 'META'\n",
       "\\item 'NARIÑO'\n",
       "\\item 'NORTE SANTANDER'\n",
       "\\item 'PUTUMAYO'\n",
       "\\item 'QUINDIO'\n",
       "\\item 'RISARALDA'\n",
       "\\item 'SAN ANDRES'\n",
       "\\item 'SANTANDER'\n",
       "\\item 'SUCRE'\n",
       "\\item 'TOLIMA'\n",
       "\\item 'VALLE'\n",
       "\\item 'VAUPES'\n",
       "\\item 'VICHADA'\n",
       "\\end{enumerate*}\n"
      ],
      "text/markdown": [
       "1. ATLANTICO\n",
       "2. CUNDINAMARCA\n",
       "3. CALDAS\n",
       "4. MAGDALENA\n",
       "5. CORDOBA\n",
       "6. CAUCA\n",
       "7. BOGOTA\n",
       "8. ANTIOQUIA\n",
       "9. META\n",
       "10. CESAR\n",
       "11. VALLE\n",
       "12. TOLIMA\n",
       "13. BOYACA\n",
       "14. SANTANDER\n",
       "15. BOLIVAR\n",
       "16. \n",
       "17. HUILA\n",
       "18. NORTE SANTANDER\n",
       "19. SUCRE\n",
       "20. QUINDIO\n",
       "21. VAUPES\n",
       "22. RISARALDA\n",
       "23. NARIÑO\n",
       "24. CAQUETA\n",
       "25. CASANARE\n",
       "26. CHOCO\n",
       "27. PUTUMAYO\n",
       "28. LA GUAJIRA\n",
       "29. GUAVIARE\n",
       "30. ARAUCA\n",
       "31. SAN ANDRES\n",
       "32. VICHADA\n",
       "33. AMAZONAS\n",
       "34. EXTRANJERO\n",
       "35. GUAINIA\n",
       "\n",
       "\n",
       "\n",
       "**Levels**: 1. ''\n",
       "2. 'AMAZONAS'\n",
       "3. 'ANTIOQUIA'\n",
       "4. 'ARAUCA'\n",
       "5. 'ATLANTICO'\n",
       "6. 'BOGOTA'\n",
       "7. 'BOLIVAR'\n",
       "8. 'BOYACA'\n",
       "9. 'CALDAS'\n",
       "10. 'CAQUETA'\n",
       "11. 'CASANARE'\n",
       "12. 'CAUCA'\n",
       "13. 'CESAR'\n",
       "14. 'CHOCO'\n",
       "15. 'CORDOBA'\n",
       "16. 'CUNDINAMARCA'\n",
       "17. 'EXTRANJERO'\n",
       "18. 'GUAINIA'\n",
       "19. 'GUAVIARE'\n",
       "20. 'HUILA'\n",
       "21. 'LA GUAJIRA'\n",
       "22. 'MAGDALENA'\n",
       "23. 'META'\n",
       "24. 'NARIÑO'\n",
       "25. 'NORTE SANTANDER'\n",
       "26. 'PUTUMAYO'\n",
       "27. 'QUINDIO'\n",
       "28. 'RISARALDA'\n",
       "29. 'SAN ANDRES'\n",
       "30. 'SANTANDER'\n",
       "31. 'SUCRE'\n",
       "32. 'TOLIMA'\n",
       "33. 'VALLE'\n",
       "34. 'VAUPES'\n",
       "35. 'VICHADA'\n",
       "\n",
       "\n"
      ],
      "text/plain": [
       " [1] ATLANTICO       CUNDINAMARCA    CALDAS          MAGDALENA      \n",
       " [5] CORDOBA         CAUCA           BOGOTA          ANTIOQUIA      \n",
       " [9] META            CESAR           VALLE           TOLIMA         \n",
       "[13] BOYACA          SANTANDER       BOLIVAR                        \n",
       "[17] HUILA           NORTE SANTANDER SUCRE           QUINDIO        \n",
       "[21] VAUPES          RISARALDA       NARIÑO          CAQUETA        \n",
       "[25] CASANARE        CHOCO           PUTUMAYO        LA GUAJIRA     \n",
       "[29] GUAVIARE        ARAUCA          SAN ANDRES      VICHADA        \n",
       "[33] AMAZONAS        EXTRANJERO      GUAINIA        \n",
       "35 Levels:  AMAZONAS ANTIOQUIA ARAUCA ATLANTICO BOGOTA BOLIVAR ... VICHADA"
      ]
     },
     "metadata": {},
     "output_type": "display_data"
    }
   ],
   "source": [
    "#Arreglo valores de Nariño, debido a que al cargar la codificación UTF-8 es_CO no es teniada en cuenta, por lo tanto tildes y ñ no son validas\n",
    "saberpro[,3] <- revalue(saberpro[,3], c( 'NARIÃ‘O'= \"NARIÑO\", 'NARIÃƒâ€˜O' = \"NARIÑO\"))\n",
    "unique(saberpro[,3])# Ver las regiones "
   ]
  },
  {
   "cell_type": "code",
   "execution_count": 77,
   "metadata": {},
   "outputs": [
    {
     "data": {
      "text/html": [
       "<table>\n",
       "<caption>A data.frame: 6 × 10</caption>\n",
       "<thead>\n",
       "\t<tr><th></th><th scope=col>raz_cuant_punt</th><th scope=col>raz_cuant_des</th><th scope=col>lect_crit_punt</th><th scope=col>lect_crit_des</th><th scope=col>comp_ciud_punt</th><th scope=col>comp_ciud_des</th><th scope=col>ingles_punt</th><th scope=col>ingles_desem</th><th scope=col>comu_escr_punt</th><th scope=col>comu_escr_des</th></tr>\n",
       "\t<tr><th></th><th scope=col>&lt;int&gt;</th><th scope=col>&lt;int&gt;</th><th scope=col>&lt;int&gt;</th><th scope=col>&lt;int&gt;</th><th scope=col>&lt;int&gt;</th><th scope=col>&lt;int&gt;</th><th scope=col>&lt;int&gt;</th><th scope=col>&lt;fct&gt;</th><th scope=col>&lt;int&gt;</th><th scope=col>&lt;int&gt;</th></tr>\n",
       "</thead>\n",
       "<tbody>\n",
       "\t<tr><th scope=row>1</th><td>160</td><td>3</td><td>130</td><td>2</td><td>167</td><td>3</td><td>160</td><td>A2 </td><td>155</td><td>3</td></tr>\n",
       "\t<tr><th scope=row>2</th><td>138</td><td>2</td><td>132</td><td>2</td><td> 77</td><td>1</td><td>125</td><td>A1 </td><td>164</td><td>3</td></tr>\n",
       "\t<tr><th scope=row>3</th><td>146</td><td>2</td><td>157</td><td>2</td><td>150</td><td>2</td><td>104</td><td>A1-</td><td>122</td><td>2</td></tr>\n",
       "\t<tr><th scope=row>4</th><td>160</td><td>3</td><td>172</td><td>3</td><td>151</td><td>2</td><td>160</td><td>A2 </td><td>192</td><td>4</td></tr>\n",
       "\t<tr><th scope=row>5</th><td>130</td><td>2</td><td>122</td><td>1</td><td>144</td><td>2</td><td>192</td><td>B1 </td><td>131</td><td>2</td></tr>\n",
       "\t<tr><th scope=row>6</th><td>159</td><td>3</td><td>129</td><td>2</td><td>147</td><td>2</td><td>108</td><td>A1-</td><td>154</td><td>3</td></tr>\n",
       "</tbody>\n",
       "</table>\n"
      ],
      "text/latex": [
       "A data.frame: 6 × 10\n",
       "\\begin{tabular}{r|llllllllll}\n",
       "  & raz\\_cuant\\_punt & raz\\_cuant\\_des & lect\\_crit\\_punt & lect\\_crit\\_des & comp\\_ciud\\_punt & comp\\_ciud\\_des & ingles\\_punt & ingles\\_desem & comu\\_escr\\_punt & comu\\_escr\\_des\\\\\n",
       "  & <int> & <int> & <int> & <int> & <int> & <int> & <int> & <fct> & <int> & <int>\\\\\n",
       "\\hline\n",
       "\t1 & 160 & 3 & 130 & 2 & 167 & 3 & 160 & A2  & 155 & 3\\\\\n",
       "\t2 & 138 & 2 & 132 & 2 &  77 & 1 & 125 & A1  & 164 & 3\\\\\n",
       "\t3 & 146 & 2 & 157 & 2 & 150 & 2 & 104 & A1- & 122 & 2\\\\\n",
       "\t4 & 160 & 3 & 172 & 3 & 151 & 2 & 160 & A2  & 192 & 4\\\\\n",
       "\t5 & 130 & 2 & 122 & 1 & 144 & 2 & 192 & B1  & 131 & 2\\\\\n",
       "\t6 & 159 & 3 & 129 & 2 & 147 & 2 & 108 & A1- & 154 & 3\\\\\n",
       "\\end{tabular}\n"
      ],
      "text/markdown": [
       "\n",
       "A data.frame: 6 × 10\n",
       "\n",
       "| <!--/--> | raz_cuant_punt &lt;int&gt; | raz_cuant_des &lt;int&gt; | lect_crit_punt &lt;int&gt; | lect_crit_des &lt;int&gt; | comp_ciud_punt &lt;int&gt; | comp_ciud_des &lt;int&gt; | ingles_punt &lt;int&gt; | ingles_desem &lt;fct&gt; | comu_escr_punt &lt;int&gt; | comu_escr_des &lt;int&gt; |\n",
       "|---|---|---|---|---|---|---|---|---|---|---|\n",
       "| 1 | 160 | 3 | 130 | 2 | 167 | 3 | 160 | A2  | 155 | 3 |\n",
       "| 2 | 138 | 2 | 132 | 2 |  77 | 1 | 125 | A1  | 164 | 3 |\n",
       "| 3 | 146 | 2 | 157 | 2 | 150 | 2 | 104 | A1- | 122 | 2 |\n",
       "| 4 | 160 | 3 | 172 | 3 | 151 | 2 | 160 | A2  | 192 | 4 |\n",
       "| 5 | 130 | 2 | 122 | 1 | 144 | 2 | 192 | B1  | 131 | 2 |\n",
       "| 6 | 159 | 3 | 129 | 2 | 147 | 2 | 108 | A1- | 154 | 3 |\n",
       "\n"
      ],
      "text/plain": [
       "  raz_cuant_punt raz_cuant_des lect_crit_punt lect_crit_des comp_ciud_punt\n",
       "1 160            3             130            2             167           \n",
       "2 138            2             132            2              77           \n",
       "3 146            2             157            2             150           \n",
       "4 160            3             172            3             151           \n",
       "5 130            2             122            1             144           \n",
       "6 159            3             129            2             147           \n",
       "  comp_ciud_des ingles_punt ingles_desem comu_escr_punt comu_escr_des\n",
       "1 3             160         A2           155            3            \n",
       "2 1             125         A1           164            3            \n",
       "3 2             104         A1-          122            2            \n",
       "4 2             160         A2           192            4            \n",
       "5 2             192         B1           131            2            \n",
       "6 2             108         A1-          154            3            "
      ]
     },
     "metadata": {},
     "output_type": "display_data"
    }
   ],
   "source": [
    "#saberpro %>% select(7,)\n",
    "var_vals <- saberpro %>% select(7:16)\n",
    "head(var_vals)"
   ]
  },
  {
   "cell_type": "code",
   "execution_count": 78,
   "metadata": {},
   "outputs": [
    {
     "ename": "ERROR",
     "evalue": "Error: Can't subset columns that don't exist.\n\u001b[31m✖\u001b[39m Columns `ATLANTICO`, `CUNDINAMARCA`, `CALDAS`, `MAGDALENA`, `CORDOBA`, etc. don't exist.\n",
     "output_type": "error",
     "traceback": [
      "Error: Can't subset columns that don't exist.\n\u001b[31m✖\u001b[39m Columns `ATLANTICO`, `CUNDINAMARCA`, `CALDAS`, `MAGDALENA`, `CORDOBA`, etc. don't exist.\nTraceback:\n",
      "1. saberpro %>% select(saberpro[, 3], var_vals) %>% group_by(saberpro[, \n .     3]) %>% summarise(n = n(), s = sd(var_vals)) %>% mutate(p = n/sum(n))",
      "2. withVisible(eval(quote(`_fseq`(`_lhs`)), env, env))",
      "3. eval(quote(`_fseq`(`_lhs`)), env, env)",
      "4. eval(quote(`_fseq`(`_lhs`)), env, env)",
      "5. `_fseq`(`_lhs`)",
      "6. freduce(value, `_function_list`)",
      "7. function_list[[i]](value)",
      "8. select(., saberpro[, 3], var_vals)",
      "9. select.data.frame(., saberpro[, 3], var_vals)",
      "10. tidyselect::eval_select(expr(c(...)), .data)",
      "11. eval_select_impl(data, names(data), as_quosure(expr, env), include = include, \n  .     exclude = exclude, strict = strict, name_spec = name_spec, \n  .     allow_rename = allow_rename)",
      "12. with_subscript_errors(vars_select_eval(vars, expr, strict, data = x, \n  .     name_spec = name_spec, uniquely_named = uniquely_named, allow_rename = allow_rename, \n  .     type = type), type = type)",
      "13. tryCatch(instrument_base_errors(expr), vctrs_error_subscript = function(cnd) {\n  .     cnd$subscript_action <- subscript_action(type)\n  .     cnd$subscript_elt <- \"column\"\n  .     cnd_signal(cnd)\n  . })",
      "14. tryCatchList(expr, classes, parentenv, handlers)",
      "15. tryCatchOne(expr, names, parentenv, handlers[[1L]])",
      "16. value[[3L]](cond)",
      "17. cnd_signal(cnd)",
      "18. rlang:::signal_abort(x)"
     ]
    }
   ],
   "source": [
    "\n",
    "Conglomerados<- saberpro %>%\n",
    "  select(saberpro[,3],var_vals) %>%\n",
    "  group_by(saberpro[,3]) %>%\n",
    "  summarise(n=n(),\n",
    "            s=sd(var_vals)) %>%\n",
    "  mutate(p=n/sum(n))\n",
    "\n",
    "Conglomerados"
   ]
  },
  {
   "cell_type": "markdown",
   "metadata": {},
   "source": [
    "4.  ¿Considera que es procedente realizar un muestreo sistemático? Argumente su respuesta"
   ]
  },
  {
   "cell_type": "code",
   "execution_count": null,
   "metadata": {},
   "outputs": [],
   "source": []
  },
  {
   "cell_type": "markdown",
   "metadata": {},
   "source": [
    "5.  Para las estimaciones emplee los siguientes niveles de confianza: 90%, 95% y 99%."
   ]
  },
  {
   "cell_type": "code",
   "execution_count": null,
   "metadata": {},
   "outputs": [],
   "source": []
  }
 ],
 "metadata": {
  "kernelspec": {
   "display_name": "R",
   "language": "R",
   "name": "ir"
  },
  "language_info": {
   "codemirror_mode": "r",
   "file_extension": ".r",
   "mimetype": "text/x-r-source",
   "name": "R",
   "pygments_lexer": "r",
   "version": "3.5.3"
  }
 },
 "nbformat": 4,
 "nbformat_minor": 4
}
