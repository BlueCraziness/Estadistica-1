{
 "cells": [
  {
   "cell_type": "markdown",
   "metadata": {},
   "source": [
    "<h1>TRABAJO MUESTREO - INFERENCIA</h1>"
   ]
  },
  {
   "cell_type": "markdown",
   "metadata": {},
   "source": [
    "En los siguientes enlaces encontrará los datos relacionados con los resultados de las pruebas de estado para las Instituciones de Educación Superior (IES) colombianas de carácter universitario de los últimos tres (3) años:\n",
    "\n",
    " https://www.dropbox.com/s/xgsf3l5gjw0h0q4/saberpro.RData\n",
    "\n",
    "Considere estos datos como una población finita. Las variables que componen la tabla son:\n",
    "\n",
    "\n",
    "\n",
    " - `periodo:` año de realización de la prueba. La variable se presenta fragmentada debido al origen de los datos. Requiere agruparse adecuadamente. Para ello, consulte la función revalue y describa, brevemente, su funcionamiento.\n",
    " -  `apli_consecutivo:` consecutivo asignado al estudiante en el momento de presentar la prueba. Único por estudiante\n",
    " -  `estu_depto_reside:` departamento de residencia del estudiante\n",
    " -   `estu_cod_reside_depto:` código DANE del departamento de residencia del estudiante\n",
    " -   `inst_cod_institucion:` código de la IES ante el ministerio. Único por Institución\n",
    " -   `inst_nombre_institucion:` Nombre de la Institución. Algunas presentan sedes y subsedes\n",
    " -   `raz_cuant_punt:` Puntaje Razonamiento Cuantitativo\n",
    " -   `raz_cuant_des:` Nivel de Desempeño Razonamiento Cuantitativo (categórica)\n",
    " -   `lect_crit_punt:` Puntaje Lectura Crítica\n",
    " -   `lect_crit_des:` Nivel de Desempeño Lectura Crítica (categórica)\n",
    " -   `comp_ciud_punt:` Puntaje Competencias Ciudadanas\n",
    " -   `comp_ciud_des:` Nivel de Desempeño Competencias Ciudadanas (categórica)\n",
    " -   `ingles_punt:` Puntaje Inglés\n",
    " -   `ingles_desem:` Nivel de Desempeño en Inglés (categórica)\n",
    " -  `comu_escr_punt:` Puntaje Comunicación Escrita\n",
    " -  `comu_escr_des:` Nivel de Desempeño Comunicación Escrita (categórica)\n",
    "\n",
    "Tenga en cuenta que algunas variables categóricas figuran como numéricas, haga la correspondiente transformación.\n",
    "\n",
    "Los puntos a desarrollar son:\n",
    "\n",
    "\n",
    "   1. Realice muestreo aleatorio simple y realice las estimaciones (inferencia) correspondientes. Tenga en cuenta que son múltiples variables\n",
    "   2.  Realice los correspondientes muestreos estratificados y compare los resultados con los anteriores. Explique las diferencias y/o similitudes\n",
    "   3.  Realice los correspondientes muestreos por conglomerados y compare los resultados con los puntos 1 y 2. Explique las diferencias y/o similitudes\n",
    "   4.  ¿Considera que es procedente realizar un muestreo sistemático? Argumente su respuesta\n",
    "   5.  Si la respuesta del punto 4 fue positiva, realice el correspondiente muestreo y compare con los anteriores\n",
    "   6.  Para las estimaciones emplee los siguientes niveles de confianza: 90%, 95% y 99%.\n",
    "\n",
    "El trabajo puede entregarse en formato PDF o como notebook de jupyter\n",
    "\n",
    "Recomendaciones:\n",
    "\n",
    " -   Procure tabular de manera adecuada las estimaciones para optimizar espacio\n",
    " -   Evite extenderse en las explicaciones\n",
    " -   Trate de optimizar el uso de gráficas (visite el siguiente repositorio si desea una guía: https://github.com/karlosmantilla/graficas-basicas-descriptivas-\n",
    " -   Referencie las fórmulas empleadas en los cálculos\n"
   ]
  },
  {
   "cell_type": "markdown",
   "metadata": {},
   "source": [
    "**Asignatura: Estadistica 2**\n",
    "\n",
    "**Profesor: Carlos Alfonso Mantilla Duarte**\n",
    "\n",
    "**Grupo: F1**\n",
    "\n",
    "\n",
    "\n",
    "<table style=\"font-size:14px;\">\n",
    "<thead>\n",
    "<td style=\"text-align:center\" ><strong>Integrante</strong></td>\n",
    "<td style=\"text-align:center\"><strong>Codigo</strong></td>\n",
    "</thead>\n",
    "<tr>\n",
    "<td style=\"text-align:center\">Orlando Alberto Moncada Rodriguez</td>\n",
    "<td style=\"text-align:center\">2170133</td>\n",
    "</tr>\n",
    "    <tr>\n",
    "<td style=\"text-align:center\">Santiago Andres Castro Duitama</td>\n",
    "<td style=\"text-align:center\">2170134</td>\n",
    "</tr>\n",
    "    <tr>\n",
    "<td style=\"text-align:center\">David Santiago Morales Norato</td>\n",
    "<td style=\"text-align:center\">2170102</td>\n",
    "</tr>\n",
    "</table>"
   ]
  },
  {
   "cell_type": "markdown",
   "metadata": {},
   "source": [
    "## Funciones y librerias"
   ]
  },
  {
   "cell_type": "code",
   "execution_count": 2,
   "metadata": {},
   "outputs": [],
   "source": [
    "library('SamplingUtil')\n",
    "\n",
    "#install.packages('plyr')\n",
    "#install.packages('samplingbook')\n",
    "\n",
    "mystats <- function(x, na.omit=FALSE){\n",
    "  if (na.omit)\n",
    "    x <- x[!is.na(x)]\n",
    "  m <- mean(x)\n",
    "  n <- length(x)\n",
    "  s <- sd(x)\n",
    "  skew <- sum((x-m)^3/s^3)/n\n",
    "  kurt <- sum((x-m)^4/s^4)/n - 3\n",
    "  return(c(\"tamaño\"=n, \"media\"=m, \"desviación estándar\"=s, \"simetría\"=skew, \"kurtosis\"=kurt))\n",
    "}\n",
    "library(plyr)\n",
    "library(tidyverse)\n",
    "library(samplingbook)"
   ]
  },
  {
   "cell_type": "markdown",
   "metadata": {},
   "source": [
    "## Importar datos"
   ]
  },
  {
   "cell_type": "code",
   "execution_count": 30,
   "metadata": {},
   "outputs": [
    {
     "data": {
      "text/html": [
       "<table>\n",
       "<thead><tr><th scope=col>periodo</th><th scope=col>apli_consecutivo</th><th scope=col>estu_depto_reside</th><th scope=col>estu_cod_reside_depto</th><th scope=col>inst_cod_institucion</th><th scope=col>inst_nombre_institucion</th><th scope=col>raz_cuant_punt</th><th scope=col>raz_cuant_des</th><th scope=col>lect_crit_punt</th><th scope=col>lect_crit_des</th><th scope=col>comp_ciud_punt</th><th scope=col>comp_ciud_des</th><th scope=col>ingles_punt</th><th scope=col>ingles_desem</th><th scope=col>comu_escr_punt</th><th scope=col>comu_escr_des</th></tr></thead>\n",
       "<tbody>\n",
       "\t<tr><td>20163                                                                      </td><td>EK201630062726                                                             </td><td>ATLANTICO                                                                  </td><td> 8                                                                         </td><td> 1202                                                                      </td><td>UNIVERSIDAD DEL ATLANTICO-BARRANQUILLA                                     </td><td>160                                                                        </td><td>3                                                                          </td><td>130                                                                        </td><td>2                                                                          </td><td>167                                                                        </td><td>3                                                                          </td><td>160                                                                        </td><td>A2                                                                         </td><td>155                                                                        </td><td>3                                                                          </td></tr>\n",
       "\t<tr><td>20163                                                                      </td><td>EK201630208121                                                             </td><td>CUNDINAMARCA                                                               </td><td>25                                                                         </td><td> 2725                                                                      </td><td>POLITECNICO GRANCOLOMBIANO-BOGOTÃ D.C.                                    </td><td>138                                                                        </td><td>2                                                                          </td><td>132                                                                        </td><td>2                                                                          </td><td> 77                                                                        </td><td>1                                                                          </td><td>125                                                                        </td><td>A1                                                                         </td><td>164                                                                        </td><td>3                                                                          </td></tr>\n",
       "\t<tr><td>20163                                                                      </td><td>EK201630220210                                                             </td><td>CALDAS                                                                     </td><td>17                                                                         </td><td> 2829                                                                      </td><td>CORPORACION UNIVERSITARIA MINUTO DE DIOS -UNIMINUTO-BOGOTÃ D.C.           </td><td>146                                                                        </td><td>2                                                                          </td><td>157                                                                        </td><td>2                                                                          </td><td>150                                                                        </td><td>2                                                                          </td><td>104                                                                        </td><td>A1-                                                                        </td><td>122                                                                        </td><td>2                                                                          </td></tr>\n",
       "\t<tr><td>20163                                                                      </td><td>EK201630180243                                                             </td><td>MAGDALENA                                                                  </td><td>47                                                                         </td><td>10413                                                                      </td><td>IED ESCUELA NORMAL SUPERIOR MARÃA AUXILIADORA - SEDE PRINCIPAL-SANTA MARTA</td><td>160                                                                        </td><td>3                                                                          </td><td>172                                                                        </td><td>3                                                                          </td><td>151                                                                        </td><td>2                                                                          </td><td>160                                                                        </td><td>A2                                                                         </td><td>192                                                                        </td><td>4                                                                          </td></tr>\n",
       "\t<tr><td>20163                                                                      </td><td>EK201630225077                                                             </td><td>CORDOBA                                                                    </td><td>23                                                                         </td><td> 1113                                                                      </td><td>UNIVERSIDAD DE CORDOBA-MONTERIA                                            </td><td>130                                                                        </td><td>2                                                                          </td><td>122                                                                        </td><td>1                                                                          </td><td>144                                                                        </td><td>2                                                                          </td><td>192                                                                        </td><td>B1                                                                         </td><td>131                                                                        </td><td>2                                                                          </td></tr>\n",
       "\t<tr><td>20163                                                                      </td><td>EK201630189735                                                             </td><td>CAUCA                                                                      </td><td>19                                                                         </td><td> 1807                                                                      </td><td>UNIVERSIDAD LIBRE-CALI                                                     </td><td>159                                                                        </td><td>3                                                                          </td><td>129                                                                        </td><td>2                                                                          </td><td>147                                                                        </td><td>2                                                                          </td><td>108                                                                        </td><td>A1-                                                                        </td><td>154                                                                        </td><td>3                                                                          </td></tr>\n",
       "</tbody>\n",
       "</table>\n"
      ],
      "text/latex": [
       "\\begin{tabular}{r|llllllllllllllll}\n",
       " periodo & apli\\_consecutivo & estu\\_depto\\_reside & estu\\_cod\\_reside\\_depto & inst\\_cod\\_institucion & inst\\_nombre\\_institucion & raz\\_cuant\\_punt & raz\\_cuant\\_des & lect\\_crit\\_punt & lect\\_crit\\_des & comp\\_ciud\\_punt & comp\\_ciud\\_des & ingles\\_punt & ingles\\_desem & comu\\_escr\\_punt & comu\\_escr\\_des\\\\\n",
       "\\hline\n",
       "\t 20163                                                                       & EK201630062726                                                              & ATLANTICO                                                                   &  8                                                                          &  1202                                                                       & UNIVERSIDAD DEL ATLANTICO-BARRANQUILLA                                      & 160                                                                         & 3                                                                           & 130                                                                         & 2                                                                           & 167                                                                         & 3                                                                           & 160                                                                         & A2                                                                          & 155                                                                         & 3                                                                          \\\\\n",
       "\t 20163                                                                       & EK201630208121                                                              & CUNDINAMARCA                                                                & 25                                                                          &  2725                                                                       & POLITECNICO GRANCOLOMBIANO-BOGOTÃ D.C.                                     & 138                                                                         & 2                                                                           & 132                                                                         & 2                                                                           &  77                                                                         & 1                                                                           & 125                                                                         & A1                                                                          & 164                                                                         & 3                                                                          \\\\\n",
       "\t 20163                                                                       & EK201630220210                                                              & CALDAS                                                                      & 17                                                                          &  2829                                                                       & CORPORACION UNIVERSITARIA MINUTO DE DIOS -UNIMINUTO-BOGOTÃ D.C.            & 146                                                                         & 2                                                                           & 157                                                                         & 2                                                                           & 150                                                                         & 2                                                                           & 104                                                                         & A1-                                                                         & 122                                                                         & 2                                                                          \\\\\n",
       "\t 20163                                                                       & EK201630180243                                                              & MAGDALENA                                                                   & 47                                                                          & 10413                                                                       & IED ESCUELA NORMAL SUPERIOR MARÃA AUXILIADORA - SEDE PRINCIPAL-SANTA MARTA & 160                                                                         & 3                                                                           & 172                                                                         & 3                                                                           & 151                                                                         & 2                                                                           & 160                                                                         & A2                                                                          & 192                                                                         & 4                                                                          \\\\\n",
       "\t 20163                                                                       & EK201630225077                                                              & CORDOBA                                                                     & 23                                                                          &  1113                                                                       & UNIVERSIDAD DE CORDOBA-MONTERIA                                             & 130                                                                         & 2                                                                           & 122                                                                         & 1                                                                           & 144                                                                         & 2                                                                           & 192                                                                         & B1                                                                          & 131                                                                         & 2                                                                          \\\\\n",
       "\t 20163                                                                       & EK201630189735                                                              & CAUCA                                                                       & 19                                                                          &  1807                                                                       & UNIVERSIDAD LIBRE-CALI                                                      & 159                                                                         & 3                                                                           & 129                                                                         & 2                                                                           & 147                                                                         & 2                                                                           & 108                                                                         & A1-                                                                         & 154                                                                         & 3                                                                          \\\\\n",
       "\\end{tabular}\n"
      ],
      "text/markdown": [
       "\n",
       "| periodo | apli_consecutivo | estu_depto_reside | estu_cod_reside_depto | inst_cod_institucion | inst_nombre_institucion | raz_cuant_punt | raz_cuant_des | lect_crit_punt | lect_crit_des | comp_ciud_punt | comp_ciud_des | ingles_punt | ingles_desem | comu_escr_punt | comu_escr_des |\n",
       "|---|---|---|---|---|---|---|---|---|---|---|---|---|---|---|---|\n",
       "| 20163                                                                       | EK201630062726                                                              | ATLANTICO                                                                   |  8                                                                          |  1202                                                                       | UNIVERSIDAD DEL ATLANTICO-BARRANQUILLA                                      | 160                                                                         | 3                                                                           | 130                                                                         | 2                                                                           | 167                                                                         | 3                                                                           | 160                                                                         | A2                                                                          | 155                                                                         | 3                                                                           |\n",
       "| 20163                                                                       | EK201630208121                                                              | CUNDINAMARCA                                                                | 25                                                                          |  2725                                                                       | POLITECNICO GRANCOLOMBIANO-BOGOTÃ D.C.                                     | 138                                                                         | 2                                                                           | 132                                                                         | 2                                                                           |  77                                                                         | 1                                                                           | 125                                                                         | A1                                                                          | 164                                                                         | 3                                                                           |\n",
       "| 20163                                                                       | EK201630220210                                                              | CALDAS                                                                      | 17                                                                          |  2829                                                                       | CORPORACION UNIVERSITARIA MINUTO DE DIOS -UNIMINUTO-BOGOTÃ D.C.            | 146                                                                         | 2                                                                           | 157                                                                         | 2                                                                           | 150                                                                         | 2                                                                           | 104                                                                         | A1-                                                                         | 122                                                                         | 2                                                                           |\n",
       "| 20163                                                                       | EK201630180243                                                              | MAGDALENA                                                                   | 47                                                                          | 10413                                                                       | IED ESCUELA NORMAL SUPERIOR MARÃA AUXILIADORA - SEDE PRINCIPAL-SANTA MARTA | 160                                                                         | 3                                                                           | 172                                                                         | 3                                                                           | 151                                                                         | 2                                                                           | 160                                                                         | A2                                                                          | 192                                                                         | 4                                                                           |\n",
       "| 20163                                                                       | EK201630225077                                                              | CORDOBA                                                                     | 23                                                                          |  1113                                                                       | UNIVERSIDAD DE CORDOBA-MONTERIA                                             | 130                                                                         | 2                                                                           | 122                                                                         | 1                                                                           | 144                                                                         | 2                                                                           | 192                                                                         | B1                                                                          | 131                                                                         | 2                                                                           |\n",
       "| 20163                                                                       | EK201630189735                                                              | CAUCA                                                                       | 19                                                                          |  1807                                                                       | UNIVERSIDAD LIBRE-CALI                                                      | 159                                                                         | 3                                                                           | 129                                                                         | 2                                                                           | 147                                                                         | 2                                                                           | 108                                                                         | A1-                                                                         | 154                                                                         | 3                                                                           |\n",
       "\n"
      ],
      "text/plain": [
       "  periodo apli_consecutivo estu_depto_reside estu_cod_reside_depto\n",
       "1 20163   EK201630062726   ATLANTICO          8                   \n",
       "2 20163   EK201630208121   CUNDINAMARCA      25                   \n",
       "3 20163   EK201630220210   CALDAS            17                   \n",
       "4 20163   EK201630180243   MAGDALENA         47                   \n",
       "5 20163   EK201630225077   CORDOBA           23                   \n",
       "6 20163   EK201630189735   CAUCA             19                   \n",
       "  inst_cod_institucion\n",
       "1  1202               \n",
       "2  2725               \n",
       "3  2829               \n",
       "4 10413               \n",
       "5  1113               \n",
       "6  1807               \n",
       "  inst_nombre_institucion                                                    \n",
       "1 UNIVERSIDAD DEL ATLANTICO-BARRANQUILLA                                     \n",
       "2 POLITECNICO GRANCOLOMBIANO-BOGOTÃ\\201 D.C.                                    \n",
       "3 CORPORACION UNIVERSITARIA MINUTO DE DIOS -UNIMINUTO-BOGOTÃ\\201 D.C.           \n",
       "4 IED ESCUELA NORMAL SUPERIOR MARÃ\\215A AUXILIADORA - SEDE PRINCIPAL-SANTA MARTA\n",
       "5 UNIVERSIDAD DE CORDOBA-MONTERIA                                            \n",
       "6 UNIVERSIDAD LIBRE-CALI                                                     \n",
       "  raz_cuant_punt raz_cuant_des lect_crit_punt lect_crit_des comp_ciud_punt\n",
       "1 160            3             130            2             167           \n",
       "2 138            2             132            2              77           \n",
       "3 146            2             157            2             150           \n",
       "4 160            3             172            3             151           \n",
       "5 130            2             122            1             144           \n",
       "6 159            3             129            2             147           \n",
       "  comp_ciud_des ingles_punt ingles_desem comu_escr_punt comu_escr_des\n",
       "1 3             160         A2           155            3            \n",
       "2 1             125         A1           164            3            \n",
       "3 2             104         A1-          122            2            \n",
       "4 2             160         A2           192            4            \n",
       "5 2             192         B1           131            2            \n",
       "6 2             108         A1-          154            3            "
      ]
     },
     "metadata": {},
     "output_type": "display_data"
    }
   ],
   "source": [
    "saberpro<-get(load(\"saberpro.RData\"))\n",
    "#saberpro<-(load(url(\"https://www.dropbox.com/s/xgsf3l5gjw0h0q4/saberpro.RData?dl=1\")))\n",
    "head(saberpro) #Cargamos los datos en una variable llamada \"saberpro\" e imprimimos los 6 primeros datos."
   ]
  },
  {
   "cell_type": "code",
   "execution_count": 4,
   "metadata": {},
   "outputs": [
    {
     "data": {
      "text/html": [
       "<ol class=list-inline>\n",
       "\t<li>725295</li>\n",
       "\t<li>16</li>\n",
       "</ol>\n"
      ],
      "text/latex": [
       "\\begin{enumerate*}\n",
       "\\item 725295\n",
       "\\item 16\n",
       "\\end{enumerate*}\n"
      ],
      "text/markdown": [
       "1. 725295\n",
       "2. 16\n",
       "\n",
       "\n"
      ],
      "text/plain": [
       "[1] 725295     16"
      ]
     },
     "metadata": {},
     "output_type": "display_data"
    }
   ],
   "source": [
    "dim(saberpro) #Cantidad de columnas y filas del dataframe"
   ]
  },
  {
   "cell_type": "markdown",
   "metadata": {},
   "source": [
    "## Arreglo de la Variable Periodo "
   ]
  },
  {
   "cell_type": "code",
   "execution_count": 5,
   "metadata": {},
   "outputs": [
    {
     "data": {
      "text/html": [
       "<ol class=list-inline>\n",
       "\t<li>20163</li>\n",
       "\t<li>20162</li>\n",
       "\t<li>20173</li>\n",
       "\t<li>20172</li>\n",
       "\t<li>20183</li>\n",
       "\t<li>20182</li>\n",
       "\t<li>20184</li>\n",
       "</ol>\n"
      ],
      "text/latex": [
       "\\begin{enumerate*}\n",
       "\\item 20163\n",
       "\\item 20162\n",
       "\\item 20173\n",
       "\\item 20172\n",
       "\\item 20183\n",
       "\\item 20182\n",
       "\\item 20184\n",
       "\\end{enumerate*}\n"
      ],
      "text/markdown": [
       "1. 20163\n",
       "2. 20162\n",
       "3. 20173\n",
       "4. 20172\n",
       "5. 20183\n",
       "6. 20182\n",
       "7. 20184\n",
       "\n",
       "\n"
      ],
      "text/plain": [
       "[1] 20163 20162 20173 20172 20183 20182 20184"
      ]
     },
     "metadata": {},
     "output_type": "display_data"
    }
   ],
   "source": [
    "unique(saberpro[,1])"
   ]
  },
  {
   "cell_type": "markdown",
   "metadata": {},
   "source": [
    "Encontramos los valores unicos, para ver las diferentes unidades sin repetición de la variable periodo. Podemos deducir que los años que pueden estar en el dataset son 2016, 2017, 2018. Las unidades contenidas en la variable periodo tienen un número extra final en cada unidad, por ejemplo el 2016, tienen un valor 20162 en la variable. Para arreglar este error, se sugiere el uso de la función \"ravalue\" la cual recibe como parámetro un vector el cual desea ser cambiado, su segundo parámetro es vector de caracteres con nombre, con valores nuevos como valores y valores antiguos como nombres. Y como último parámetro tiene un warning que será mostrado en el caso de que un valor que se desea reemplazar del segundo parámetro no se encuentra contenido en el primero.\n",
    "\n",
    "El función revalue funciona de forma sencilla e intuitiva, recibe un vector con valores que queremos cambiar, luego le pasamos un vector mencionando que valores queremos cambiar y porqué valores cambiarlos.\n",
    " \n",
    "Sin embargo esta función no nos va servir, porque sus parámetros deben ser de tipo fct, o character, es por esto que usaremos una función similar llamada mapvalues, que toma 3 parámetros, el primero es el vector que queremos cambiar, el segundo los valores dentro del vector que vamos a cambiar, y el tercero un vector con los valores que se reemplazaran en el orden respectivo del segundo parámetro.\n"
   ]
  },
  {
   "cell_type": "code",
   "execution_count": 6,
   "metadata": {},
   "outputs": [],
   "source": [
    "saberpro[,1]<- mapvalues(saberpro[,1],from=c(20163,20162),to=c(2016,2016))\n",
    "saberpro[,1]<- mapvalues(saberpro[,1],from=c(20173,20172),to=c(2017,2017))\n",
    "saberpro[,1]<- mapvalues(saberpro[,1],from=c(20183,20182,20184),to=c(2018,2018,2018))"
   ]
  },
  {
   "cell_type": "code",
   "execution_count": 7,
   "metadata": {},
   "outputs": [
    {
     "data": {
      "text/html": [
       "<ol class=list-inline>\n",
       "\t<li>2016</li>\n",
       "\t<li>2017</li>\n",
       "\t<li>2018</li>\n",
       "</ol>\n"
      ],
      "text/latex": [
       "\\begin{enumerate*}\n",
       "\\item 2016\n",
       "\\item 2017\n",
       "\\item 2018\n",
       "\\end{enumerate*}\n"
      ],
      "text/markdown": [
       "1. 2016\n",
       "2. 2017\n",
       "3. 2018\n",
       "\n",
       "\n"
      ],
      "text/plain": [
       "[1] 2016 2017 2018"
      ]
     },
     "metadata": {},
     "output_type": "display_data"
    }
   ],
   "source": [
    "unique(saberpro[,1]) # Comprobamos que haya funcionado"
   ]
  },
  {
   "cell_type": "markdown",
   "metadata": {},
   "source": [
    "## Arreglo de la Variable Departamento usando revalue"
   ]
  },
  {
   "cell_type": "code",
   "execution_count": 8,
   "metadata": {},
   "outputs": [
    {
     "data": {
      "text/html": [
       "<ol class=list-inline>\n",
       "\t<li>ATLANTICO</li>\n",
       "\t<li>CUNDINAMARCA</li>\n",
       "\t<li>CALDAS</li>\n",
       "\t<li>MAGDALENA</li>\n",
       "\t<li>CORDOBA</li>\n",
       "\t<li>CAUCA</li>\n",
       "\t<li>BOGOTA</li>\n",
       "\t<li>ANTIOQUIA</li>\n",
       "\t<li>META</li>\n",
       "\t<li>CESAR</li>\n",
       "\t<li>VALLE</li>\n",
       "\t<li>TOLIMA</li>\n",
       "\t<li>BOYACA</li>\n",
       "\t<li>SANTANDER</li>\n",
       "\t<li>BOLIVAR</li>\n",
       "\t<li></li>\n",
       "\t<li>HUILA</li>\n",
       "\t<li>NORTE SANTANDER</li>\n",
       "\t<li>SUCRE</li>\n",
       "\t<li>QUINDIO</li>\n",
       "\t<li>VAUPES</li>\n",
       "\t<li>RISARALDA</li>\n",
       "\t<li>NARIÑO</li>\n",
       "\t<li>CAQUETA</li>\n",
       "\t<li>CASANARE</li>\n",
       "\t<li>CHOCO</li>\n",
       "\t<li>PUTUMAYO</li>\n",
       "\t<li>LA GUAJIRA</li>\n",
       "\t<li>GUAVIARE</li>\n",
       "\t<li>ARAUCA</li>\n",
       "\t<li>SAN ANDRES</li>\n",
       "\t<li>VICHADA</li>\n",
       "\t<li>AMAZONAS</li>\n",
       "\t<li>EXTRANJERO</li>\n",
       "\t<li>GUAINIA</li>\n",
       "</ol>\n",
       "\n",
       "<details>\n",
       "\t<summary style=display:list-item;cursor:pointer>\n",
       "\t\t<strong>Levels</strong>:\n",
       "\t</summary>\n",
       "\t<ol class=list-inline>\n",
       "\t\t<li>''</li>\n",
       "\t\t<li>'AMAZONAS'</li>\n",
       "\t\t<li>'ANTIOQUIA'</li>\n",
       "\t\t<li>'ARAUCA'</li>\n",
       "\t\t<li>'ATLANTICO'</li>\n",
       "\t\t<li>'BOGOTA'</li>\n",
       "\t\t<li>'BOLIVAR'</li>\n",
       "\t\t<li>'BOYACA'</li>\n",
       "\t\t<li>'CALDAS'</li>\n",
       "\t\t<li>'CAQUETA'</li>\n",
       "\t\t<li>'CASANARE'</li>\n",
       "\t\t<li>'CAUCA'</li>\n",
       "\t\t<li>'CESAR'</li>\n",
       "\t\t<li>'CHOCO'</li>\n",
       "\t\t<li>'CORDOBA'</li>\n",
       "\t\t<li>'CUNDINAMARCA'</li>\n",
       "\t\t<li>'EXTRANJERO'</li>\n",
       "\t\t<li>'GUAINIA'</li>\n",
       "\t\t<li>'GUAVIARE'</li>\n",
       "\t\t<li>'HUILA'</li>\n",
       "\t\t<li>'LA GUAJIRA'</li>\n",
       "\t\t<li>'MAGDALENA'</li>\n",
       "\t\t<li>'META'</li>\n",
       "\t\t<li>'NARIÑO'</li>\n",
       "\t\t<li>'NORTE SANTANDER'</li>\n",
       "\t\t<li>'PUTUMAYO'</li>\n",
       "\t\t<li>'QUINDIO'</li>\n",
       "\t\t<li>'RISARALDA'</li>\n",
       "\t\t<li>'SAN ANDRES'</li>\n",
       "\t\t<li>'SANTANDER'</li>\n",
       "\t\t<li>'SUCRE'</li>\n",
       "\t\t<li>'TOLIMA'</li>\n",
       "\t\t<li>'VALLE'</li>\n",
       "\t\t<li>'VAUPES'</li>\n",
       "\t\t<li>'VICHADA'</li>\n",
       "\t</ol>\n",
       "</details>"
      ],
      "text/latex": [
       "\\begin{enumerate*}\n",
       "\\item ATLANTICO\n",
       "\\item CUNDINAMARCA\n",
       "\\item CALDAS\n",
       "\\item MAGDALENA\n",
       "\\item CORDOBA\n",
       "\\item CAUCA\n",
       "\\item BOGOTA\n",
       "\\item ANTIOQUIA\n",
       "\\item META\n",
       "\\item CESAR\n",
       "\\item VALLE\n",
       "\\item TOLIMA\n",
       "\\item BOYACA\n",
       "\\item SANTANDER\n",
       "\\item BOLIVAR\n",
       "\\item \n",
       "\\item HUILA\n",
       "\\item NORTE SANTANDER\n",
       "\\item SUCRE\n",
       "\\item QUINDIO\n",
       "\\item VAUPES\n",
       "\\item RISARALDA\n",
       "\\item NARIÑO\n",
       "\\item CAQUETA\n",
       "\\item CASANARE\n",
       "\\item CHOCO\n",
       "\\item PUTUMAYO\n",
       "\\item LA GUAJIRA\n",
       "\\item GUAVIARE\n",
       "\\item ARAUCA\n",
       "\\item SAN ANDRES\n",
       "\\item VICHADA\n",
       "\\item AMAZONAS\n",
       "\\item EXTRANJERO\n",
       "\\item GUAINIA\n",
       "\\end{enumerate*}\n",
       "\n",
       "\\emph{Levels}: \\begin{enumerate*}\n",
       "\\item ''\n",
       "\\item 'AMAZONAS'\n",
       "\\item 'ANTIOQUIA'\n",
       "\\item 'ARAUCA'\n",
       "\\item 'ATLANTICO'\n",
       "\\item 'BOGOTA'\n",
       "\\item 'BOLIVAR'\n",
       "\\item 'BOYACA'\n",
       "\\item 'CALDAS'\n",
       "\\item 'CAQUETA'\n",
       "\\item 'CASANARE'\n",
       "\\item 'CAUCA'\n",
       "\\item 'CESAR'\n",
       "\\item 'CHOCO'\n",
       "\\item 'CORDOBA'\n",
       "\\item 'CUNDINAMARCA'\n",
       "\\item 'EXTRANJERO'\n",
       "\\item 'GUAINIA'\n",
       "\\item 'GUAVIARE'\n",
       "\\item 'HUILA'\n",
       "\\item 'LA GUAJIRA'\n",
       "\\item 'MAGDALENA'\n",
       "\\item 'META'\n",
       "\\item 'NARIÑO'\n",
       "\\item 'NORTE SANTANDER'\n",
       "\\item 'PUTUMAYO'\n",
       "\\item 'QUINDIO'\n",
       "\\item 'RISARALDA'\n",
       "\\item 'SAN ANDRES'\n",
       "\\item 'SANTANDER'\n",
       "\\item 'SUCRE'\n",
       "\\item 'TOLIMA'\n",
       "\\item 'VALLE'\n",
       "\\item 'VAUPES'\n",
       "\\item 'VICHADA'\n",
       "\\end{enumerate*}\n"
      ],
      "text/markdown": [
       "1. ATLANTICO\n",
       "2. CUNDINAMARCA\n",
       "3. CALDAS\n",
       "4. MAGDALENA\n",
       "5. CORDOBA\n",
       "6. CAUCA\n",
       "7. BOGOTA\n",
       "8. ANTIOQUIA\n",
       "9. META\n",
       "10. CESAR\n",
       "11. VALLE\n",
       "12. TOLIMA\n",
       "13. BOYACA\n",
       "14. SANTANDER\n",
       "15. BOLIVAR\n",
       "16. \n",
       "17. HUILA\n",
       "18. NORTE SANTANDER\n",
       "19. SUCRE\n",
       "20. QUINDIO\n",
       "21. VAUPES\n",
       "22. RISARALDA\n",
       "23. NARIÑO\n",
       "24. CAQUETA\n",
       "25. CASANARE\n",
       "26. CHOCO\n",
       "27. PUTUMAYO\n",
       "28. LA GUAJIRA\n",
       "29. GUAVIARE\n",
       "30. ARAUCA\n",
       "31. SAN ANDRES\n",
       "32. VICHADA\n",
       "33. AMAZONAS\n",
       "34. EXTRANJERO\n",
       "35. GUAINIA\n",
       "\n",
       "\n",
       "\n",
       "**Levels**: 1. ''\n",
       "2. 'AMAZONAS'\n",
       "3. 'ANTIOQUIA'\n",
       "4. 'ARAUCA'\n",
       "5. 'ATLANTICO'\n",
       "6. 'BOGOTA'\n",
       "7. 'BOLIVAR'\n",
       "8. 'BOYACA'\n",
       "9. 'CALDAS'\n",
       "10. 'CAQUETA'\n",
       "11. 'CASANARE'\n",
       "12. 'CAUCA'\n",
       "13. 'CESAR'\n",
       "14. 'CHOCO'\n",
       "15. 'CORDOBA'\n",
       "16. 'CUNDINAMARCA'\n",
       "17. 'EXTRANJERO'\n",
       "18. 'GUAINIA'\n",
       "19. 'GUAVIARE'\n",
       "20. 'HUILA'\n",
       "21. 'LA GUAJIRA'\n",
       "22. 'MAGDALENA'\n",
       "23. 'META'\n",
       "24. 'NARIÑO'\n",
       "25. 'NORTE SANTANDER'\n",
       "26. 'PUTUMAYO'\n",
       "27. 'QUINDIO'\n",
       "28. 'RISARALDA'\n",
       "29. 'SAN ANDRES'\n",
       "30. 'SANTANDER'\n",
       "31. 'SUCRE'\n",
       "32. 'TOLIMA'\n",
       "33. 'VALLE'\n",
       "34. 'VAUPES'\n",
       "35. 'VICHADA'\n",
       "\n",
       "\n"
      ],
      "text/plain": [
       " [1] ATLANTICO       CUNDINAMARCA    CALDAS          MAGDALENA      \n",
       " [5] CORDOBA         CAUCA           BOGOTA          ANTIOQUIA      \n",
       " [9] META            CESAR           VALLE           TOLIMA         \n",
       "[13] BOYACA          SANTANDER       BOLIVAR                        \n",
       "[17] HUILA           NORTE SANTANDER SUCRE           QUINDIO        \n",
       "[21] VAUPES          RISARALDA       NARIÑO          CAQUETA        \n",
       "[25] CASANARE        CHOCO           PUTUMAYO        LA GUAJIRA     \n",
       "[29] GUAVIARE        ARAUCA          SAN ANDRES      VICHADA        \n",
       "[33] AMAZONAS        EXTRANJERO      GUAINIA        \n",
       "35 Levels:  AMAZONAS ANTIOQUIA ARAUCA ATLANTICO BOGOTA BOLIVAR ... VICHADA"
      ]
     },
     "metadata": {},
     "output_type": "display_data"
    }
   ],
   "source": [
    "#Arreglo valores de Nariño, debido a que al cargar la codificación UTF-8 es_CO no es teniada en cuenta, por lo tanto tildes y ñ no son validas\n",
    "saberpro[,3] <- revalue(saberpro[,3], c( 'NARIÃ‘O'= \"NARIÑO\", 'NARIÃƒâ€˜O' = \"NARIÑO\"))\n",
    "unique(saberpro[,3])# Ver las regiones "
   ]
  },
  {
   "cell_type": "markdown",
   "metadata": {},
   "source": [
    "## Calcular tamaño de la muestra"
   ]
  },
  {
   "cell_type": "markdown",
   "metadata": {},
   "source": [
    "Para los siguientes ejercicios necesitaremos una muestra de la poblacion total, para ello como variables usaremos un nivel de confianza del 95%, la poblacion que como se nos indica anteriormente es de 725295 y el nivel de error (e) de 0.05.\n"
   ]
  },
  {
   "cell_type": "code",
   "execution_count": 36,
   "metadata": {},
   "outputs": [
    {
     "name": "stdout",
     "output_type": "stream",
     "text": [
      "\n",
      "sample.size.prop object: Sample size for proportion estimate\n",
      "With finite population correction: N=725295, precision e=0.05 and expected proportion P=0.5\n",
      "\n",
      "Sample size needed: 271\n",
      "\n"
     ]
    }
   ],
   "source": [
    "TM90<-sample.size.prop(e=0.05, P = 0.5, N = 725295 , level = 0.90)\n",
    "print(TM90)\n",
    "TM90<-271"
   ]
  },
  {
   "cell_type": "code",
   "execution_count": 37,
   "metadata": {},
   "outputs": [
    {
     "name": "stdout",
     "output_type": "stream",
     "text": [
      "\n",
      "sample.size.prop object: Sample size for proportion estimate\n",
      "With finite population correction: N=725295, precision e=0.05 and expected proportion P=0.5\n",
      "\n",
      "Sample size needed: 384\n",
      "\n"
     ]
    }
   ],
   "source": [
    "TM95<-sample.size.prop(e=0.05, P = 0.5, N = 725295 , level = 0.95)\n",
    "print(TM95)\n",
    "TM95<-384"
   ]
  },
  {
   "cell_type": "code",
   "execution_count": 38,
   "metadata": {},
   "outputs": [
    {
     "name": "stdout",
     "output_type": "stream",
     "text": [
      "\n",
      "sample.size.prop object: Sample size for proportion estimate\n",
      "With finite population correction: N=725295, precision e=0.05 and expected proportion P=0.5\n",
      "\n",
      "Sample size needed: 663\n",
      "\n"
     ]
    }
   ],
   "source": [
    "TM99<-sample.size.prop(e=0.05, P = 0.5, N = 725295 , level = 0.99)\n",
    "print(TM99)\n",
    "TM99<-663"
   ]
  },
  {
   "cell_type": "markdown",
   "metadata": {},
   "source": [
    "## 1. Realice muestreo aleatorio simple y realice las estimaciones (inferencia) correspondientes. Tenga en cuenta que son múltiples variables"
   ]
  },
  {
   "cell_type": "code",
   "execution_count": 10,
   "metadata": {},
   "outputs": [],
   "source": [
    "puntajes<-data.frame(periodo=saberpro$periodo,dpto=saberpro$estu_depto_reside,puntajeing=saberpro$ingles_punt, puntajelec=saberpro$lect_crit_punt, puntajeraz=saberpro$raz_cuant_punt)"
   ]
  },
  {
   "cell_type": "code",
   "execution_count": 42,
   "metadata": {},
   "outputs": [
    {
     "data": {
      "text/html": [
       "<ol class=list-inline>\n",
       "\t<li>393498</li>\n",
       "\t<li>568943</li>\n",
       "\t<li>396035</li>\n",
       "\t<li>178566</li>\n",
       "\t<li>421776</li>\n",
       "\t<li>33350</li>\n",
       "</ol>\n"
      ],
      "text/latex": [
       "\\begin{enumerate*}\n",
       "\\item 393498\n",
       "\\item 568943\n",
       "\\item 396035\n",
       "\\item 178566\n",
       "\\item 421776\n",
       "\\item 33350\n",
       "\\end{enumerate*}\n"
      ],
      "text/markdown": [
       "1. 393498\n",
       "2. 568943\n",
       "3. 396035\n",
       "4. 178566\n",
       "5. 421776\n",
       "6. 33350\n",
       "\n",
       "\n"
      ],
      "text/plain": [
       "[1] 393498 568943 396035 178566 421776  33350"
      ]
     },
     "metadata": {},
     "output_type": "display_data"
    }
   ],
   "source": [
    "n1<-100\n",
    "n2<-384\n",
    "n3<-500\n",
    "n4<-1000\n",
    "\n",
    "muestra1<- sample(1:nrow(puntajes),size=TM90,replace=FALSE)\n",
    "muestra2<- sample(1:nrow(puntajes),size=TM95,replace=FALSE)\n",
    "muestra3<- sample(1:nrow(puntajes),size=n3,replace=FALSE)\n",
    "muestra4<- sample(1:nrow(puntajes),size=TM99,replace=FALSE)\n",
    "head(muestra3)"
   ]
  },
  {
   "cell_type": "code",
   "execution_count": 12,
   "metadata": {},
   "outputs": [
    {
     "data": {
      "image/png": "[encoded data removed]",
      "text/plain": [
       "Plot with title \"Histogram of puntajeraz\""
      ]
     },
     "metadata": {},
     "output_type": "display_data"
    }
   ],
   "source": [
    "par(mfrow=c(3,3))\n",
    "with(puntajes[muestra3,], boxplot(puntajeing, main=\"Puntaje Ingles\"))\n",
    "with(puntajes[muestra3,], boxplot(puntajelec, main=\"Puntaje Lectura Critica\"))\n",
    "with(puntajes[muestra3,], boxplot(puntajeraz, main=\"Puntaje Razonamiento C\"))\n",
    "with(puntajes[muestra3,], plot(puntajeing, pch = 20))\n",
    "with(puntajes[muestra3,], plot(puntajelec, pch = 20))\n",
    "with(puntajes[muestra3,], plot(puntajeraz, pch = 20))\n",
    "with(puntajes[muestra3,], hist(puntajeing, nclass = 50))\n",
    "with(puntajes[muestra3,], hist(puntajelec, nclass = 50))\n",
    "with(puntajes[muestra3,], hist(puntajeraz, nclass = 50))\n",
    "par(mfrow=c(1,1))"
   ]
  },
  {
   "cell_type": "code",
   "execution_count": 13,
   "metadata": {},
   "outputs": [
    {
     "data": {
      "text/html": [
       "<table>\n",
       "<thead><tr><th scope=col>periodo</th><th scope=col>dpto</th><th scope=col>puntajeing</th><th scope=col>puntajelec</th><th scope=col>puntajeraz</th></tr></thead>\n",
       "<tbody>\n",
       "\t<tr><td>2016        </td><td>ATLANTICO   </td><td>160         </td><td>130         </td><td>160         </td></tr>\n",
       "\t<tr><td>2016        </td><td>CUNDINAMARCA</td><td>125         </td><td>132         </td><td>138         </td></tr>\n",
       "\t<tr><td>2016        </td><td>CALDAS      </td><td>104         </td><td>157         </td><td>146         </td></tr>\n",
       "\t<tr><td>2016        </td><td>MAGDALENA   </td><td>160         </td><td>172         </td><td>160         </td></tr>\n",
       "\t<tr><td>2016        </td><td>CORDOBA     </td><td>192         </td><td>122         </td><td>130         </td></tr>\n",
       "\t<tr><td>2016        </td><td>CAUCA       </td><td>108         </td><td>129         </td><td>159         </td></tr>\n",
       "</tbody>\n",
       "</table>\n"
      ],
      "text/latex": [
       "\\begin{tabular}{r|lllll}\n",
       " periodo & dpto & puntajeing & puntajelec & puntajeraz\\\\\n",
       "\\hline\n",
       "\t 2016         & ATLANTICO    & 160          & 130          & 160         \\\\\n",
       "\t 2016         & CUNDINAMARCA & 125          & 132          & 138         \\\\\n",
       "\t 2016         & CALDAS       & 104          & 157          & 146         \\\\\n",
       "\t 2016         & MAGDALENA    & 160          & 172          & 160         \\\\\n",
       "\t 2016         & CORDOBA      & 192          & 122          & 130         \\\\\n",
       "\t 2016         & CAUCA        & 108          & 129          & 159         \\\\\n",
       "\\end{tabular}\n"
      ],
      "text/markdown": [
       "\n",
       "| periodo | dpto | puntajeing | puntajelec | puntajeraz |\n",
       "|---|---|---|---|---|\n",
       "| 2016         | ATLANTICO    | 160          | 130          | 160          |\n",
       "| 2016         | CUNDINAMARCA | 125          | 132          | 138          |\n",
       "| 2016         | CALDAS       | 104          | 157          | 146          |\n",
       "| 2016         | MAGDALENA    | 160          | 172          | 160          |\n",
       "| 2016         | CORDOBA      | 192          | 122          | 130          |\n",
       "| 2016         | CAUCA        | 108          | 129          | 159          |\n",
       "\n"
      ],
      "text/plain": [
       "  periodo dpto         puntajeing puntajelec puntajeraz\n",
       "1 2016    ATLANTICO    160        130        160       \n",
       "2 2016    CUNDINAMARCA 125        132        138       \n",
       "3 2016    CALDAS       104        157        146       \n",
       "4 2016    MAGDALENA    160        172        160       \n",
       "5 2016    CORDOBA      192        122        130       \n",
       "6 2016    CAUCA        108        129        159       "
      ]
     },
     "metadata": {},
     "output_type": "display_data"
    }
   ],
   "source": [
    "head(puntajes)"
   ]
  },
  {
   "cell_type": "code",
   "execution_count": 43,
   "metadata": {},
   "outputs": [
    {
     "data": {
      "text/html": [
       "<table>\n",
       "<thead><tr><th></th><th scope=col>pop</th><th scope=col>m1</th><th scope=col>m2</th><th scope=col>m3</th><th scope=col>m4</th></tr></thead>\n",
       "<tbody>\n",
       "\t<tr><th scope=row>tamaño</th><td>725295.0</td><td>271.0   </td><td>384.0   </td><td>500.0   </td><td>663.0   </td></tr>\n",
       "\t<tr><th scope=row>media</th><td>   150.4</td><td>149.4   </td><td>150.0   </td><td>148.9   </td><td>153.3   </td></tr>\n",
       "\t<tr><th scope=row>desviación estándar</th><td>    31.9</td><td> 31.5   </td><td> 31.0   </td><td> 30.8   </td><td> 32.1   </td></tr>\n",
       "\t<tr><th scope=row>simetría</th><td>     0.3</td><td>  0.8   </td><td>  0.4   </td><td>  0.7   </td><td>  0.7   </td></tr>\n",
       "\t<tr><th scope=row>kurtosis</th><td>     1.5</td><td>  1.0   </td><td>  1.8   </td><td>  3.3   </td><td>  0.8   </td></tr>\n",
       "</tbody>\n",
       "</table>\n"
      ],
      "text/latex": [
       "\\begin{tabular}{r|lllll}\n",
       "  & pop & m1 & m2 & m3 & m4\\\\\n",
       "\\hline\n",
       "\ttamaño & 725295.0 & 271.0    & 384.0    & 500.0    & 663.0   \\\\\n",
       "\tmedia &    150.4 & 149.4    & 150.0    & 148.9    & 153.3   \\\\\n",
       "\tdesviación estándar &     31.9 &  31.5    &  31.0    &  30.8    &  32.1   \\\\\n",
       "\tsimetría &      0.3 &   0.8    &   0.4    &   0.7    &   0.7   \\\\\n",
       "\tkurtosis &      1.5 &   1.0    &   1.8    &   3.3    &   0.8   \\\\\n",
       "\\end{tabular}\n"
      ],
      "text/markdown": [
       "\n",
       "| <!--/--> | pop | m1 | m2 | m3 | m4 |\n",
       "|---|---|---|---|---|---|\n",
       "| tamaño | 725295.0 | 271.0    | 384.0    | 500.0    | 663.0    |\n",
       "| media |    150.4 | 149.4    | 150.0    | 148.9    | 153.3    |\n",
       "| desviación estándar |     31.9 |  31.5    |  31.0    |  30.8    |  32.1    |\n",
       "| simetría |      0.3 |   0.8    |   0.4    |   0.7    |   0.7    |\n",
       "| kurtosis |      1.5 |   1.0    |   1.8    |   3.3    |   0.8    |\n",
       "\n"
      ],
      "text/plain": [
       "                    pop      m1    m2    m3    m4   \n",
       "tamaño              725295.0 271.0 384.0 500.0 663.0\n",
       "media                  150.4 149.4 150.0 148.9 153.3\n",
       "desviación estándar     31.9  31.5  31.0  30.8  32.1\n",
       "simetría                 0.3   0.8   0.4   0.7   0.7\n",
       "kurtosis                 1.5   1.0   1.8   3.3   0.8"
      ]
     },
     "metadata": {},
     "output_type": "display_data"
    },
    {
     "data": {
      "text/html": [
       "<table>\n",
       "<thead><tr><th></th><th scope=col>pop</th><th scope=col>m1</th><th scope=col>m2</th><th scope=col>m3</th><th scope=col>m4</th></tr></thead>\n",
       "<tbody>\n",
       "\t<tr><th scope=row>tamaño</th><td>725295.0</td><td>271.0   </td><td>384.0   </td><td>500.0   </td><td>663.0   </td></tr>\n",
       "\t<tr><th scope=row>media</th><td>   150.1</td><td>149.2   </td><td>149.8   </td><td>150.5   </td><td>150.2   </td></tr>\n",
       "\t<tr><th scope=row>desviación estándar</th><td>    31.0</td><td> 29.8   </td><td> 31.6   </td><td> 30.0   </td><td> 31.7   </td></tr>\n",
       "\t<tr><th scope=row>simetría</th><td>     0.0</td><td>  0.0   </td><td> -0.2   </td><td>  0.1   </td><td>  0.0   </td></tr>\n",
       "\t<tr><th scope=row>kurtosis</th><td>    -0.3</td><td> -0.6   </td><td> -0.2   </td><td> -0.4   </td><td> -0.6   </td></tr>\n",
       "</tbody>\n",
       "</table>\n"
      ],
      "text/latex": [
       "\\begin{tabular}{r|lllll}\n",
       "  & pop & m1 & m2 & m3 & m4\\\\\n",
       "\\hline\n",
       "\ttamaño & 725295.0 & 271.0    & 384.0    & 500.0    & 663.0   \\\\\n",
       "\tmedia &    150.1 & 149.2    & 149.8    & 150.5    & 150.2   \\\\\n",
       "\tdesviación estándar &     31.0 &  29.8    &  31.6    &  30.0    &  31.7   \\\\\n",
       "\tsimetría &      0.0 &   0.0    &  -0.2    &   0.1    &   0.0   \\\\\n",
       "\tkurtosis &     -0.3 &  -0.6    &  -0.2    &  -0.4    &  -0.6   \\\\\n",
       "\\end{tabular}\n"
      ],
      "text/markdown": [
       "\n",
       "| <!--/--> | pop | m1 | m2 | m3 | m4 |\n",
       "|---|---|---|---|---|---|\n",
       "| tamaño | 725295.0 | 271.0    | 384.0    | 500.0    | 663.0    |\n",
       "| media |    150.1 | 149.2    | 149.8    | 150.5    | 150.2    |\n",
       "| desviación estándar |     31.0 |  29.8    |  31.6    |  30.0    |  31.7    |\n",
       "| simetría |      0.0 |   0.0    |  -0.2    |   0.1    |   0.0    |\n",
       "| kurtosis |     -0.3 |  -0.6    |  -0.2    |  -0.4    |  -0.6    |\n",
       "\n"
      ],
      "text/plain": [
       "                    pop      m1    m2    m3    m4   \n",
       "tamaño              725295.0 271.0 384.0 500.0 663.0\n",
       "media                  150.1 149.2 149.8 150.5 150.2\n",
       "desviación estándar     31.0  29.8  31.6  30.0  31.7\n",
       "simetría                 0.0   0.0  -0.2   0.1   0.0\n",
       "kurtosis                -0.3  -0.6  -0.2  -0.4  -0.6"
      ]
     },
     "metadata": {},
     "output_type": "display_data"
    },
    {
     "data": {
      "text/html": [
       "<table>\n",
       "<thead><tr><th></th><th scope=col>pop</th><th scope=col>m1</th><th scope=col>m2</th><th scope=col>m3</th><th scope=col>m4</th></tr></thead>\n",
       "<tbody>\n",
       "\t<tr><th scope=row>tamaño</th><td>725295.0</td><td>271.0   </td><td>384.0   </td><td>500.0   </td><td>663.0   </td></tr>\n",
       "\t<tr><th scope=row>media</th><td>   149.5</td><td>148.9   </td><td>149.7   </td><td>147.3   </td><td>151.1   </td></tr>\n",
       "\t<tr><th scope=row>desviación estándar</th><td>    30.7</td><td> 31.4   </td><td> 31.0   </td><td> 31.1   </td><td> 30.7   </td></tr>\n",
       "\t<tr><th scope=row>simetría</th><td>     0.2</td><td>  0.1   </td><td>  0.3   </td><td>  0.4   </td><td>  0.2   </td></tr>\n",
       "\t<tr><th scope=row>kurtosis</th><td>     0.1</td><td> -0.5   </td><td>  0.6   </td><td>  0.4   </td><td>  0.1   </td></tr>\n",
       "</tbody>\n",
       "</table>\n"
      ],
      "text/latex": [
       "\\begin{tabular}{r|lllll}\n",
       "  & pop & m1 & m2 & m3 & m4\\\\\n",
       "\\hline\n",
       "\ttamaño & 725295.0 & 271.0    & 384.0    & 500.0    & 663.0   \\\\\n",
       "\tmedia &    149.5 & 148.9    & 149.7    & 147.3    & 151.1   \\\\\n",
       "\tdesviación estándar &     30.7 &  31.4    &  31.0    &  31.1    &  30.7   \\\\\n",
       "\tsimetría &      0.2 &   0.1    &   0.3    &   0.4    &   0.2   \\\\\n",
       "\tkurtosis &      0.1 &  -0.5    &   0.6    &   0.4    &   0.1   \\\\\n",
       "\\end{tabular}\n"
      ],
      "text/markdown": [
       "\n",
       "| <!--/--> | pop | m1 | m2 | m3 | m4 |\n",
       "|---|---|---|---|---|---|\n",
       "| tamaño | 725295.0 | 271.0    | 384.0    | 500.0    | 663.0    |\n",
       "| media |    149.5 | 148.9    | 149.7    | 147.3    | 151.1    |\n",
       "| desviación estándar |     30.7 |  31.4    |  31.0    |  31.1    |  30.7    |\n",
       "| simetría |      0.2 |   0.1    |   0.3    |   0.4    |   0.2    |\n",
       "| kurtosis |      0.1 |  -0.5    |   0.6    |   0.4    |   0.1    |\n",
       "\n"
      ],
      "text/plain": [
       "                    pop      m1    m2    m3    m4   \n",
       "tamaño              725295.0 271.0 384.0 500.0 663.0\n",
       "media                  149.5 148.9 149.7 147.3 151.1\n",
       "desviación estándar     30.7  31.4  31.0  31.1  30.7\n",
       "simetría                 0.2   0.1   0.3   0.4   0.2\n",
       "kurtosis                 0.1  -0.5   0.6   0.4   0.1"
      ]
     },
     "metadata": {},
     "output_type": "display_data"
    }
   ],
   "source": [
    "pop<-round(mystats(puntajes[,'puntajeing']),1)\n",
    "m1<-round(mystats(puntajes[muestra1,'puntajeing']),1)\n",
    "m2<-round(mystats(puntajes[muestra2,'puntajeing']),1)\n",
    "m3<-round(mystats(puntajes[muestra3,'puntajeing']),1)\n",
    "m4<-round(mystats(puntajes[muestra4,'puntajeing']),1)\n",
    "data.frame(pop,m1,m2,m3,m4)\n",
    "pop<-round(mystats(puntajes[,'puntajelec']),1)\n",
    "m1<-round(mystats(puntajes[muestra1,'puntajelec']),1)\n",
    "m2<-round(mystats(puntajes[muestra2,'puntajelec']),1)\n",
    "m3<-round(mystats(puntajes[muestra3,'puntajelec']),1)\n",
    "m4<-round(mystats(puntajes[muestra4,'puntajelec']),1)\n",
    "data.frame(pop,m1,m2,m3,m4)\n",
    "pop<-round(mystats(puntajes[,'puntajeraz']),1)\n",
    "m1<-round(mystats(puntajes[muestra1,'puntajeraz']),1)\n",
    "m2<-round(mystats(puntajes[muestra2,'puntajeraz']),1)\n",
    "m3<-round(mystats(puntajes[muestra3,'puntajeraz']),1)\n",
    "m4<-round(mystats(puntajes[muestra4,'puntajeraz']),1)\n",
    "data.frame(pop,m1,m2,m3,m4)"
   ]
  },
  {
   "cell_type": "markdown",
   "metadata": {},
   "source": [
    "Ahora vamos a ver como varia las graficas del puntaje obtenido en ingles a traves de los años en ingles, para ello usaremos las muestras y graficaremos para observar si hay alguna diferencia."
   ]
  },
  {
   "cell_type": "code",
   "execution_count": 44,
   "metadata": {},
   "outputs": [
    {
     "data": {
      "image/png": "[encoded data removed]",
      "text/plain": [
       "Plot with title \"Muestra 3 (663)\""
      ]
     },
     "metadata": {},
     "output_type": "display_data"
    }
   ],
   "source": [
    "par(mfrow=c(2,5))\n",
    "with(puntajes, boxplot(puntajeing, main = 'Población'))\n",
    "with(puntajes[muestra1,], boxplot(puntajeing, main = 'Muestra 1 (271)'))\n",
    "with(puntajes[muestra2,], boxplot(puntajeing, main = 'Muestra 2 (384)'))\n",
    "with(puntajes[muestra3,], boxplot(puntajeing, main = 'Muestra 3 (500)'))\n",
    "with(puntajes[muestra4,], boxplot(puntajeing, main = 'Muestra 3 (663)'))\n",
    "with(puntajes, hist(puntajeing, nclass = 50, main = 'Población'))\n",
    "with(puntajes[muestra1,], hist(puntajeing, nclass = 50, main = 'Muestra 1 (271)'))\n",
    "with(puntajes[muestra2,], hist(puntajeing, nclass = 50, main = 'Muestra 2 (284)'))\n",
    "with(puntajes[muestra3,], hist(puntajeing, nclass = 50, main = 'Muestra 3 (500)'))\n",
    "with(puntajes[muestra4,], hist(puntajeing, nclass = 50, main = 'Muestra 3 (663)'))\n",
    "par(mfrow=c(1,1))"
   ]
  },
  {
   "cell_type": "markdown",
   "metadata": {},
   "source": [
    "## Inferencias"
   ]
  },
  {
   "cell_type": "markdown",
   "metadata": {},
   "source": [
    "Gracias a las graficas y a las tablas generadas por el software podemos comparar de forma facil e intuitiva los 3 tipos de puntajes que analizamos en este caso.\n",
    "\n",
    "A simple vista se puede ver que los puntajes de lectura critica y razonamiento cuantitativo estan mas dispersos, lo cual hara que al graficar sus datos formen una campana gausiana mesocurtica ya que su curtosis oscila o tiende al 0. En cambio, el puntaje de ingles se agrupa en la media formando una grafica leptocurtica. Esto nos quiere decir que los estudiantes en Colombia en un muy alto promedio poseen las mismas capacidades en la prueba de ingles como si tuviesen el mismo nivel de ingles, mientras que en las otras dos materias no tienen eel mismo nivel.\n",
    "\n",
    "Ahora bien podemos ver que superando la cantidad de la muestra por defecto (384) la grafica se asemeja en gran manera a la grafica poblacional, es decir, a medida que pasamos el 95% de confianza podemos ver practicamente como se distribuye todo el cuerpo estudiantil en las pruebas de ingles."
   ]
  },
  {
   "cell_type": "markdown",
   "metadata": {},
   "source": [
    "## 2.  Realice los correspondientes muestreos estratificados y compare los resultados con los anteriores. Explique las diferencias y/o similitudes"
   ]
  },
  {
   "cell_type": "code",
   "execution_count": 17,
   "metadata": {},
   "outputs": [],
   "source": [
    "library(magrittr) # Permite leer la función %>%"
   ]
  },
  {
   "cell_type": "code",
   "execution_count": 18,
   "metadata": {},
   "outputs": [
    {
     "data": {
      "text/html": [
       "<table>\n",
       "<thead><tr><th scope=col>periodo</th><th scope=col>n</th><th scope=col>s</th><th scope=col>p</th></tr></thead>\n",
       "<tbody>\n",
       "\t<tr><td>2016     </td><td>242628   </td><td>31.87524 </td><td>0.3345232</td></tr>\n",
       "\t<tr><td>2017     </td><td>245566   </td><td>31.64669 </td><td>0.3385740</td></tr>\n",
       "\t<tr><td>2018     </td><td>237101   </td><td>32.32753 </td><td>0.3269028</td></tr>\n",
       "</tbody>\n",
       "</table>\n"
      ],
      "text/latex": [
       "\\begin{tabular}{r|llll}\n",
       " periodo & n & s & p\\\\\n",
       "\\hline\n",
       "\t 2016      & 242628    & 31.87524  & 0.3345232\\\\\n",
       "\t 2017      & 245566    & 31.64669  & 0.3385740\\\\\n",
       "\t 2018      & 237101    & 32.32753  & 0.3269028\\\\\n",
       "\\end{tabular}\n"
      ],
      "text/markdown": [
       "\n",
       "| periodo | n | s | p |\n",
       "|---|---|---|---|\n",
       "| 2016      | 242628    | 31.87524  | 0.3345232 |\n",
       "| 2017      | 245566    | 31.64669  | 0.3385740 |\n",
       "| 2018      | 237101    | 32.32753  | 0.3269028 |\n",
       "\n"
      ],
      "text/plain": [
       "  periodo n      s        p        \n",
       "1 2016    242628 31.87524 0.3345232\n",
       "2 2017    245566 31.64669 0.3385740\n",
       "3 2018    237101 32.32753 0.3269028"
      ]
     },
     "metadata": {},
     "output_type": "display_data"
    }
   ],
   "source": [
    "Estratos<- puntajes %>%\n",
    "  select(periodo,puntajeing) %>%\n",
    "  group_by(periodo) %>%\n",
    "  summarise(n=n(),\n",
    "            s=sd(puntajeing)) %>%\n",
    "  mutate(p=n/sum(n))\n",
    "\n",
    "Estratos"
   ]
  },
  {
   "cell_type": "code",
   "execution_count": 61,
   "metadata": {},
   "outputs": [],
   "source": [
    "nsizePropTM90<-nstrata(n=TM90,wh=Estratos[,4],method=\"proportional\")\n",
    "nsizePropTM95<-nstrata(n=TM95,wh=Estratos[,4],method=\"proportional\")\n",
    "nsizeProp500<-nstrata(n=500,wh=Estratos[,4],method=\"proportional\")\n",
    "nsizePropTM99<-nstrata(n=TM99,wh=Estratos[,4],method=\"proportional\")"
   ]
  },
  {
   "cell_type": "code",
   "execution_count": 63,
   "metadata": {},
   "outputs": [
    {
     "data": {
      "text/html": [
       "<table>\n",
       "<thead><tr><th scope=col>per</th><th scope=col>p</th><th scope=col>p.1</th><th scope=col>p.2</th><th scope=col>p.3</th></tr></thead>\n",
       "<tbody>\n",
       "\t<tr><td>2016</td><td>91  </td><td>129 </td><td>168 </td><td>222 </td></tr>\n",
       "\t<tr><td>2017</td><td>92  </td><td>131 </td><td>170 </td><td>225 </td></tr>\n",
       "\t<tr><td>2018</td><td>89  </td><td>126 </td><td>164 </td><td>217 </td></tr>\n",
       "</tbody>\n",
       "</table>\n"
      ],
      "text/latex": [
       "\\begin{tabular}{r|lllll}\n",
       " per & p & p.1 & p.2 & p.3\\\\\n",
       "\\hline\n",
       "\t 2016 & 91   & 129  & 168  & 222 \\\\\n",
       "\t 2017 & 92   & 131  & 170  & 225 \\\\\n",
       "\t 2018 & 89   & 126  & 164  & 217 \\\\\n",
       "\\end{tabular}\n"
      ],
      "text/markdown": [
       "\n",
       "| per | p | p.1 | p.2 | p.3 |\n",
       "|---|---|---|---|---|\n",
       "| 2016 | 91   | 129  | 168  | 222  |\n",
       "| 2017 | 92   | 131  | 170  | 225  |\n",
       "| 2018 | 89   | 126  | 164  | 217  |\n",
       "\n"
      ],
      "text/plain": [
       "  per  p  p.1 p.2 p.3\n",
       "1 2016 91 129 168 222\n",
       "2 2017 92 131 170 225\n",
       "3 2018 89 126 164 217"
      ]
     },
     "metadata": {},
     "output_type": "display_data"
    }
   ],
   "source": [
    "data.frame(per=Estratos$periodo,nsizePropTM90,nsizePropTM95,nsizeProp500,nsizePropTM99)"
   ]
  },
  {
   "cell_type": "code",
   "execution_count": 64,
   "metadata": {},
   "outputs": [],
   "source": [
    "m2016<-129\n",
    "m201690<-91\n",
    "m201699<-222\n",
    "m2016TM90<- sample(1:nrow(puntajes[puntajes$periodo=='2016',]),size=m201690,replace=FALSE)\n",
    "m2016TM95<- sample(1:nrow(puntajes[puntajes$periodo=='2016',]),size=m2016,replace=FALSE)\n",
    "m2016TM99<- sample(1:nrow(puntajes[puntajes$periodo=='2016',]),size=m201699,replace=FALSE)\n",
    "#m2016TM"
   ]
  },
  {
   "cell_type": "code",
   "execution_count": 65,
   "metadata": {},
   "outputs": [],
   "source": [
    "m2017<-131\n",
    "m201790<-92\n",
    "m201799<-225\n",
    "m2017TM90<- sample(1:nrow(puntajes[puntajes$periodo=='2017',]),size=m201790,replace=FALSE)\n",
    "m2017TM95<- sample(1:nrow(puntajes[puntajes$periodo=='2017',]),size=m2017,replace=FALSE)\n",
    "m2017TM99<- sample(1:nrow(puntajes[puntajes$periodo=='2017',]),size=m201799,replace=FALSE)\n",
    "#m2017TM"
   ]
  },
  {
   "cell_type": "code",
   "execution_count": 66,
   "metadata": {},
   "outputs": [],
   "source": [
    "m2018<-126\n",
    "m201890<-89\n",
    "m201899<-217\n",
    "m2018TM90<- sample(1:nrow(puntajes[puntajes$periodo=='2018',]),size=m201890,replace=FALSE)\n",
    "m2018TM95<- sample(1:nrow(puntajes[puntajes$periodo=='2018',]),size=m2018,replace=FALSE)\n",
    "m2018TM99<- sample(1:nrow(puntajes[puntajes$periodo=='2018',]),size=m201899,replace=FALSE)\n",
    "#m2018TM"
   ]
  },
  {
   "cell_type": "code",
   "execution_count": 67,
   "metadata": {},
   "outputs": [],
   "source": [
    "mestrato90<-c(m2016TM90,m2017TM90,m2018TM90)\n",
    "mestrato95<-c(m2016TM95,m2017TM95,m2018TM95)\n",
    "mestrato99<-c(m2016TM99,m2017TM95,m2018TM99)"
   ]
  },
  {
   "cell_type": "code",
   "execution_count": 69,
   "metadata": {},
   "outputs": [
    {
     "data": {
      "image/png": "[encoded data removed]",
      "text/plain": [
       "Plot with title \"2018 90\""
      ]
     },
     "metadata": {},
     "output_type": "display_data"
    },
    {
     "data": {
      "image/png": "[encoded data removed]",
      "text/plain": [
       "Plot with title \"2018 95\""
      ]
     },
     "metadata": {},
     "output_type": "display_data"
    },
    {
     "data": {
      "image/png": "[encoded data removed]",
      "text/plain": [
       "Plot with title \"2018 99\""
      ]
     },
     "metadata": {},
     "output_type": "display_data"
    }
   ],
   "source": [
    "par(mfrow=c(1,3))\n",
    "\n",
    "with(puntajes[m2016TM90,], boxplot(puntajeing, pch = 20, main = '2016 90'))\n",
    "with(puntajes[m2017TM90,], boxplot(puntajeing, pch = 20, main = '2017 90'))\n",
    "with(puntajes[m2018TM90,], boxplot(puntajeing, pch = 20, main = '2018 90'))\n",
    "with(puntajes[m2016TM95,], boxplot(puntajeing, pch = 20, main = '2016 95'))\n",
    "with(puntajes[m2017TM95,], boxplot(puntajeing, pch = 20, main = '2017 95'))\n",
    "with(puntajes[m2018TM95,], boxplot(puntajeing, pch = 20, main = '2018 95'))\n",
    "with(puntajes[m2016TM99,], boxplot(puntajeing, pch = 20, main = '2016 99'))\n",
    "with(puntajes[m2017TM99,], boxplot(puntajeing, pch = 20, main = '2017 99'))\n",
    "with(puntajes[m2018TM99,], boxplot(puntajeing, pch = 20, main = '2018 99'))\n",
    "\n",
    "par(mfrow=c(1,1))"
   ]
  },
  {
   "cell_type": "code",
   "execution_count": 72,
   "metadata": {},
   "outputs": [
    {
     "data": {
      "image/png": "[encoded data removed]",
      "text/plain": [
       "Plot with title \"MAS (663)\""
      ]
     },
     "metadata": {},
     "output_type": "display_data"
    },
    {
     "data": {
      "image/png": "[encoded data removed]",
      "text/plain": [
       "Plot with title \"ME (663)\""
      ]
     },
     "metadata": {},
     "output_type": "display_data"
    }
   ],
   "source": [
    "par(mfrow=c(2,3))\n",
    "\n",
    "with(puntajes, hist(puntajeing, nclass = 50, main = 'Población'))\n",
    "with(puntajes[muestra1,], hist(puntajeing, nclass = 50, main = 'MAS (271)'))\n",
    "with(puntajes[mestrato90,], hist(puntajeing, nclass = 50, main = 'ME (271)'))\n",
    "with(puntajes[muestra2,], hist(puntajeing, nclass = 50, main = 'MAS (384)'))\n",
    "with(puntajes[mestrato95,], hist(puntajeing, nclass = 50, main = 'ME (384)'))\n",
    "with(puntajes[muestra4,], hist(puntajeing, nclass = 50, main = 'MAS (663)'))\n",
    "with(puntajes[mestrato99,], hist(puntajeing, nclass = 50, main = 'ME (663)'))\n",
    "\n",
    "par(mfrow=c(1,1))"
   ]
  },
  {
   "cell_type": "markdown",
   "metadata": {},
   "source": [
    "## Inferencia"
   ]
  },
  {
   "cell_type": "markdown",
   "metadata": {},
   "source": [
    "Primero, como conclusion de lo anterior, podemos ver que comparando los puntajes en la categoria de ingles a traves de los tres años (2016,2017,2018) se presenta una desmej\n",
    "\n",
    "Ahora bien el punto mas interesante y determinante de este ejercicio esta radicado en la diferencia entre el muestreo aleatorio simple (MAS) y el muestreo estratificado (ME) el cual nos revela que con la muestra obtenida en el incio de este taller (384) su grafica presenta una mejor distribucion asimilandoce al de la poblacion, mientras que con una muestra de 500 datos el MAS no logra acercarse de forma congruente a la grafica poblacional del dataframe. Esto nos lleva a suponer que el muestreo estraficado presenta una mejoria en cuanto a precision de sus datos."
   ]
  },
  {
   "cell_type": "markdown",
   "metadata": {},
   "source": [
    "## 3.  Realice los correspondientes muestreos por conglomerados y compare los resultados con los puntos 1 y 2. Explique las diferencias y/o similitudes"
   ]
  },
  {
   "cell_type": "code",
   "execution_count": 27,
   "metadata": {},
   "outputs": [],
   "source": [
    "#head(saberpro,2)"
   ]
  },
  {
   "cell_type": "code",
   "execution_count": 28,
   "metadata": {},
   "outputs": [],
   "source": [
    "#Creamos un Data Frame con las informacion necesaria. \n",
    "puntajes_conglomerados<-data.frame(dpto=saberpro$estu_depto_reside\n",
    "                    ,puntajecomp=saberpro$comp_ciud_punt\n",
    "                    ,puntajeing=saberpro$ingles_punt, puntajelec=saberpro$lect_crit_punt,\n",
    "                     puntajeraz=saberpro$raz_cuant_punt,puntajecomu=saberpro$comu_escr_punt)"
   ]
  },
  {
   "cell_type": "markdown",
   "metadata": {},
   "source": [
    "El muestreo por conglomerados es similar al estratificado, la diferencia es que la variable categórica para agrupar los datos que debe hacer referencia a un lugar geográfico. Es por esto que usamos la variable aleatoria que se refiere el departamento del estudiante que realizo la prueba"
   ]
  },
  {
   "cell_type": "code",
   "execution_count": 29,
   "metadata": {},
   "outputs": [
    {
     "data": {
      "text/html": [
       "<table>\n",
       "<thead><tr><th scope=col>dpto</th><th scope=col>n</th><th scope=col>std1</th><th scope=col>p</th></tr></thead>\n",
       "<tbody>\n",
       "\t<tr><td>            </td><td>  1997      </td><td>39.72940    </td><td>0.0027533624</td></tr>\n",
       "\t<tr><td>AMAZONAS    </td><td>   195      </td><td>24.34471    </td><td>0.0002688561</td></tr>\n",
       "\t<tr><td>ANTIOQUIA   </td><td> 86465      </td><td>33.45743    </td><td>0.1192135614</td></tr>\n",
       "\t<tr><td>ARAUCA      </td><td>  1863      </td><td>21.68492    </td><td>0.0025686100</td></tr>\n",
       "\t<tr><td>ATLANTICO   </td><td> 41127      </td><td>33.44570    </td><td>0.0567038240</td></tr>\n",
       "\t<tr><td>BOGOTA      </td><td>210798      </td><td>32.69948    </td><td>0.2906376026</td></tr>\n",
       "</tbody>\n",
       "</table>\n"
      ],
      "text/latex": [
       "\\begin{tabular}{r|llll}\n",
       " dpto & n & std1 & p\\\\\n",
       "\\hline\n",
       "\t              &   1997       & 39.72940     & 0.0027533624\\\\\n",
       "\t AMAZONAS     &    195       & 24.34471     & 0.0002688561\\\\\n",
       "\t ANTIOQUIA    &  86465       & 33.45743     & 0.1192135614\\\\\n",
       "\t ARAUCA       &   1863       & 21.68492     & 0.0025686100\\\\\n",
       "\t ATLANTICO    &  41127       & 33.44570     & 0.0567038240\\\\\n",
       "\t BOGOTA       & 210798       & 32.69948     & 0.2906376026\\\\\n",
       "\\end{tabular}\n"
      ],
      "text/markdown": [
       "\n",
       "| dpto | n | std1 | p |\n",
       "|---|---|---|---|\n",
       "|              |   1997       | 39.72940     | 0.0027533624 |\n",
       "| AMAZONAS     |    195       | 24.34471     | 0.0002688561 |\n",
       "| ANTIOQUIA    |  86465       | 33.45743     | 0.1192135614 |\n",
       "| ARAUCA       |   1863       | 21.68492     | 0.0025686100 |\n",
       "| ATLANTICO    |  41127       | 33.44570     | 0.0567038240 |\n",
       "| BOGOTA       | 210798       | 32.69948     | 0.2906376026 |\n",
       "\n"
      ],
      "text/plain": [
       "  dpto      n      std1     p           \n",
       "1             1997 39.72940 0.0027533624\n",
       "2 AMAZONAS     195 24.34471 0.0002688561\n",
       "3 ANTIOQUIA  86465 33.45743 0.1192135614\n",
       "4 ARAUCA      1863 21.68492 0.0025686100\n",
       "5 ATLANTICO  41127 33.44570 0.0567038240\n",
       "6 BOGOTA    210798 32.69948 0.2906376026"
      ]
     },
     "metadata": {},
     "output_type": "display_data"
    }
   ],
   "source": [
    "Conglomerados<- puntajes_conglomerados %>%\n",
    "  select(dpto,puntajeing) %>%\n",
    "  group_by(dpto) %>%\n",
    "  summarise(n=n(),\n",
    "            std1=sd(puntajeing)) %>%\n",
    "  mutate(p=n/sum(n))\n",
    "  \n",
    "head(Conglomerados,6)"
   ]
  },
  {
   "cell_type": "code",
   "execution_count": 29,
   "metadata": {},
   "outputs": [
    {
     "data": {
      "text/html": [
       "<table>\n",
       "<caption>A data.frame: 6 × 2</caption>\n",
       "<thead>\n",
       "\t<tr><th></th><th scope=col>dpto</th><th scope=col>p</th></tr>\n",
       "\t<tr><th></th><th scope=col>&lt;fct&gt;</th><th scope=col>&lt;dbl&gt;</th></tr>\n",
       "</thead>\n",
       "<tbody>\n",
       "\t<tr><th scope=row>1</th><td>         </td><td>  2</td></tr>\n",
       "\t<tr><th scope=row>2</th><td>AMAZONAS </td><td>  1</td></tr>\n",
       "\t<tr><th scope=row>3</th><td>ANTIOQUIA</td><td> 46</td></tr>\n",
       "\t<tr><th scope=row>4</th><td>ARAUCA   </td><td>  1</td></tr>\n",
       "\t<tr><th scope=row>5</th><td>ATLANTICO</td><td> 22</td></tr>\n",
       "\t<tr><th scope=row>6</th><td>BOGOTA   </td><td>112</td></tr>\n",
       "</tbody>\n",
       "</table>\n"
      ],
      "text/latex": [
       "A data.frame: 6 × 2\n",
       "\\begin{tabular}{r|ll}\n",
       "  & dpto & p\\\\\n",
       "  & <fct> & <dbl>\\\\\n",
       "\\hline\n",
       "\t1 &           &   2\\\\\n",
       "\t2 & AMAZONAS  &   1\\\\\n",
       "\t3 & ANTIOQUIA &  46\\\\\n",
       "\t4 & ARAUCA    &   1\\\\\n",
       "\t5 & ATLANTICO &  22\\\\\n",
       "\t6 & BOGOTA    & 112\\\\\n",
       "\\end{tabular}\n"
      ],
      "text/markdown": [
       "\n",
       "A data.frame: 6 × 2\n",
       "\n",
       "| <!--/--> | dpto &lt;fct&gt; | p &lt;dbl&gt; |\n",
       "|---|---|---|\n",
       "| 1 | <!----> |   2 |\n",
       "| 2 | AMAZONAS  |   1 |\n",
       "| 3 | ANTIOQUIA |  46 |\n",
       "| 4 | ARAUCA    |   1 |\n",
       "| 5 | ATLANTICO |  22 |\n",
       "| 6 | BOGOTA    | 112 |\n",
       "\n"
      ],
      "text/plain": [
       "  dpto      p  \n",
       "1             2\n",
       "2 AMAZONAS    1\n",
       "3 ANTIOQUIA  46\n",
       "4 ARAUCA      1\n",
       "5 ATLANTICO  22\n",
       "6 BOGOTA    112"
      ]
     },
     "metadata": {},
     "output_type": "display_data"
    }
   ],
   "source": [
    "#Buscamos la cantidad de datos por departamento que se tomaran.\n",
    "nsCProp100<-nstrata(n=384,wh=Conglomerados[,4],method=\"proportional\")\n",
    "muestras_por_conglomerado =  data.frame(dpto=Conglomerados$dpto,nsCProp100)\n",
    "head(muestras_por_conglomerado)\n",
    "\n",
    "#Obtenemos un arreglo con todos los nombres de los departamentos, y el tamaño de la muestra del departamento\n",
    "nombre_departamento = muestras_por_conglomerado[[1]]\n",
    "size = muestras_por_conglomerado[[2]]"
   ]
  },
  {
   "cell_type": "code",
   "execution_count": 30,
   "metadata": {},
   "outputs": [
    {
     "data": {
      "text/html": [
       "<table>\n",
       "<caption>A data.frame: 6 × 6</caption>\n",
       "<thead>\n",
       "\t<tr><th></th><th scope=col>dpto</th><th scope=col>puntajecomp</th><th scope=col>puntajeing</th><th scope=col>puntajelec</th><th scope=col>puntajeraz</th><th scope=col>puntajecomu</th></tr>\n",
       "\t<tr><th></th><th scope=col>&lt;fct&gt;</th><th scope=col>&lt;int&gt;</th><th scope=col>&lt;int&gt;</th><th scope=col>&lt;int&gt;</th><th scope=col>&lt;int&gt;</th><th scope=col>&lt;int&gt;</th></tr>\n",
       "</thead>\n",
       "<tbody>\n",
       "\t<tr><th scope=row>839</th><td>MAGDALENA</td><td>156</td><td>110</td><td>188</td><td>161</td><td>124</td></tr>\n",
       "\t<tr><th scope=row>1176</th><td>VALLE    </td><td>180</td><td>181</td><td>169</td><td>176</td><td>167</td></tr>\n",
       "\t<tr><th scope=row>21</th><td>SANTANDER</td><td>155</td><td>152</td><td>179</td><td>152</td><td>167</td></tr>\n",
       "\t<tr><th scope=row>9588</th><td>ANTIOQUIA</td><td>199</td><td>168</td><td>187</td><td>175</td><td>161</td></tr>\n",
       "\t<tr><th scope=row>55903</th><td>CAUCA    </td><td>103</td><td>121</td><td>104</td><td>108</td><td>120</td></tr>\n",
       "\t<tr><th scope=row>64304</th><td>TOLIMA   </td><td>182</td><td>168</td><td>149</td><td>141</td><td>121</td></tr>\n",
       "</tbody>\n",
       "</table>\n"
      ],
      "text/latex": [
       "A data.frame: 6 × 6\n",
       "\\begin{tabular}{r|llllll}\n",
       "  & dpto & puntajecomp & puntajeing & puntajelec & puntajeraz & puntajecomu\\\\\n",
       "  & <fct> & <int> & <int> & <int> & <int> & <int>\\\\\n",
       "\\hline\n",
       "\t839 & MAGDALENA & 156 & 110 & 188 & 161 & 124\\\\\n",
       "\t1176 & VALLE     & 180 & 181 & 169 & 176 & 167\\\\\n",
       "\t21 & SANTANDER & 155 & 152 & 179 & 152 & 167\\\\\n",
       "\t9588 & ANTIOQUIA & 199 & 168 & 187 & 175 & 161\\\\\n",
       "\t55903 & CAUCA     & 103 & 121 & 104 & 108 & 120\\\\\n",
       "\t64304 & TOLIMA    & 182 & 168 & 149 & 141 & 121\\\\\n",
       "\\end{tabular}\n"
      ],
      "text/markdown": [
       "\n",
       "A data.frame: 6 × 6\n",
       "\n",
       "| <!--/--> | dpto &lt;fct&gt; | puntajecomp &lt;int&gt; | puntajeing &lt;int&gt; | puntajelec &lt;int&gt; | puntajeraz &lt;int&gt; | puntajecomu &lt;int&gt; |\n",
       "|---|---|---|---|---|---|---|\n",
       "| 839 | MAGDALENA | 156 | 110 | 188 | 161 | 124 |\n",
       "| 1176 | VALLE     | 180 | 181 | 169 | 176 | 167 |\n",
       "| 21 | SANTANDER | 155 | 152 | 179 | 152 | 167 |\n",
       "| 9588 | ANTIOQUIA | 199 | 168 | 187 | 175 | 161 |\n",
       "| 55903 | CAUCA     | 103 | 121 | 104 | 108 | 120 |\n",
       "| 64304 | TOLIMA    | 182 | 168 | 149 | 141 | 121 |\n",
       "\n"
      ],
      "text/plain": [
       "      dpto      puntajecomp puntajeing puntajelec puntajeraz puntajecomu\n",
       "839   MAGDALENA 156         110        188        161        124        \n",
       "1176  VALLE     180         181        169        176        167        \n",
       "21    SANTANDER 155         152        179        152        167        \n",
       "9588  ANTIOQUIA 199         168        187        175        161        \n",
       "55903 CAUCA     103         121        104        108        120        \n",
       "64304 TOLIMA    182         168        149        141        121        "
      ]
     },
     "metadata": {},
     "output_type": "display_data"
    }
   ],
   "source": [
    "#El vector output guardara los indices del MAS que se hace sobre cada departamento.\n",
    "output<-c()\n",
    "for (i in seq_along(nombre_departamento)) {      \n",
    "    nvar <- sample(1:nrow(puntajes_conglomerados[puntajes_conglomerados$dpto==nombre_departamento[i],]),size=size[i],replace=FALSE)  \n",
    "    output<-append(output,nvar) \n",
    "}\n",
    "\n",
    "MC <- puntajes_conglomerados[output,]\n",
    "head(MC)\n"
   ]
  },
  {
   "cell_type": "markdown",
   "metadata": {},
   "source": [
    "### Gráficas"
   ]
  },
  {
   "cell_type": "code",
   "execution_count": 31,
   "metadata": {},
   "outputs": [
    {
     "data": {
      "image/png": "[encoded data removed]",
      "text/plain": [
       "Plot with title “SANTANDER”"
      ]
     },
     "metadata": {
      "image/png": {
       "height": 420,
       "width": 420
      },
      "text/plain": {
       "height": 420,
       "width": 420
      }
     },
     "output_type": "display_data"
    }
   ],
   "source": [
    "datosBogota<-MC[MC$dpto==\"BOGOTA\",]\n",
    "datosAntioquia<-MC[MC$dpto==\"ANTIOQUIA\",]\n",
    "datosValle<-MC[MC$dpto==\"VALLE\",]\n",
    "datosSantander<-MC[MC$dpto==\"SANTANDER\",]\n",
    "#Diagrama de Cajas\n",
    "par(mfrow=c(2,2))\n",
    "#Puntaje de Ingles en los departamentos de Bogotá, Antioquia,Valle, Santander\n",
    "with(datosBogota, boxplot(puntajeing, pch = 20, main = 'BOGOTA'))\n",
    "with(datosAntioquia, boxplot(puntajeing, pch = 20, main = 'ANTIOQUIA'))\n",
    "with(datosValle, boxplot(puntajeing, pch = 20, main = 'VALLE'))\n",
    "with(datosSantander, boxplot(puntajeing, pch = 20, main = 'SANTANDER'))"
   ]
  },
  {
   "cell_type": "code",
   "execution_count": 32,
   "metadata": {},
   "outputs": [
    {
     "data": {
      "image/png": "[encoded data removed]",
      "text/plain": [
       "Plot with title “SANTANDER”"
      ]
     },
     "metadata": {
      "image/png": {
       "height": 420,
       "width": 420
      },
      "text/plain": {
       "height": 420,
       "width": 420
      }
     },
     "output_type": "display_data"
    }
   ],
   "source": [
    "#Histogramas\n",
    "par(mfrow=c(2,2))\n",
    "with(datosBogota, hist(puntajeing, main = 'BOGOTA',xlab=\"Puntaje en Ingles\"))\n",
    "with(datosAntioquia, hist(puntajeing, main = 'ANTIOQUIA',xlab=\"Puntaje en Ingles\"))\n",
    "with(datosValle, hist(puntajeing, main = 'VALLE',xlab=\"Puntaje en lectura Ingles\"))\n",
    "with(datosSantander, hist(puntajeing, main = 'SANTANDER',xlab=\"Puntaje en Ingles\"))"
   ]
  },
  {
   "cell_type": "markdown",
   "metadata": {},
   "source": [
    "## Comparaciones"
   ]
  },
  {
   "cell_type": "code",
   "execution_count": 33,
   "metadata": {},
   "outputs": [
    {
     "data": {
      "image/png": "[encoded data removed]",
      "text/plain": [
       "Plot with title “MC(384)”"
      ]
     },
     "metadata": {
      "image/png": {
       "height": 420,
       "width": 420
      },
      "text/plain": {
       "height": 420,
       "width": 420
      }
     },
     "output_type": "display_data"
    }
   ],
   "source": [
    "par(mfrow=c(2,4))\n",
    "\n",
    "n5=384\n",
    "muestra5 = sample(1:nrow(puntajes),size=n5,replace=FALSE)\n",
    "\n",
    "with(puntajes, plot(puntajeing, pch = 20, main = 'Población'))\n",
    "with(puntajes[muestra5,], plot(puntajeing, pch = 20, main = 'MAS (384)'))\n",
    "with(puntajes[mestrato,], plot(puntajeing, pch = 20, main = 'ME (384)'))\n",
    "with(MC,plot(puntajeing, pch = 20, main = 'MC(384)'))\n",
    "\n",
    "with(puntajes, hist(puntajeing, nclass = 50, main = 'Población'))\n",
    "with(puntajes[muestra5,], hist(puntajeing, nclass = 50, main = 'MAS (384)'))\n",
    "with(puntajes[mestrato,], hist(puntajeing, nclass = 50, main = 'ME (384)'))\n",
    "with(MC,hist(puntajeing, nclass = 50, main = 'MC(384)'))\n"
   ]
  },
  {
   "cell_type": "code",
   "execution_count": 35,
   "metadata": {},
   "outputs": [
    {
     "data": {
      "text/html": [
       "<table>\n",
       "<caption>A data.frame: 5 × 4</caption>\n",
       "<thead>\n",
       "\t<tr><th></th><th scope=col>pop</th><th scope=col>MAS</th><th scope=col>ME</th><th scope=col>MC</th></tr>\n",
       "\t<tr><th></th><th scope=col>&lt;dbl&gt;</th><th scope=col>&lt;dbl&gt;</th><th scope=col>&lt;dbl&gt;</th><th scope=col>&lt;dbl&gt;</th></tr>\n",
       "</thead>\n",
       "<tbody>\n",
       "\t<tr><th scope=row>tamaño</th><td>725295,0000</td><td>384,0000</td><td>386,0000</td><td>404,0000</td></tr>\n",
       "\t<tr><th scope=row>media</th><td>   150,4268</td><td>148,3229</td><td>152,7254</td><td>150,8713</td></tr>\n",
       "\t<tr><th scope=row>desviación estándar</th><td>    31,9491</td><td> 32,6512</td><td> 33,9599</td><td> 30,5258</td></tr>\n",
       "\t<tr><th scope=row>simetría</th><td>     0,2880</td><td>  1,0797</td><td>  0,4956</td><td>  0,1696</td></tr>\n",
       "\t<tr><th scope=row>kurtosis</th><td>     1,4708</td><td>  4,3921</td><td>  1,4237</td><td>  0,5521</td></tr>\n",
       "</tbody>\n",
       "</table>\n"
      ],
      "text/latex": [
       "A data.frame: 5 × 4\n",
       "\\begin{tabular}{r|llll}\n",
       "  & pop & MAS & ME & MC\\\\\n",
       "  & <dbl> & <dbl> & <dbl> & <dbl>\\\\\n",
       "\\hline\n",
       "\ttamaño & 725295,0000 & 384,0000 & 386,0000 & 404,0000\\\\\n",
       "\tmedia &    150,4268 & 148,3229 & 152,7254 & 150,8713\\\\\n",
       "\tdesviación estándar &     31,9491 &  32,6512 &  33,9599 &  30,5258\\\\\n",
       "\tsimetría &      0,2880 &   1,0797 &   0,4956 &   0,1696\\\\\n",
       "\tkurtosis &      1,4708 &   4,3921 &   1,4237 &   0,5521\\\\\n",
       "\\end{tabular}\n"
      ],
      "text/markdown": [
       "\n",
       "A data.frame: 5 × 4\n",
       "\n",
       "| <!--/--> | pop &lt;dbl&gt; | MAS &lt;dbl&gt; | ME &lt;dbl&gt; | MC &lt;dbl&gt; |\n",
       "|---|---|---|---|---|\n",
       "| tamaño | 725295,0000 | 384,0000 | 386,0000 | 404,0000 |\n",
       "| media |    150,4268 | 148,3229 | 152,7254 | 150,8713 |\n",
       "| desviación estándar |     31,9491 |  32,6512 |  33,9599 |  30,5258 |\n",
       "| simetría |      0,2880 |   1,0797 |   0,4956 |   0,1696 |\n",
       "| kurtosis |      1,4708 |   4,3921 |   1,4237 |   0,5521 |\n",
       "\n"
      ],
      "text/plain": [
       "                    pop         MAS      ME       MC      \n",
       "tamaño              725295,0000 384,0000 386,0000 404,0000\n",
       "media                  150,4268 148,3229 152,7254 150,8713\n",
       "desviación estándar     31,9491  32,6512  33,9599  30,5258\n",
       "simetría                 0,2880   1,0797   0,4956   0,1696\n",
       "kurtosis                 1,4708   4,3921   1,4237   0,5521"
      ]
     },
     "metadata": {},
     "output_type": "display_data"
    },
    {
     "data": {
      "text/html": [
       "<table>\n",
       "<caption>A data.frame: 5 × 4</caption>\n",
       "<thead>\n",
       "\t<tr><th></th><th scope=col>pop</th><th scope=col>MAS</th><th scope=col>ME</th><th scope=col>MC</th></tr>\n",
       "\t<tr><th></th><th scope=col>&lt;dbl&gt;</th><th scope=col>&lt;dbl&gt;</th><th scope=col>&lt;dbl&gt;</th><th scope=col>&lt;dbl&gt;</th></tr>\n",
       "</thead>\n",
       "<tbody>\n",
       "\t<tr><th scope=row>tamaño</th><td>725295,0000</td><td>384,0000</td><td>386,0000</td><td>404,0000</td></tr>\n",
       "\t<tr><th scope=row>media</th><td>   150,1223</td><td>148,4062</td><td>151,2746</td><td>152,1238</td></tr>\n",
       "\t<tr><th scope=row>desviación estándar</th><td>    30,9895</td><td> 30,5455</td><td> 30,8059</td><td> 32,3624</td></tr>\n",
       "\t<tr><th scope=row>simetría</th><td>     0,0245</td><td>  0,2891</td><td>  0,0741</td><td>  0,0139</td></tr>\n",
       "\t<tr><th scope=row>kurtosis</th><td>    -0,2912</td><td>  0,7921</td><td> -0,5211</td><td> -0,7407</td></tr>\n",
       "</tbody>\n",
       "</table>\n"
      ],
      "text/latex": [
       "A data.frame: 5 × 4\n",
       "\\begin{tabular}{r|llll}\n",
       "  & pop & MAS & ME & MC\\\\\n",
       "  & <dbl> & <dbl> & <dbl> & <dbl>\\\\\n",
       "\\hline\n",
       "\ttamaño & 725295,0000 & 384,0000 & 386,0000 & 404,0000\\\\\n",
       "\tmedia &    150,1223 & 148,4062 & 151,2746 & 152,1238\\\\\n",
       "\tdesviación estándar &     30,9895 &  30,5455 &  30,8059 &  32,3624\\\\\n",
       "\tsimetría &      0,0245 &   0,2891 &   0,0741 &   0,0139\\\\\n",
       "\tkurtosis &     -0,2912 &   0,7921 &  -0,5211 &  -0,7407\\\\\n",
       "\\end{tabular}\n"
      ],
      "text/markdown": [
       "\n",
       "A data.frame: 5 × 4\n",
       "\n",
       "| <!--/--> | pop &lt;dbl&gt; | MAS &lt;dbl&gt; | ME &lt;dbl&gt; | MC &lt;dbl&gt; |\n",
       "|---|---|---|---|---|\n",
       "| tamaño | 725295,0000 | 384,0000 | 386,0000 | 404,0000 |\n",
       "| media |    150,1223 | 148,4062 | 151,2746 | 152,1238 |\n",
       "| desviación estándar |     30,9895 |  30,5455 |  30,8059 |  32,3624 |\n",
       "| simetría |      0,0245 |   0,2891 |   0,0741 |   0,0139 |\n",
       "| kurtosis |     -0,2912 |   0,7921 |  -0,5211 |  -0,7407 |\n",
       "\n"
      ],
      "text/plain": [
       "                    pop         MAS      ME       MC      \n",
       "tamaño              725295,0000 384,0000 386,0000 404,0000\n",
       "media                  150,1223 148,4062 151,2746 152,1238\n",
       "desviación estándar     30,9895  30,5455  30,8059  32,3624\n",
       "simetría                 0,0245   0,2891   0,0741   0,0139\n",
       "kurtosis                -0,2912   0,7921  -0,5211  -0,7407"
      ]
     },
     "metadata": {},
     "output_type": "display_data"
    },
    {
     "data": {
      "text/html": [
       "<table>\n",
       "<caption>A data.frame: 5 × 4</caption>\n",
       "<thead>\n",
       "\t<tr><th></th><th scope=col>pop</th><th scope=col>MAS</th><th scope=col>ME</th><th scope=col>MC</th></tr>\n",
       "\t<tr><th></th><th scope=col>&lt;dbl&gt;</th><th scope=col>&lt;dbl&gt;</th><th scope=col>&lt;dbl&gt;</th><th scope=col>&lt;dbl&gt;</th></tr>\n",
       "</thead>\n",
       "<tbody>\n",
       "\t<tr><th scope=row>tamaño</th><td>725295,0000</td><td>384,0000</td><td>386,0000</td><td>404,0000</td></tr>\n",
       "\t<tr><th scope=row>media</th><td>   149,4512</td><td>146,6797</td><td>151,5518</td><td>150,8267</td></tr>\n",
       "\t<tr><th scope=row>desviación estándar</th><td>    30,6923</td><td> 30,9073</td><td> 31,0307</td><td> 30,7471</td></tr>\n",
       "\t<tr><th scope=row>simetría</th><td>     0,1637</td><td> -0,1691</td><td>  0,1883</td><td> -0,0532</td></tr>\n",
       "\t<tr><th scope=row>kurtosis</th><td>     0,0840</td><td>  0,5262</td><td> -0,4931</td><td> -0,6198</td></tr>\n",
       "</tbody>\n",
       "</table>\n"
      ],
      "text/latex": [
       "A data.frame: 5 × 4\n",
       "\\begin{tabular}{r|llll}\n",
       "  & pop & MAS & ME & MC\\\\\n",
       "  & <dbl> & <dbl> & <dbl> & <dbl>\\\\\n",
       "\\hline\n",
       "\ttamaño & 725295,0000 & 384,0000 & 386,0000 & 404,0000\\\\\n",
       "\tmedia &    149,4512 & 146,6797 & 151,5518 & 150,8267\\\\\n",
       "\tdesviación estándar &     30,6923 &  30,9073 &  31,0307 &  30,7471\\\\\n",
       "\tsimetría &      0,1637 &  -0,1691 &   0,1883 &  -0,0532\\\\\n",
       "\tkurtosis &      0,0840 &   0,5262 &  -0,4931 &  -0,6198\\\\\n",
       "\\end{tabular}\n"
      ],
      "text/markdown": [
       "\n",
       "A data.frame: 5 × 4\n",
       "\n",
       "| <!--/--> | pop &lt;dbl&gt; | MAS &lt;dbl&gt; | ME &lt;dbl&gt; | MC &lt;dbl&gt; |\n",
       "|---|---|---|---|---|\n",
       "| tamaño | 725295,0000 | 384,0000 | 386,0000 | 404,0000 |\n",
       "| media |    149,4512 | 146,6797 | 151,5518 | 150,8267 |\n",
       "| desviación estándar |     30,6923 |  30,9073 |  31,0307 |  30,7471 |\n",
       "| simetría |      0,1637 |  -0,1691 |   0,1883 |  -0,0532 |\n",
       "| kurtosis |      0,0840 |   0,5262 |  -0,4931 |  -0,6198 |\n",
       "\n"
      ],
      "text/plain": [
       "                    pop         MAS      ME       MC      \n",
       "tamaño              725295,0000 384,0000 386,0000 404,0000\n",
       "media                  149,4512 146,6797 151,5518 150,8267\n",
       "desviación estándar     30,6923  30,9073  31,0307  30,7471\n",
       "simetría                 0,1637  -0,1691   0,1883  -0,0532\n",
       "kurtosis                 0,0840   0,5262  -0,4931  -0,6198"
      ]
     },
     "metadata": {},
     "output_type": "display_data"
    }
   ],
   "source": [
    "#MAS n = 384\n",
    "#n5=384\n",
    "#muestra5 = sample(1:nrow(puntajes),size=n5,replace=FALSE)\n",
    "pop<-round(mystats(puntajes_conglomerados[,'puntajeing']),4)\n",
    "MAS<-round(mystats(puntajes[muestra5,'puntajeing']),4)\n",
    "ME<-round(mystats(puntajes[mestrato,'puntajeing']),4)\n",
    "MC<-round(mystats(puntajes_conglomerados[output,'puntajeing']),4)\n",
    "data.frame(pop,MAS,ME,MC)\n",
    "#puntajelec\n",
    "pop<-round(mystats(puntajes_conglomerados[,'puntajelec']),4)\n",
    "MAS<-round(mystats(puntajes[muestra5,'puntajelec']),4)\n",
    "ME<-round(mystats(puntajes[mestrato,'puntajelec']),4)\n",
    "MC<-round(mystats(puntajes_conglomerados[output,'puntajelec']),4)\n",
    "data.frame(pop,MAS,ME,MC)\n",
    "#puntajeraz\n",
    "pop<-round(mystats(puntajes_conglomerados[,'puntajeraz']),4)\n",
    "MAS<-round(mystats(puntajes[muestra5,'puntajeraz']),4)\n",
    "ME<-round(mystats(puntajes[mestrato,'puntajeraz']),4)\n",
    "MC<-round(mystats(puntajes_conglomerados[output,'puntajeraz']),4)\n",
    "data.frame(pop,MAS,ME,MC)"
   ]
  },
  {
   "cell_type": "markdown",
   "metadata": {},
   "source": [
    "Teniendo en cuenta que los datos de las gráficas son tomados con respecto a la variable, puntaje Inglés, tenemos que:\n",
    "\n",
    "Como vemos en las cuatro gráficas de la parte superior, las muestras presentan la mayor concentración de sus valores entre 100 y 230, aproximadamente. Los valores atípicos cercanos a 0 o a 300 se presentan con mayor frecuencia en el MAS y el Muestreo Estratificado, en el muestreo por conglomerados, se presentan valores atípicos cercanos a 0, y en la gráfica no se presenta ningún valor cercano a 300.\n",
    "\n",
    "En el análisis de los histogramas, vemos que tanto en el MAS, como en el Muestreo Estratificado, se presenta en los extremos dos barras correspondientes a los valores atípicos mencionados anteriormente, comparando estos con los valores atípicos de la población, tienen una forma parecida, pero el muestreo estratificado se acomoda mejor a las características de la población. Por otro lado el muestreo por conglomerados nos muestra que no posee valores cercanos a 300, y comparado con el muestreo estratificado, presenta una peor representación de la variable, puntaje en inglés, con respecto a la población.\n",
    "\n",
    "Finalmente, haciendo el análisis con la función mystats, en las columnas puntaje inglés, lectura crítica y razonamiento cuantitativo, tenemos que la media de las muestras que más se acerca a la media poblacional para el caso de las columnas puntaje inglés y puntaje razonamiento cuantitativo, es la media del muestreo por conglomerados, esto también aplica en la desviación estándar. En la variable donde el MAS y el muestreo estratificado parecen acoplarse mejor a los datos poblacionales, con respecto al muestreo por conglomerados, es en el puntaje de lectura crítica. La simetría y la kurtosis en todas las muestras tiende a variar con respecto a las medidas poblacionales.\n"
   ]
  },
  {
   "cell_type": "markdown",
   "metadata": {},
   "source": [
    "## 4.  ¿Considera que es procedente realizar un muestreo sistemático? Argumente su respuesta"
   ]
  },
  {
   "cell_type": "markdown",
   "metadata": {},
   "source": [
    "El muestreo sistematico requiere de una variable i que aumente k unidades sucesivamente, por ende requerimos una columna del dataset que este categorizada por enteros y que tenga una secuencia aditiva. Para ello podemos observar que la variable periodo se presenta ordenada, lo cual nos infiere que esta ordenada por el periodo en que se realizo dicho examen. Como conclusion podemos decir que ya que se encuentra ordenado el dataset se puede hacer un muestreo sistemico."
   ]
  },
  {
   "cell_type": "markdown",
   "metadata": {},
   "source": [
    "## 5.  Si la respuesta del punto 4 fue positiva, realice el correspondiente muestreo y compare con los anteriores"
   ]
  },
  {
   "cell_type": "code",
   "execution_count": null,
   "metadata": {},
   "outputs": [],
   "source": []
  },
  {
   "cell_type": "code",
   "execution_count": null,
   "metadata": {},
   "outputs": [],
   "source": []
  }
 ],
 "metadata": {
  "kernelspec": {
   "display_name": "R",
   "language": "R",
   "name": "ir"
  },
  "language_info": {
   "codemirror_mode": "r",
   "file_extension": ".r",
   "mimetype": "text/x-r-source",
   "name": "R",
   "pygments_lexer": "r",
   "version": "3.6.1"
  }
 },
 "nbformat": 4,
 "nbformat_minor": 4
}
