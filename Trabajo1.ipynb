{
 "cells": [
  {
   "cell_type": "markdown",
   "metadata": {},
   "source": [
    "<h1>TRABAJO MUESTREO - INFERENCIA</h1>"
   ]
  },
  {
   "cell_type": "markdown",
   "metadata": {},
   "source": [
    "En los siguientes enlaces encontrará los datos relacionados con los resultados de las pruebas de estado para las Instituciones de Educación Superior (IES) colombianas de carácter universitario de los últimos tres (3) años:\n",
    "\n",
    " https://www.dropbox.com/s/xgsf3l5gjw0h0q4/saberpro.RData\n",
    "\n",
    "Considere estos datos como una población finita. Las variables que componen la tabla son:\n",
    "\n",
    "\n",
    "\n",
    " - `periodo:` año de realización de la prueba. La variable se presenta fragmentada debido al origen de los datos. Requiere agruparse adecuadamente. Para ello, consulte la función revalue y describa, brevemente, su funcionamiento.\n",
    " -  `apli_consecutivo:` consecutivo asignado al estudiante en el momento de presentar la prueba. Único por estudiante\n",
    " -  `estu_depto_reside:` departamento de residencia del estudiante\n",
    " -   `estu_cod_reside_depto:` código DANE del departamento de residencia del estudiante\n",
    " -   `inst_cod_institucion:` código de la IES ante el ministerio. Único por Institución\n",
    " -   `inst_nombre_institucion:` Nombre de la Institución. Algunas presentan sedes y subsedes\n",
    " -   `raz_cuant_punt:` Puntaje Razonamiento Cuantitativo\n",
    " -   `raz_cuant_des:` Nivel de Desempeño Razonamiento Cuantitativo (categórica)\n",
    " -   `lect_crit_punt:` Puntaje Lectura Crítica\n",
    " -   `lect_crit_des:` Nivel de Desempeño Lectura Crítica (categórica)\n",
    " -   `comp_ciud_punt:` Puntaje Competencias Ciudadanas\n",
    " -   `comp_ciud_des:` Nivel de Desempeño Competencias Ciudadanas (categórica)\n",
    " -   `ingles_punt:` Puntaje Inglés\n",
    " -   `ingles_desem:` Nivel de Desempeño en Inglés (categórica)\n",
    " -  `comu_escr_punt:` Puntaje Comunicación Escrita\n",
    " -  `comu_escr_des:` Nivel de Desempeño Comunicación Escrita (categórica)\n",
    "\n",
    "Tenga en cuenta que algunas variables categóricas figuran como numéricas, haga la correspondiente transformación.\n",
    "\n",
    "Los puntos a desarrollar son:\n",
    "\n",
    "\n",
    "   1. Realice muestreo aleatorio simple y realice las estimaciones (inferencia) correspondientes. Tenga en cuenta que son múltiples variables\n",
    "   2.  Realice los correspondientes muestreos estratificados y compare los resultados con los anteriores. Explique las diferencias y/o similitudes\n",
    "   3.  Realice los correspondientes muestreos por conglomerados y compare los resultados con los puntos 1 y 2. Explique las diferencias y/o similitudes\n",
    "   4.  ¿Considera que es procedente realizar un muestreo sistemático? Argumente su respuesta\n",
    "    Si la respuesta del punto 4 fue positiva, realice el correspondiente muestreo y compare con los anteriores\n",
    "   5.  Para las estimaciones emplee los siguientes niveles de confianza: 90%, 95% y 99%.\n",
    "\n",
    "El trabajo puede entregarse en formato PDF o como notebook de jupyter\n",
    "\n",
    "Recomendaciones:\n",
    "\n",
    " -   Procure tabular de manera adecuada las estimaciones para optimizar espacio\n",
    " -   Evite extenderse en las explicaciones\n",
    " -   Trate de optimizar el uso de gráficas (visite el siguiente repositorio si desea una guía: https://github.com/karlosmantilla/graficas-basicas-descriptivas-\n",
    " -   Referencie las fórmulas empleadas en los cálculos\n"
   ]
  },
  {
   "cell_type": "markdown",
   "metadata": {},
   "source": [
    "**Asignatura: Estadistica 2**\n",
    "\n",
    "**Profesor: Carlos Alfonso Mantilla Duarte**\n",
    "\n",
    "**Grupo: F1**\n",
    "\n",
    "\n",
    "\n",
    "<table style=\"font-size:14px;\">\n",
    "<thead>\n",
    "<td style=\"text-align:center\" ><strong>Integrante</strong></td>\n",
    "<td style=\"text-align:center\"><strong>Codigo</strong></td>\n",
    "</thead>\n",
    "<tr>\n",
    "<td style=\"text-align:center\">Orlando Alberto Moncada Rodriguez</td>\n",
    "<td style=\"text-align:center\">2170133</td>\n",
    "</tr>\n",
    "    <tr>\n",
    "<td style=\"text-align:center\">Santiago Andres Castro Duitama</td>\n",
    "<td style=\"text-align:center\">2170134</td>\n",
    "</tr>\n",
    "    <tr>\n",
    "<td style=\"text-align:center\">David Santiago Morales Norato</td>\n",
    "<td style=\"text-align:center\">2170102</td>\n",
    "</tr>\n",
    "</table>"
   ]
  },
  {
   "cell_type": "markdown",
   "metadata": {},
   "source": [
    "# Desarrollo"
   ]
  },
  {
   "cell_type": "code",
   "execution_count": 15,
   "metadata": {},
   "outputs": [
    {
     "data": {
      "text/html": [
       "<table>\n",
       "<thead><tr><th scope=col>periodo</th><th scope=col>apli_consecutivo</th><th scope=col>estu_depto_reside</th><th scope=col>estu_cod_reside_depto</th><th scope=col>inst_cod_institucion</th><th scope=col>inst_nombre_institucion</th><th scope=col>raz_cuant_punt</th><th scope=col>raz_cuant_des</th><th scope=col>lect_crit_punt</th><th scope=col>lect_crit_des</th><th scope=col>comp_ciud_punt</th><th scope=col>comp_ciud_des</th><th scope=col>ingles_punt</th><th scope=col>ingles_desem</th><th scope=col>comu_escr_punt</th><th scope=col>comu_escr_des</th></tr></thead>\n",
       "<tbody>\n",
       "\t<tr><td>20163                                                                      </td><td>EK201630062726                                                             </td><td>ATLANTICO                                                                  </td><td> 8                                                                         </td><td> 1202                                                                      </td><td>UNIVERSIDAD DEL ATLANTICO-BARRANQUILLA                                     </td><td>160                                                                        </td><td>3                                                                          </td><td>130                                                                        </td><td>2                                                                          </td><td>167                                                                        </td><td>3                                                                          </td><td>160                                                                        </td><td>A2                                                                         </td><td>155                                                                        </td><td>3                                                                          </td></tr>\n",
       "\t<tr><td>20163                                                                      </td><td>EK201630208121                                                             </td><td>CUNDINAMARCA                                                               </td><td>25                                                                         </td><td> 2725                                                                      </td><td>POLITECNICO GRANCOLOMBIANO-BOGOTÃ D.C.                                    </td><td>138                                                                        </td><td>2                                                                          </td><td>132                                                                        </td><td>2                                                                          </td><td> 77                                                                        </td><td>1                                                                          </td><td>125                                                                        </td><td>A1                                                                         </td><td>164                                                                        </td><td>3                                                                          </td></tr>\n",
       "\t<tr><td>20163                                                                      </td><td>EK201630220210                                                             </td><td>CALDAS                                                                     </td><td>17                                                                         </td><td> 2829                                                                      </td><td>CORPORACION UNIVERSITARIA MINUTO DE DIOS -UNIMINUTO-BOGOTÃ D.C.           </td><td>146                                                                        </td><td>2                                                                          </td><td>157                                                                        </td><td>2                                                                          </td><td>150                                                                        </td><td>2                                                                          </td><td>104                                                                        </td><td>A1-                                                                        </td><td>122                                                                        </td><td>2                                                                          </td></tr>\n",
       "\t<tr><td>20163                                                                      </td><td>EK201630180243                                                             </td><td>MAGDALENA                                                                  </td><td>47                                                                         </td><td>10413                                                                      </td><td>IED ESCUELA NORMAL SUPERIOR MARÃA AUXILIADORA - SEDE PRINCIPAL-SANTA MARTA</td><td>160                                                                        </td><td>3                                                                          </td><td>172                                                                        </td><td>3                                                                          </td><td>151                                                                        </td><td>2                                                                          </td><td>160                                                                        </td><td>A2                                                                         </td><td>192                                                                        </td><td>4                                                                          </td></tr>\n",
       "\t<tr><td>20163                                                                      </td><td>EK201630225077                                                             </td><td>CORDOBA                                                                    </td><td>23                                                                         </td><td> 1113                                                                      </td><td>UNIVERSIDAD DE CORDOBA-MONTERIA                                            </td><td>130                                                                        </td><td>2                                                                          </td><td>122                                                                        </td><td>1                                                                          </td><td>144                                                                        </td><td>2                                                                          </td><td>192                                                                        </td><td>B1                                                                         </td><td>131                                                                        </td><td>2                                                                          </td></tr>\n",
       "\t<tr><td>20163                                                                      </td><td>EK201630189735                                                             </td><td>CAUCA                                                                      </td><td>19                                                                         </td><td> 1807                                                                      </td><td>UNIVERSIDAD LIBRE-CALI                                                     </td><td>159                                                                        </td><td>3                                                                          </td><td>129                                                                        </td><td>2                                                                          </td><td>147                                                                        </td><td>2                                                                          </td><td>108                                                                        </td><td>A1-                                                                        </td><td>154                                                                        </td><td>3                                                                          </td></tr>\n",
       "</tbody>\n",
       "</table>\n"
      ],
      "text/latex": [
       "\\begin{tabular}{r|llllllllllllllll}\n",
       " periodo & apli\\_consecutivo & estu\\_depto\\_reside & estu\\_cod\\_reside\\_depto & inst\\_cod\\_institucion & inst\\_nombre\\_institucion & raz\\_cuant\\_punt & raz\\_cuant\\_des & lect\\_crit\\_punt & lect\\_crit\\_des & comp\\_ciud\\_punt & comp\\_ciud\\_des & ingles\\_punt & ingles\\_desem & comu\\_escr\\_punt & comu\\_escr\\_des\\\\\n",
       "\\hline\n",
       "\t 20163                                                                       & EK201630062726                                                              & ATLANTICO                                                                   &  8                                                                          &  1202                                                                       & UNIVERSIDAD DEL ATLANTICO-BARRANQUILLA                                      & 160                                                                         & 3                                                                           & 130                                                                         & 2                                                                           & 167                                                                         & 3                                                                           & 160                                                                         & A2                                                                          & 155                                                                         & 3                                                                          \\\\\n",
       "\t 20163                                                                       & EK201630208121                                                              & CUNDINAMARCA                                                                & 25                                                                          &  2725                                                                       & POLITECNICO GRANCOLOMBIANO-BOGOTÃ D.C.                                     & 138                                                                         & 2                                                                           & 132                                                                         & 2                                                                           &  77                                                                         & 1                                                                           & 125                                                                         & A1                                                                          & 164                                                                         & 3                                                                          \\\\\n",
       "\t 20163                                                                       & EK201630220210                                                              & CALDAS                                                                      & 17                                                                          &  2829                                                                       & CORPORACION UNIVERSITARIA MINUTO DE DIOS -UNIMINUTO-BOGOTÃ D.C.            & 146                                                                         & 2                                                                           & 157                                                                         & 2                                                                           & 150                                                                         & 2                                                                           & 104                                                                         & A1-                                                                         & 122                                                                         & 2                                                                          \\\\\n",
       "\t 20163                                                                       & EK201630180243                                                              & MAGDALENA                                                                   & 47                                                                          & 10413                                                                       & IED ESCUELA NORMAL SUPERIOR MARÃA AUXILIADORA - SEDE PRINCIPAL-SANTA MARTA & 160                                                                         & 3                                                                           & 172                                                                         & 3                                                                           & 151                                                                         & 2                                                                           & 160                                                                         & A2                                                                          & 192                                                                         & 4                                                                          \\\\\n",
       "\t 20163                                                                       & EK201630225077                                                              & CORDOBA                                                                     & 23                                                                          &  1113                                                                       & UNIVERSIDAD DE CORDOBA-MONTERIA                                             & 130                                                                         & 2                                                                           & 122                                                                         & 1                                                                           & 144                                                                         & 2                                                                           & 192                                                                         & B1                                                                          & 131                                                                         & 2                                                                          \\\\\n",
       "\t 20163                                                                       & EK201630189735                                                              & CAUCA                                                                       & 19                                                                          &  1807                                                                       & UNIVERSIDAD LIBRE-CALI                                                      & 159                                                                         & 3                                                                           & 129                                                                         & 2                                                                           & 147                                                                         & 2                                                                           & 108                                                                         & A1-                                                                         & 154                                                                         & 3                                                                          \\\\\n",
       "\\end{tabular}\n"
      ],
      "text/markdown": [
       "\n",
       "| periodo | apli_consecutivo | estu_depto_reside | estu_cod_reside_depto | inst_cod_institucion | inst_nombre_institucion | raz_cuant_punt | raz_cuant_des | lect_crit_punt | lect_crit_des | comp_ciud_punt | comp_ciud_des | ingles_punt | ingles_desem | comu_escr_punt | comu_escr_des |\n",
       "|---|---|---|---|---|---|---|---|---|---|---|---|---|---|---|---|\n",
       "| 20163                                                                       | EK201630062726                                                              | ATLANTICO                                                                   |  8                                                                          |  1202                                                                       | UNIVERSIDAD DEL ATLANTICO-BARRANQUILLA                                      | 160                                                                         | 3                                                                           | 130                                                                         | 2                                                                           | 167                                                                         | 3                                                                           | 160                                                                         | A2                                                                          | 155                                                                         | 3                                                                           |\n",
       "| 20163                                                                       | EK201630208121                                                              | CUNDINAMARCA                                                                | 25                                                                          |  2725                                                                       | POLITECNICO GRANCOLOMBIANO-BOGOTÃ D.C.                                     | 138                                                                         | 2                                                                           | 132                                                                         | 2                                                                           |  77                                                                         | 1                                                                           | 125                                                                         | A1                                                                          | 164                                                                         | 3                                                                           |\n",
       "| 20163                                                                       | EK201630220210                                                              | CALDAS                                                                      | 17                                                                          |  2829                                                                       | CORPORACION UNIVERSITARIA MINUTO DE DIOS -UNIMINUTO-BOGOTÃ D.C.            | 146                                                                         | 2                                                                           | 157                                                                         | 2                                                                           | 150                                                                         | 2                                                                           | 104                                                                         | A1-                                                                         | 122                                                                         | 2                                                                           |\n",
       "| 20163                                                                       | EK201630180243                                                              | MAGDALENA                                                                   | 47                                                                          | 10413                                                                       | IED ESCUELA NORMAL SUPERIOR MARÃA AUXILIADORA - SEDE PRINCIPAL-SANTA MARTA | 160                                                                         | 3                                                                           | 172                                                                         | 3                                                                           | 151                                                                         | 2                                                                           | 160                                                                         | A2                                                                          | 192                                                                         | 4                                                                           |\n",
       "| 20163                                                                       | EK201630225077                                                              | CORDOBA                                                                     | 23                                                                          |  1113                                                                       | UNIVERSIDAD DE CORDOBA-MONTERIA                                             | 130                                                                         | 2                                                                           | 122                                                                         | 1                                                                           | 144                                                                         | 2                                                                           | 192                                                                         | B1                                                                          | 131                                                                         | 2                                                                           |\n",
       "| 20163                                                                       | EK201630189735                                                              | CAUCA                                                                       | 19                                                                          |  1807                                                                       | UNIVERSIDAD LIBRE-CALI                                                      | 159                                                                         | 3                                                                           | 129                                                                         | 2                                                                           | 147                                                                         | 2                                                                           | 108                                                                         | A1-                                                                         | 154                                                                         | 3                                                                           |\n",
       "\n"
      ],
      "text/plain": [
       "  periodo apli_consecutivo estu_depto_reside estu_cod_reside_depto\n",
       "1 20163   EK201630062726   ATLANTICO          8                   \n",
       "2 20163   EK201630208121   CUNDINAMARCA      25                   \n",
       "3 20163   EK201630220210   CALDAS            17                   \n",
       "4 20163   EK201630180243   MAGDALENA         47                   \n",
       "5 20163   EK201630225077   CORDOBA           23                   \n",
       "6 20163   EK201630189735   CAUCA             19                   \n",
       "  inst_cod_institucion\n",
       "1  1202               \n",
       "2  2725               \n",
       "3  2829               \n",
       "4 10413               \n",
       "5  1113               \n",
       "6  1807               \n",
       "  inst_nombre_institucion                                                    \n",
       "1 UNIVERSIDAD DEL ATLANTICO-BARRANQUILLA                                     \n",
       "2 POLITECNICO GRANCOLOMBIANO-BOGOTÃ\\201 D.C.                                    \n",
       "3 CORPORACION UNIVERSITARIA MINUTO DE DIOS -UNIMINUTO-BOGOTÃ\\201 D.C.           \n",
       "4 IED ESCUELA NORMAL SUPERIOR MARÃ\\215A AUXILIADORA - SEDE PRINCIPAL-SANTA MARTA\n",
       "5 UNIVERSIDAD DE CORDOBA-MONTERIA                                            \n",
       "6 UNIVERSIDAD LIBRE-CALI                                                     \n",
       "  raz_cuant_punt raz_cuant_des lect_crit_punt lect_crit_des comp_ciud_punt\n",
       "1 160            3             130            2             167           \n",
       "2 138            2             132            2              77           \n",
       "3 146            2             157            2             150           \n",
       "4 160            3             172            3             151           \n",
       "5 130            2             122            1             144           \n",
       "6 159            3             129            2             147           \n",
       "  comp_ciud_des ingles_punt ingles_desem comu_escr_punt comu_escr_des\n",
       "1 3             160         A2           155            3            \n",
       "2 1             125         A1           164            3            \n",
       "3 2             104         A1-          122            2            \n",
       "4 2             160         A2           192            4            \n",
       "5 2             192         B1           131            2            \n",
       "6 2             108         A1-          154            3            "
      ]
     },
     "metadata": {},
     "output_type": "display_data"
    }
   ],
   "source": [
    "saberpro<-get(load(\"saberpro.RData\"))\n",
    "head(saberpro) #Cargamos los datos en una variable llamada \"saberpro\" e imprimimos los 6 primeros datos."
   ]
  },
  {
   "cell_type": "code",
   "execution_count": 8,
   "metadata": {},
   "outputs": [
    {
     "data": {
      "text/html": [
       "<ol class=list-inline>\n",
       "\t<li>725295</li>\n",
       "\t<li>16</li>\n",
       "</ol>\n"
      ],
      "text/latex": [
       "\\begin{enumerate*}\n",
       "\\item 725295\n",
       "\\item 16\n",
       "\\end{enumerate*}\n"
      ],
      "text/markdown": [
       "1. 725295\n",
       "2. 16\n",
       "\n",
       "\n"
      ],
      "text/plain": [
       "[1] 725295     16"
      ]
     },
     "metadata": {},
     "output_type": "display_data"
    }
   ],
   "source": [
    "dim(saberpro) #Cantidad de columnas y filas del dataframe"
   ]
  },
  {
   "cell_type": "markdown",
   "metadata": {},
   "source": [
    "1. Realice muestreo aleatorio simple y realice las estimaciones (inferencia) correspondientes. Tenga en cuenta que son múltiples variables"
   ]
  },
  {
   "cell_type": "code",
   "execution_count": 10,
   "metadata": {},
   "outputs": [],
   "source": [
    "puntajeing<-data.frame(codigo=saberpro$estu_cod_reside_depto, puntajeing=saberpro$ingles_punt, dpto=saberpro$estu_depto_reside)"
   ]
  },
  {
   "cell_type": "code",
   "execution_count": 11,
   "metadata": {},
   "outputs": [
    {
     "data": {
      "text/html": [
       "<ol class=list-inline>\n",
       "\t<li>199204</li>\n",
       "\t<li>193938</li>\n",
       "\t<li>110911</li>\n",
       "\t<li>614742</li>\n",
       "\t<li>394088</li>\n",
       "\t<li>308686</li>\n",
       "</ol>\n"
      ],
      "text/latex": [
       "\\begin{enumerate*}\n",
       "\\item 199204\n",
       "\\item 193938\n",
       "\\item 110911\n",
       "\\item 614742\n",
       "\\item 394088\n",
       "\\item 308686\n",
       "\\end{enumerate*}\n"
      ],
      "text/markdown": [
       "1. 199204\n",
       "2. 193938\n",
       "3. 110911\n",
       "4. 614742\n",
       "5. 394088\n",
       "6. 308686\n",
       "\n",
       "\n"
      ],
      "text/plain": [
       "[1] 199204 193938 110911 614742 394088 308686"
      ]
     },
     "metadata": {},
     "output_type": "display_data"
    }
   ],
   "source": [
    "n1<-1000\n",
    "muestra1<- sample(1:nrow(puntajeing),size=n1,replace=FALSE)\n",
    "head(muestra1)"
   ]
  },
  {
   "cell_type": "code",
   "execution_count": 21,
   "metadata": {},
   "outputs": [
    {
     "data": {
      "image/png": "[encoded data removed]",
      "text/plain": [
       "Plot with title \"Histogram of puntajeing\""
      ]
     },
     "metadata": {},
     "output_type": "display_data"
    }
   ],
   "source": [
    "par(mfrow=c(3,1))\n",
    "with(puntajeing[muestra1,], plot(dpto,puntajeing))\n",
    "with(puntajeing[muestra1,], plot(puntajeing, pch = 20))\n",
    "with(puntajeing[muestra1,], hist(puntajeing, nclass = 50))\n",
    "par(mfrow=c(1,1))"
   ]
  },
  {
   "cell_type": "markdown",
   "metadata": {},
   "source": [
    "2.  Realice los correspondientes muestreos estratificados y compare los resultados con los anteriores. Explique las diferencias y/o similitudes"
   ]
  },
  {
   "cell_type": "code",
   "execution_count": null,
   "metadata": {},
   "outputs": [],
   "source": []
  },
  {
   "cell_type": "markdown",
   "metadata": {},
   "source": [
    "3.  Realice los correspondientes muestreos por conglomerados y compare los resultados con los puntos 1 y 2. Explique las diferencias y/o similitudes"
   ]
  },
  {
   "cell_type": "code",
   "execution_count": null,
   "metadata": {},
   "outputs": [],
   "source": []
  },
  {
   "cell_type": "markdown",
   "metadata": {},
   "source": [
    "4.  ¿Considera que es procedente realizar un muestreo sistemático? Argumente su respuesta"
   ]
  },
  {
   "cell_type": "code",
   "execution_count": null,
   "metadata": {},
   "outputs": [],
   "source": []
  },
  {
   "cell_type": "markdown",
   "metadata": {},
   "source": [
    "5.  Para las estimaciones emplee los siguientes niveles de confianza: 90%, 95% y 99%."
   ]
  },
  {
   "cell_type": "code",
   "execution_count": null,
   "metadata": {},
   "outputs": [],
   "source": []
  }
 ],
 "metadata": {
  "kernelspec": {
   "display_name": "R",
   "language": "R",
   "name": "ir"
  },
  "language_info": {
   "codemirror_mode": "r",
   "file_extension": ".r",
   "mimetype": "text/x-r-source",
   "name": "R",
   "pygments_lexer": "r",
   "version": "3.6.1"
  }
 },
 "nbformat": 4,
 "nbformat_minor": 4
}
