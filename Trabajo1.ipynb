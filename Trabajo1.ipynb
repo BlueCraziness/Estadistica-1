{
 "cells": [
  {
   "cell_type": "markdown",
   "metadata": {},
   "source": [
    "<h1>TRABAJO MUESTREO - INFERENCIA</h1>"
   ]
  },
  {
   "cell_type": "markdown",
   "metadata": {},
   "source": [
    "En los siguientes enlaces encontrará los datos relacionados con los resultados de las pruebas de estado para las Instituciones de Educación Superior (IES) colombianas de carácter universitario de los últimos tres (3) años:\n",
    "\n",
    " https://www.dropbox.com/s/xgsf3l5gjw0h0q4/saberpro.RData\n",
    "\n",
    "Considere estos datos como una población finita. Las variables que componen la tabla son:\n",
    "\n",
    "\n",
    "\n",
    " - `periodo:` año de realización de la prueba. La variable se presenta fragmentada debido al origen de los datos. Requiere agruparse adecuadamente. Para ello, consulte la función revalue y describa, brevemente, su funcionamiento.\n",
    " -  `apli_consecutivo:` consecutivo asignado al estudiante en el momento de presentar la prueba. Único por estudiante\n",
    " -  `estu_depto_reside:` departamento de residencia del estudiante\n",
    " -   `estu_cod_reside_depto:` código DANE del departamento de residencia del estudiante\n",
    " -   `inst_cod_institucion:` código de la IES ante el ministerio. Único por Institución\n",
    " -   `inst_nombre_institucion:` Nombre de la Institución. Algunas presentan sedes y subsedes\n",
    " -   `raz_cuant_punt:` Puntaje Razonamiento Cuantitativo\n",
    " -   `raz_cuant_des:` Nivel de Desempeño Razonamiento Cuantitativo (categórica)\n",
    " -   `lect_crit_punt:` Puntaje Lectura Crítica\n",
    " -   `lect_crit_des:` Nivel de Desempeño Lectura Crítica (categórica)\n",
    " -   `comp_ciud_punt:` Puntaje Competencias Ciudadanas\n",
    " -   `comp_ciud_des:` Nivel de Desempeño Competencias Ciudadanas (categórica)\n",
    " -   `ingles_punt:` Puntaje Inglés\n",
    " -   `ingles_desem:` Nivel de Desempeño en Inglés (categórica)\n",
    " -  `comu_escr_punt:` Puntaje Comunicación Escrita\n",
    " -  `comu_escr_des:` Nivel de Desempeño Comunicación Escrita (categórica)\n",
    "\n",
    "Tenga en cuenta que algunas variables categóricas figuran como numéricas, haga la correspondiente transformación.\n",
    "\n",
    "Los puntos a desarrollar son:\n",
    "\n",
    "\n",
    "   1. Realice muestreo aleatorio simple y realice las estimaciones (inferencia) correspondientes. Tenga en cuenta que son múltiples variables\n",
    "   2.  Realice los correspondientes muestreos estratificados y compare los resultados con los anteriores. Explique las diferencias y/o similitudes\n",
    "   3.  Realice los correspondientes muestreos por conglomerados y compare los resultados con los puntos 1 y 2. Explique las diferencias y/o similitudes\n",
    "   4.  ¿Considera que es procedente realizar un muestreo sistemático? Argumente su respuesta\n",
    "    Si la respuesta del punto 4 fue positiva, realice el correspondiente muestreo y compare con los anteriores\n",
    "   5.  Para las estimaciones emplee los siguientes niveles de confianza: 90%, 95% y 99%.\n",
    "\n",
    "El trabajo puede entregarse en formato PDF o como notebook de jupyter\n",
    "\n",
    "Recomendaciones:\n",
    "\n",
    " -   Procure tabular de manera adecuada las estimaciones para optimizar espacio\n",
    " -   Evite extenderse en las explicaciones\n",
    " -   Trate de optimizar el uso de gráficas (visite el siguiente repositorio si desea una guía: https://github.com/karlosmantilla/graficas-basicas-descriptivas-\n",
    " -   Referencie las fórmulas empleadas en los cálculos\n"
   ]
  },
  {
   "cell_type": "markdown",
   "metadata": {},
   "source": [
    "**Asignatura: Estadistica 2**\n",
    "\n",
    "**Profesor: Carlos Alfonso Mantilla Duarte**\n",
    "\n",
    "**Grupo: F1**\n",
    "\n",
    "\n",
    "\n",
    "<table style=\"font-size:14px;\">\n",
    "<thead>\n",
    "<td style=\"text-align:center\" ><strong>Integrante</strong></td>\n",
    "<td style=\"text-align:center\"><strong>Codigo</strong></td>\n",
    "</thead>\n",
    "<tr>\n",
    "<td style=\"text-align:center\">Orlando Alberto Moncada Rodriguez</td>\n",
    "<td style=\"text-align:center\">2170133</td>\n",
    "</tr>\n",
    "    <tr>\n",
    "<td style=\"text-align:center\">Santiago Andres Castro Duitama</td>\n",
    "<td style=\"text-align:center\">2170134</td>\n",
    "</tr>\n",
    "    <tr>\n",
    "<td style=\"text-align:center\">David Santiago Morales Norato</td>\n",
    "<td style=\"text-align:center\">2170102</td>\n",
    "</tr>\n",
    "</table>"
   ]
  },
  {
   "cell_type": "markdown",
   "metadata": {},
   "source": [
    "## Funciones y librerias"
   ]
  },
  {
   "cell_type": "code",
   "execution_count": 23,
   "metadata": {},
   "outputs": [],
   "source": [
    "mystats <- function(x, na.omit=FALSE){\n",
    "  if (na.omit)\n",
    "    x <- x[!is.na(x)]\n",
    "  m <- mean(x)\n",
    "  n <- length(x)\n",
    "  s <- sd(x)\n",
    "  skew <- sum((x-m)^3/s^3)/n\n",
    "  kurt <- sum((x-m)^4/s^4)/n - 3\n",
    "  return(c(\"tamaño\"=n, \"media\"=m, \"desviación estándar\"=s, \"simetría\"=skew, \"kurtosis\"=kurt))\n",
    "}"
   ]
  },
  {
   "cell_type": "markdown",
   "metadata": {},
   "source": [
    "# Desarrollo"
   ]
  },
  {
   "cell_type": "code",
   "execution_count": 2,
   "metadata": {},
   "outputs": [
    {
     "data": {
      "text/html": [
       "<table>\n",
       "<thead><tr><th scope=col>periodo</th><th scope=col>apli_consecutivo</th><th scope=col>estu_depto_reside</th><th scope=col>estu_cod_reside_depto</th><th scope=col>inst_cod_institucion</th><th scope=col>inst_nombre_institucion</th><th scope=col>raz_cuant_punt</th><th scope=col>raz_cuant_des</th><th scope=col>lect_crit_punt</th><th scope=col>lect_crit_des</th><th scope=col>comp_ciud_punt</th><th scope=col>comp_ciud_des</th><th scope=col>ingles_punt</th><th scope=col>ingles_desem</th><th scope=col>comu_escr_punt</th><th scope=col>comu_escr_des</th></tr></thead>\n",
       "<tbody>\n",
       "\t<tr><td>20163                                                                      </td><td>EK201630062726                                                             </td><td>ATLANTICO                                                                  </td><td> 8                                                                         </td><td> 1202                                                                      </td><td>UNIVERSIDAD DEL ATLANTICO-BARRANQUILLA                                     </td><td>160                                                                        </td><td>3                                                                          </td><td>130                                                                        </td><td>2                                                                          </td><td>167                                                                        </td><td>3                                                                          </td><td>160                                                                        </td><td>A2                                                                         </td><td>155                                                                        </td><td>3                                                                          </td></tr>\n",
       "\t<tr><td>20163                                                                      </td><td>EK201630208121                                                             </td><td>CUNDINAMARCA                                                               </td><td>25                                                                         </td><td> 2725                                                                      </td><td>POLITECNICO GRANCOLOMBIANO-BOGOTÃ D.C.                                    </td><td>138                                                                        </td><td>2                                                                          </td><td>132                                                                        </td><td>2                                                                          </td><td> 77                                                                        </td><td>1                                                                          </td><td>125                                                                        </td><td>A1                                                                         </td><td>164                                                                        </td><td>3                                                                          </td></tr>\n",
       "\t<tr><td>20163                                                                      </td><td>EK201630220210                                                             </td><td>CALDAS                                                                     </td><td>17                                                                         </td><td> 2829                                                                      </td><td>CORPORACION UNIVERSITARIA MINUTO DE DIOS -UNIMINUTO-BOGOTÃ D.C.           </td><td>146                                                                        </td><td>2                                                                          </td><td>157                                                                        </td><td>2                                                                          </td><td>150                                                                        </td><td>2                                                                          </td><td>104                                                                        </td><td>A1-                                                                        </td><td>122                                                                        </td><td>2                                                                          </td></tr>\n",
       "\t<tr><td>20163                                                                      </td><td>EK201630180243                                                             </td><td>MAGDALENA                                                                  </td><td>47                                                                         </td><td>10413                                                                      </td><td>IED ESCUELA NORMAL SUPERIOR MARÃA AUXILIADORA - SEDE PRINCIPAL-SANTA MARTA</td><td>160                                                                        </td><td>3                                                                          </td><td>172                                                                        </td><td>3                                                                          </td><td>151                                                                        </td><td>2                                                                          </td><td>160                                                                        </td><td>A2                                                                         </td><td>192                                                                        </td><td>4                                                                          </td></tr>\n",
       "\t<tr><td>20163                                                                      </td><td>EK201630225077                                                             </td><td>CORDOBA                                                                    </td><td>23                                                                         </td><td> 1113                                                                      </td><td>UNIVERSIDAD DE CORDOBA-MONTERIA                                            </td><td>130                                                                        </td><td>2                                                                          </td><td>122                                                                        </td><td>1                                                                          </td><td>144                                                                        </td><td>2                                                                          </td><td>192                                                                        </td><td>B1                                                                         </td><td>131                                                                        </td><td>2                                                                          </td></tr>\n",
       "\t<tr><td>20163                                                                      </td><td>EK201630189735                                                             </td><td>CAUCA                                                                      </td><td>19                                                                         </td><td> 1807                                                                      </td><td>UNIVERSIDAD LIBRE-CALI                                                     </td><td>159                                                                        </td><td>3                                                                          </td><td>129                                                                        </td><td>2                                                                          </td><td>147                                                                        </td><td>2                                                                          </td><td>108                                                                        </td><td>A1-                                                                        </td><td>154                                                                        </td><td>3                                                                          </td></tr>\n",
       "</tbody>\n",
       "</table>\n"
      ],
      "text/latex": [
       "\\begin{tabular}{r|llllllllllllllll}\n",
       " periodo & apli\\_consecutivo & estu\\_depto\\_reside & estu\\_cod\\_reside\\_depto & inst\\_cod\\_institucion & inst\\_nombre\\_institucion & raz\\_cuant\\_punt & raz\\_cuant\\_des & lect\\_crit\\_punt & lect\\_crit\\_des & comp\\_ciud\\_punt & comp\\_ciud\\_des & ingles\\_punt & ingles\\_desem & comu\\_escr\\_punt & comu\\_escr\\_des\\\\\n",
       "\\hline\n",
       "\t 20163                                                                       & EK201630062726                                                              & ATLANTICO                                                                   &  8                                                                          &  1202                                                                       & UNIVERSIDAD DEL ATLANTICO-BARRANQUILLA                                      & 160                                                                         & 3                                                                           & 130                                                                         & 2                                                                           & 167                                                                         & 3                                                                           & 160                                                                         & A2                                                                          & 155                                                                         & 3                                                                          \\\\\n",
       "\t 20163                                                                       & EK201630208121                                                              & CUNDINAMARCA                                                                & 25                                                                          &  2725                                                                       & POLITECNICO GRANCOLOMBIANO-BOGOTÃ D.C.                                     & 138                                                                         & 2                                                                           & 132                                                                         & 2                                                                           &  77                                                                         & 1                                                                           & 125                                                                         & A1                                                                          & 164                                                                         & 3                                                                          \\\\\n",
       "\t 20163                                                                       & EK201630220210                                                              & CALDAS                                                                      & 17                                                                          &  2829                                                                       & CORPORACION UNIVERSITARIA MINUTO DE DIOS -UNIMINUTO-BOGOTÃ D.C.            & 146                                                                         & 2                                                                           & 157                                                                         & 2                                                                           & 150                                                                         & 2                                                                           & 104                                                                         & A1-                                                                         & 122                                                                         & 2                                                                          \\\\\n",
       "\t 20163                                                                       & EK201630180243                                                              & MAGDALENA                                                                   & 47                                                                          & 10413                                                                       & IED ESCUELA NORMAL SUPERIOR MARÃA AUXILIADORA - SEDE PRINCIPAL-SANTA MARTA & 160                                                                         & 3                                                                           & 172                                                                         & 3                                                                           & 151                                                                         & 2                                                                           & 160                                                                         & A2                                                                          & 192                                                                         & 4                                                                          \\\\\n",
       "\t 20163                                                                       & EK201630225077                                                              & CORDOBA                                                                     & 23                                                                          &  1113                                                                       & UNIVERSIDAD DE CORDOBA-MONTERIA                                             & 130                                                                         & 2                                                                           & 122                                                                         & 1                                                                           & 144                                                                         & 2                                                                           & 192                                                                         & B1                                                                          & 131                                                                         & 2                                                                          \\\\\n",
       "\t 20163                                                                       & EK201630189735                                                              & CAUCA                                                                       & 19                                                                          &  1807                                                                       & UNIVERSIDAD LIBRE-CALI                                                      & 159                                                                         & 3                                                                           & 129                                                                         & 2                                                                           & 147                                                                         & 2                                                                           & 108                                                                         & A1-                                                                         & 154                                                                         & 3                                                                          \\\\\n",
       "\\end{tabular}\n"
      ],
      "text/markdown": [
       "\n",
       "| periodo | apli_consecutivo | estu_depto_reside | estu_cod_reside_depto | inst_cod_institucion | inst_nombre_institucion | raz_cuant_punt | raz_cuant_des | lect_crit_punt | lect_crit_des | comp_ciud_punt | comp_ciud_des | ingles_punt | ingles_desem | comu_escr_punt | comu_escr_des |\n",
       "|---|---|---|---|---|---|---|---|---|---|---|---|---|---|---|---|\n",
       "| 20163                                                                       | EK201630062726                                                              | ATLANTICO                                                                   |  8                                                                          |  1202                                                                       | UNIVERSIDAD DEL ATLANTICO-BARRANQUILLA                                      | 160                                                                         | 3                                                                           | 130                                                                         | 2                                                                           | 167                                                                         | 3                                                                           | 160                                                                         | A2                                                                          | 155                                                                         | 3                                                                           |\n",
       "| 20163                                                                       | EK201630208121                                                              | CUNDINAMARCA                                                                | 25                                                                          |  2725                                                                       | POLITECNICO GRANCOLOMBIANO-BOGOTÃ D.C.                                     | 138                                                                         | 2                                                                           | 132                                                                         | 2                                                                           |  77                                                                         | 1                                                                           | 125                                                                         | A1                                                                          | 164                                                                         | 3                                                                           |\n",
       "| 20163                                                                       | EK201630220210                                                              | CALDAS                                                                      | 17                                                                          |  2829                                                                       | CORPORACION UNIVERSITARIA MINUTO DE DIOS -UNIMINUTO-BOGOTÃ D.C.            | 146                                                                         | 2                                                                           | 157                                                                         | 2                                                                           | 150                                                                         | 2                                                                           | 104                                                                         | A1-                                                                         | 122                                                                         | 2                                                                           |\n",
       "| 20163                                                                       | EK201630180243                                                              | MAGDALENA                                                                   | 47                                                                          | 10413                                                                       | IED ESCUELA NORMAL SUPERIOR MARÃA AUXILIADORA - SEDE PRINCIPAL-SANTA MARTA | 160                                                                         | 3                                                                           | 172                                                                         | 3                                                                           | 151                                                                         | 2                                                                           | 160                                                                         | A2                                                                          | 192                                                                         | 4                                                                           |\n",
       "| 20163                                                                       | EK201630225077                                                              | CORDOBA                                                                     | 23                                                                          |  1113                                                                       | UNIVERSIDAD DE CORDOBA-MONTERIA                                             | 130                                                                         | 2                                                                           | 122                                                                         | 1                                                                           | 144                                                                         | 2                                                                           | 192                                                                         | B1                                                                          | 131                                                                         | 2                                                                           |\n",
       "| 20163                                                                       | EK201630189735                                                              | CAUCA                                                                       | 19                                                                          |  1807                                                                       | UNIVERSIDAD LIBRE-CALI                                                      | 159                                                                         | 3                                                                           | 129                                                                         | 2                                                                           | 147                                                                         | 2                                                                           | 108                                                                         | A1-                                                                         | 154                                                                         | 3                                                                           |\n",
       "\n"
      ],
      "text/plain": [
       "  periodo apli_consecutivo estu_depto_reside estu_cod_reside_depto\n",
       "1 20163   EK201630062726   ATLANTICO          8                   \n",
       "2 20163   EK201630208121   CUNDINAMARCA      25                   \n",
       "3 20163   EK201630220210   CALDAS            17                   \n",
       "4 20163   EK201630180243   MAGDALENA         47                   \n",
       "5 20163   EK201630225077   CORDOBA           23                   \n",
       "6 20163   EK201630189735   CAUCA             19                   \n",
       "  inst_cod_institucion\n",
       "1  1202               \n",
       "2  2725               \n",
       "3  2829               \n",
       "4 10413               \n",
       "5  1113               \n",
       "6  1807               \n",
       "  inst_nombre_institucion                                                    \n",
       "1 UNIVERSIDAD DEL ATLANTICO-BARRANQUILLA                                     \n",
       "2 POLITECNICO GRANCOLOMBIANO-BOGOTÃ\\201 D.C.                                    \n",
       "3 CORPORACION UNIVERSITARIA MINUTO DE DIOS -UNIMINUTO-BOGOTÃ\\201 D.C.           \n",
       "4 IED ESCUELA NORMAL SUPERIOR MARÃ\\215A AUXILIADORA - SEDE PRINCIPAL-SANTA MARTA\n",
       "5 UNIVERSIDAD DE CORDOBA-MONTERIA                                            \n",
       "6 UNIVERSIDAD LIBRE-CALI                                                     \n",
       "  raz_cuant_punt raz_cuant_des lect_crit_punt lect_crit_des comp_ciud_punt\n",
       "1 160            3             130            2             167           \n",
       "2 138            2             132            2              77           \n",
       "3 146            2             157            2             150           \n",
       "4 160            3             172            3             151           \n",
       "5 130            2             122            1             144           \n",
       "6 159            3             129            2             147           \n",
       "  comp_ciud_des ingles_punt ingles_desem comu_escr_punt comu_escr_des\n",
       "1 3             160         A2           155            3            \n",
       "2 1             125         A1           164            3            \n",
       "3 2             104         A1-          122            2            \n",
       "4 2             160         A2           192            4            \n",
       "5 2             192         B1           131            2            \n",
       "6 2             108         A1-          154            3            "
      ]
     },
     "metadata": {},
     "output_type": "display_data"
    }
   ],
   "source": [
    "saberpro<-get(load(\"saberpro.RData\"))\n",
    "head(saberpro) #Cargamos los datos en una variable llamada \"saberpro\" e imprimimos los 6 primeros datos."
   ]
  },
  {
   "cell_type": "code",
   "execution_count": 3,
   "metadata": {},
   "outputs": [
    {
     "data": {
      "text/html": [
       "<ol class=list-inline>\n",
       "\t<li>725295</li>\n",
       "\t<li>16</li>\n",
       "</ol>\n"
      ],
      "text/latex": [
       "\\begin{enumerate*}\n",
       "\\item 725295\n",
       "\\item 16\n",
       "\\end{enumerate*}\n"
      ],
      "text/markdown": [
       "1. 725295\n",
       "2. 16\n",
       "\n",
       "\n"
      ],
      "text/plain": [
       "[1] 725295     16"
      ]
     },
     "metadata": {},
     "output_type": "display_data"
    }
   ],
   "source": [
    "dim(saberpro) #Cantidad de columnas y filas del dataframe"
   ]
  },
  {
   "cell_type": "markdown",
   "metadata": {},
   "source": [
    "## 1. Realice muestreo aleatorio simple y realice las estimaciones (inferencia) correspondientes. Tenga en cuenta que son múltiples variables"
   ]
  },
  {
   "cell_type": "code",
   "execution_count": 4,
   "metadata": {},
   "outputs": [],
   "source": [
    "puntajeing<-data.frame(codigo=saberpro$estu_cod_reside_depto, puntajeing=saberpro$ingles_punt, dpto=saberpro$estu_depto_reside)"
   ]
  },
  {
   "cell_type": "code",
   "execution_count": 33,
   "metadata": {},
   "outputs": [
    {
     "data": {
      "text/html": [
       "<ol class=list-inline>\n",
       "\t<li>203367</li>\n",
       "\t<li>304172</li>\n",
       "\t<li>56087</li>\n",
       "\t<li>651823</li>\n",
       "\t<li>34654</li>\n",
       "\t<li>116443</li>\n",
       "</ol>\n"
      ],
      "text/latex": [
       "\\begin{enumerate*}\n",
       "\\item 203367\n",
       "\\item 304172\n",
       "\\item 56087\n",
       "\\item 651823\n",
       "\\item 34654\n",
       "\\item 116443\n",
       "\\end{enumerate*}\n"
      ],
      "text/markdown": [
       "1. 203367\n",
       "2. 304172\n",
       "3. 56087\n",
       "4. 651823\n",
       "5. 34654\n",
       "6. 116443\n",
       "\n",
       "\n"
      ],
      "text/plain": [
       "[1] 203367 304172  56087 651823  34654 116443"
      ]
     },
     "metadata": {},
     "output_type": "display_data"
    }
   ],
   "source": [
    "n1<-100\n",
    "n2<-200\n",
    "n3<-500\n",
    "muestra1<- sample(1:nrow(puntajeing),size=n1,replace=FALSE)\n",
    "muestra2<- sample(1:nrow(puntajeing),size=n2,replace=FALSE)\n",
    "muestra3<- sample(1:nrow(puntajeing),size=n3,replace=FALSE)\n",
    "head(muestra3)"
   ]
  },
  {
   "cell_type": "code",
   "execution_count": 34,
   "metadata": {},
   "outputs": [
    {
     "data": {
      "image/png": "[encoded data removed]",
      "text/plain": [
       "Plot with title \"Histogram of puntajeing\""
      ]
     },
     "metadata": {},
     "output_type": "display_data"
    }
   ],
   "source": [
    "par(mfrow=c(2,1))\n",
    "with(puntajeing[muestra3,], plot(puntajeing, pch = 20))\n",
    "with(puntajeing[muestra3,], hist(puntajeing, nclass = 50))\n",
    "par(mfrow=c(1,1))"
   ]
  },
  {
   "cell_type": "code",
   "execution_count": 35,
   "metadata": {},
   "outputs": [
    {
     "data": {
      "text/html": [
       "<table>\n",
       "<thead><tr><th scope=col>codigo</th><th scope=col>puntajeing</th><th scope=col>dpto</th></tr></thead>\n",
       "<tbody>\n",
       "\t<tr><td> 8          </td><td>160         </td><td>ATLANTICO   </td></tr>\n",
       "\t<tr><td>25          </td><td>125         </td><td>CUNDINAMARCA</td></tr>\n",
       "\t<tr><td>17          </td><td>104         </td><td>CALDAS      </td></tr>\n",
       "\t<tr><td>47          </td><td>160         </td><td>MAGDALENA   </td></tr>\n",
       "\t<tr><td>23          </td><td>192         </td><td>CORDOBA     </td></tr>\n",
       "\t<tr><td>19          </td><td>108         </td><td>CAUCA       </td></tr>\n",
       "</tbody>\n",
       "</table>\n"
      ],
      "text/latex": [
       "\\begin{tabular}{r|lll}\n",
       " codigo & puntajeing & dpto\\\\\n",
       "\\hline\n",
       "\t  8           & 160          & ATLANTICO   \\\\\n",
       "\t 25           & 125          & CUNDINAMARCA\\\\\n",
       "\t 17           & 104          & CALDAS      \\\\\n",
       "\t 47           & 160          & MAGDALENA   \\\\\n",
       "\t 23           & 192          & CORDOBA     \\\\\n",
       "\t 19           & 108          & CAUCA       \\\\\n",
       "\\end{tabular}\n"
      ],
      "text/markdown": [
       "\n",
       "| codigo | puntajeing | dpto |\n",
       "|---|---|---|\n",
       "|  8           | 160          | ATLANTICO    |\n",
       "| 25           | 125          | CUNDINAMARCA |\n",
       "| 17           | 104          | CALDAS       |\n",
       "| 47           | 160          | MAGDALENA    |\n",
       "| 23           | 192          | CORDOBA      |\n",
       "| 19           | 108          | CAUCA        |\n",
       "\n"
      ],
      "text/plain": [
       "  codigo puntajeing dpto        \n",
       "1  8     160        ATLANTICO   \n",
       "2 25     125        CUNDINAMARCA\n",
       "3 17     104        CALDAS      \n",
       "4 47     160        MAGDALENA   \n",
       "5 23     192        CORDOBA     \n",
       "6 19     108        CAUCA       "
      ]
     },
     "metadata": {},
     "output_type": "display_data"
    }
   ],
   "source": [
    "head(puntajeing)"
   ]
  },
  {
   "cell_type": "code",
   "execution_count": 36,
   "metadata": {},
   "outputs": [
    {
     "data": {
      "text/html": [
       "<table>\n",
       "<thead><tr><th></th><th scope=col>pop</th><th scope=col>m1</th><th scope=col>m2</th><th scope=col>m3</th></tr></thead>\n",
       "<tbody>\n",
       "\t<tr><th scope=row>tamaño</th><td>725295.0</td><td>100.0   </td><td>200.0   </td><td>500.0   </td></tr>\n",
       "\t<tr><th scope=row>media</th><td>   150.4</td><td>150.3   </td><td>149.1   </td><td>148.2   </td></tr>\n",
       "\t<tr><th scope=row>desviación estándar</th><td>    31.9</td><td> 37.1   </td><td> 36.6   </td><td> 32.8   </td></tr>\n",
       "\t<tr><th scope=row>simetría</th><td>     0.3</td><td> -1.1   </td><td> -1.0   </td><td>  0.1   </td></tr>\n",
       "\t<tr><th scope=row>kurtosis</th><td>     1.5</td><td>  3.4   </td><td>  3.6   </td><td>  2.3   </td></tr>\n",
       "</tbody>\n",
       "</table>\n"
      ],
      "text/latex": [
       "\\begin{tabular}{r|llll}\n",
       "  & pop & m1 & m2 & m3\\\\\n",
       "\\hline\n",
       "\ttamaño & 725295.0 & 100.0    & 200.0    & 500.0   \\\\\n",
       "\tmedia &    150.4 & 150.3    & 149.1    & 148.2   \\\\\n",
       "\tdesviación estándar &     31.9 &  37.1    &  36.6    &  32.8   \\\\\n",
       "\tsimetría &      0.3 &  -1.1    &  -1.0    &   0.1   \\\\\n",
       "\tkurtosis &      1.5 &   3.4    &   3.6    &   2.3   \\\\\n",
       "\\end{tabular}\n"
      ],
      "text/markdown": [
       "\n",
       "| <!--/--> | pop | m1 | m2 | m3 |\n",
       "|---|---|---|---|---|\n",
       "| tamaño | 725295.0 | 100.0    | 200.0    | 500.0    |\n",
       "| media |    150.4 | 150.3    | 149.1    | 148.2    |\n",
       "| desviación estándar |     31.9 |  37.1    |  36.6    |  32.8    |\n",
       "| simetría |      0.3 |  -1.1    |  -1.0    |   0.1    |\n",
       "| kurtosis |      1.5 |   3.4    |   3.6    |   2.3    |\n",
       "\n"
      ],
      "text/plain": [
       "                    pop      m1    m2    m3   \n",
       "tamaño              725295.0 100.0 200.0 500.0\n",
       "media                  150.4 150.3 149.1 148.2\n",
       "desviación estándar     31.9  37.1  36.6  32.8\n",
       "simetría                 0.3  -1.1  -1.0   0.1\n",
       "kurtosis                 1.5   3.4   3.6   2.3"
      ]
     },
     "metadata": {},
     "output_type": "display_data"
    }
   ],
   "source": [
    "pop<-round(mystats(puntajeing[,'puntajeing']),1)\n",
    "m1<-round(mystats(puntajeing[muestra1,'puntajeing']),1)\n",
    "m2<-round(mystats(puntajeing[muestra2,'puntajeing']),1)\n",
    "m3<-round(mystats(puntajeing[muestra3,'puntajeing']),1)\n",
    "data.frame(pop,m1,m2,m3)"
   ]
  },
  {
   "cell_type": "code",
   "execution_count": 31,
   "metadata": {},
   "outputs": [
    {
     "data": {
      "image/png": "[encoded data removed]",
      "text/plain": [
       "Plot with title \"Muestra 3 (500)\""
      ]
     },
     "metadata": {},
     "output_type": "display_data"
    }
   ],
   "source": [
    "par(mfrow=c(2,4))\n",
    "with(puntajeing, boxplot(puntajeing, main = 'Población'))\n",
    "with(puntajeing[muestra1,], boxplot(puntajeing, main = 'Muestra 1 (100)'))\n",
    "with(puntajeing[muestra2,], boxplot(puntajeing, main = 'Muestra 2 (200)'))\n",
    "with(puntajeing[muestra3,], boxplot(puntajeing, main = 'Muestra 3 (500)'))\n",
    "with(puntajeing, hist(puntajeing, nclass = 50, main = 'Población'))\n",
    "with(puntajeing[muestra1,], hist(puntajeing, nclass = 50, main = 'Muestra 1 (100)'))\n",
    "with(puntajeing[muestra2,], hist(puntajeing, nclass = 50, main = 'Muestra 2 (200)'))\n",
    "with(puntajeing[muestra3,], hist(puntajeing, nclass = 50, main = 'Muestra 3 (500)'))\n",
    "par(mfrow=c(1,1))"
   ]
  },
  {
   "cell_type": "markdown",
   "metadata": {},
   "source": [
    "## Inferencias"
   ]
  },
  {
   "cell_type": "markdown",
   "metadata": {},
   "source": [
    "Para esta situacion como se puede ver se uso como variable principal el puntaje de ingles obtenido en la pruebas, este se analizo como un independiente por ende no se uso mas variable sino solo esta.\n",
    "\n",
    "Las graficas nos muestras un comportamiento de precision entre mayor numero de muestra tomemos de la poblacion lo cual deriva en un factor de confianza, por ejemplo, al ver una muestra de 100 calificaciones podriamos decir que la media se encuentra en 148, cuando en realidad es 150.4. Pero, al ver la de 500 no hay una gran diferencia de la de 100, por lo cual nuestro grupo se pregunto el porque y se hallo una razon logaritmica entre el aumento de la cantidad de la muestra con respecto a la poblacional. Esta bien decir que 500 es un valor grande comparado a 100 pero comparado a la poblacion es minusculo.\n",
    "\n",
    "Se puede ver que el muestreo aleatorio simple requiere una muestra significativa para obtener una informacion significativa. "
   ]
  },
  {
   "cell_type": "markdown",
   "metadata": {},
   "source": [
    "2.  Realice los correspondientes muestreos estratificados y compare los resultados con los anteriores. Explique las diferencias y/o similitudes"
   ]
  },
  {
   "cell_type": "code",
   "execution_count": null,
   "metadata": {},
   "outputs": [],
   "source": []
  },
  {
   "cell_type": "markdown",
   "metadata": {},
   "source": [
    "3.  Realice los correspondientes muestreos por conglomerados y compare los resultados con los puntos 1 y 2. Explique las diferencias y/o similitudes"
   ]
  },
  {
   "cell_type": "code",
   "execution_count": null,
   "metadata": {},
   "outputs": [],
   "source": []
  },
  {
   "cell_type": "markdown",
   "metadata": {},
   "source": [
    "4.  ¿Considera que es procedente realizar un muestreo sistemático? Argumente su respuesta"
   ]
  },
  {
   "cell_type": "code",
   "execution_count": null,
   "metadata": {},
   "outputs": [],
   "source": []
  },
  {
   "cell_type": "markdown",
   "metadata": {},
   "source": [
    "5.  Para las estimaciones emplee los siguientes niveles de confianza: 90%, 95% y 99%."
   ]
  },
  {
   "cell_type": "code",
   "execution_count": null,
   "metadata": {},
   "outputs": [],
   "source": []
  }
 ],
 "metadata": {
  "kernelspec": {
   "display_name": "R",
   "language": "R",
   "name": "ir"
  },
  "language_info": {
   "codemirror_mode": "r",
   "file_extension": ".r",
   "mimetype": "text/x-r-source",
   "name": "R",
   "pygments_lexer": "r",
   "version": "3.6.1"
  }
 },
 "nbformat": 4,
 "nbformat_minor": 4
}
