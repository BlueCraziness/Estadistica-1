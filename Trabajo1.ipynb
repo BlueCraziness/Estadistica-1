{
 "cells": [
  {
   "cell_type": "markdown",
   "metadata": {},
   "source": [
    "<h1>TRABAJO MUESTREO - INFERENCIA</h1>"
   ]
  },
  {
   "cell_type": "markdown",
   "metadata": {},
   "source": [
    "En los siguientes enlaces encontrará los datos relacionados con los resultados de las pruebas de estado para las Instituciones de Educación Superior (IES) colombianas de carácter universitario de los últimos tres (3) años:\n",
    "\n",
    " https://www.dropbox.com/s/xgsf3l5gjw0h0q4/saberpro.RData\n",
    "\n",
    "Considere estos datos como una población finita. Las variables que componen la tabla son:\n",
    "\n",
    "\n",
    "\n",
    " - `periodo:` año de realización de la prueba. La variable se presenta fragmentada debido al origen de los datos. Requiere agruparse adecuadamente. Para ello, consulte la función revalue y describa, brevemente, su funcionamiento.\n",
    " -  `apli_consecutivo:` consecutivo asignado al estudiante en el momento de presentar la prueba. Único por estudiante\n",
    " -  `estu_depto_reside:` departamento de residencia del estudiante\n",
    " -   `estu_cod_reside_depto:` código DANE del departamento de residencia del estudiante\n",
    " -   `inst_cod_institucion:` código de la IES ante el ministerio. Único por Institución\n",
    " -   `inst_nombre_institucion:` Nombre de la Institución. Algunas presentan sedes y subsedes\n",
    " -   `raz_cuant_punt:` Puntaje Razonamiento Cuantitativo\n",
    " -   `raz_cuant_des:` Nivel de Desempeño Razonamiento Cuantitativo (categórica)\n",
    " -   `lect_crit_punt:` Puntaje Lectura Crítica\n",
    " -   `lect_crit_des:` Nivel de Desempeño Lectura Crítica (categórica)\n",
    " -   `comp_ciud_punt:` Puntaje Competencias Ciudadanas\n",
    " -   `comp_ciud_des:` Nivel de Desempeño Competencias Ciudadanas (categórica)\n",
    " -   `ingles_punt:` Puntaje Inglés\n",
    " -   `ingles_desem:` Nivel de Desempeño en Inglés (categórica)\n",
    " -  `comu_escr_punt:` Puntaje Comunicación Escrita\n",
    " -  `comu_escr_des:` Nivel de Desempeño Comunicación Escrita (categórica)\n",
    "\n",
    "Tenga en cuenta que algunas variables categóricas figuran como numéricas, haga la correspondiente transformación.\n",
    "\n",
    "Los puntos a desarrollar son:\n",
    "\n",
    "\n",
    "   1. Realice muestreo aleatorio simple y realice las estimaciones (inferencia) correspondientes. Tenga en cuenta que son múltiples variables\n",
    "   2.  Realice los correspondientes muestreos estratificados y compare los resultados con los anteriores. Explique las diferencias y/o similitudes\n",
    "   3.  Realice los correspondientes muestreos por conglomerados y compare los resultados con los puntos 1 y 2. Explique las diferencias y/o similitudes\n",
    "   4.  ¿Considera que es procedente realizar un muestreo sistemático? Argumente su respuesta\n",
    "    Si la respuesta del punto 4 fue positiva, realice el correspondiente muestreo y compare con los anteriores\n",
    "   5.  Para las estimaciones emplee los siguientes niveles de confianza: 90%, 95% y 99%.\n",
    "\n",
    "El trabajo puede entregarse en formato PDF o como notebook de jupyter\n",
    "\n",
    "Recomendaciones:\n",
    "\n",
    " -   Procure tabular de manera adecuada las estimaciones para optimizar espacio\n",
    " -   Evite extenderse en las explicaciones\n",
    " -   Trate de optimizar el uso de gráficas (visite el siguiente repositorio si desea una guía: https://github.com/karlosmantilla/graficas-basicas-descriptivas-\n",
    " -   Referencie las fórmulas empleadas en los cálculos\n"
   ]
  },
  {
   "cell_type": "markdown",
   "metadata": {},
   "source": [
    "**Asignatura: Estadistica 2**\n",
    "\n",
    "**Profesor: Carlos Alfonso Mantilla Duarte**\n",
    "\n",
    "**Grupo: F1**\n",
    "\n",
    "\n",
    "\n",
    "<table style=\"font-size:14px;\">\n",
    "<thead>\n",
    "<td style=\"text-align:center\" ><strong>Integrante</strong></td>\n",
    "<td style=\"text-align:center\"><strong>Codigo</strong></td>\n",
    "</thead>\n",
    "<tr>\n",
    "<td style=\"text-align:center\">Orlando Alberto Moncada Rodriguez</td>\n",
    "<td style=\"text-align:center\">2170133</td>\n",
    "</tr>\n",
    "    <tr>\n",
    "<td style=\"text-align:center\">Santiago Andres Castro Duitama</td>\n",
    "<td style=\"text-align:center\">2170134</td>\n",
    "</tr>\n",
    "    <tr>\n",
    "<td style=\"text-align:center\">David Santiago Morales Norato</td>\n",
    "<td style=\"text-align:center\">2170102</td>\n",
    "</tr>\n",
    "</table>"
   ]
  },
  {
   "cell_type": "markdown",
   "metadata": {},
   "source": [
    "## Funciones y librerias"
   ]
  },
  {
   "cell_type": "code",
   "execution_count": 2,
   "metadata": {},
   "outputs": [],
   "source": [
    "library('SamplingUtil')\n",
    "#install.packages('plyr')\n",
    "#install.packages('samplingbook')\n",
    "\n",
    "mystats <- function(x, na.omit=FALSE){\n",
    "  if (na.omit)\n",
    "    x <- x[!is.na(x)]\n",
    "  m <- mean(x)\n",
    "  n <- length(x)\n",
    "  s <- sd(x)\n",
    "  skew <- sum((x-m)^3/s^3)/n\n",
    "  kurt <- sum((x-m)^4/s^4)/n - 3\n",
    "  return(c(\"tamaño\"=n, \"media\"=m, \"desviación estándar\"=s, \"simetría\"=skew, \"kurtosis\"=kurt))\n",
    "}\n",
    "library(plyr)\n",
    "library(tidyverse)\n",
    "library(samplingbook)"
   ]
  },
  {
   "cell_type": "markdown",
   "metadata": {},
   "source": [
    "## Importar datos"
   ]
  },
  {
   "cell_type": "code",
   "execution_count": 55,
   "metadata": {},
   "outputs": [
    {
     "name": "stderr",
     "output_type": "stream",
     "text": [
      "Warning message in load(\"saberpro.RData\"):\n",
      "“input string 'COLEGIO DE ESTUDIOS SUPERIORES DE ADMINISTRACION-CESA-BOGOTÁ D.C.' cannot be translated to UTF-8, is it valid in 'CP1252'?”\n",
      "Warning message in load(\"saberpro.RData\"):\n",
      "“input string 'COLEGIO MAYOR DE NUESTRA SEÑORA DEL ROSARIO-BOGOTÁ D.C.' cannot be translated to UTF-8, is it valid in 'CP1252'?”\n",
      "Warning message in load(\"saberpro.RData\"):\n",
      "“input string 'CORPORACION ESCUELA DE ARTES Y LETRAS-BOGOTÁ D.C.' cannot be translated to UTF-8, is it valid in 'CP1252'?”\n",
      "Warning message in load(\"saberpro.RData\"):\n",
      "“input string 'CORPORACION INTERNACIONAL PARA EL DESARROLLO EDUCATIVO -CIDE-BOGOTÁ D.C.' cannot be translated to UTF-8, is it valid in 'CP1252'?”\n",
      "Warning message in load(\"saberpro.RData\"):\n",
      "“input string 'CORPORACION TECNOLOGICA INDUSTRIAL COLOMBIANA - TEINCO-BOGOTÁ D.C.' cannot be translated to UTF-8, is it valid in 'CP1252'?”\n",
      "Warning message in load(\"saberpro.RData\"):\n",
      "“input string 'CORPORACION UNIFICADA NACIONAL DE EDUCACION SUPERIOR-CUN-BOGOTÁ D.C.' cannot be translated to UTF-8, is it valid in 'CP1252'?”\n",
      "Warning message in load(\"saberpro.RData\"):\n",
      "“input string 'CORPORACION UNIVERSIDAD PILOTO DE COLOMBIA-BOGOTÁ D.C.' cannot be translated to UTF-8, is it valid in 'CP1252'?”\n",
      "Warning message in load(\"saberpro.RData\"):\n",
      "“input string 'CORPORACION UNIVERSITARIA  UNITEC-BOGOTÁ D.C.' cannot be translated to UTF-8, is it valid in 'CP1252'?”\n",
      "Warning message in load(\"saberpro.RData\"):\n",
      "“input string 'CORPORACION UNIVERSITARIA CENDA-BOGOTÁ D.C.' cannot be translated to UTF-8, is it valid in 'CP1252'?”\n",
      "Warning message in load(\"saberpro.RData\"):\n",
      "“input string 'CORPORACION UNIVERSITARIA DE ASTURIAS-BOGOTÁ D.C.' cannot be translated to UTF-8, is it valid in 'CP1252'?”\n",
      "Warning message in load(\"saberpro.RData\"):\n",
      "“input string 'CORPORACION UNIVERSITARIA DE CIENCIA Y DESARROLLO - UNICIENCIA-BOGOTÁ D.C.' cannot be translated to UTF-8, is it valid in 'CP1252'?”\n",
      "Warning message in load(\"saberpro.RData\"):\n",
      "“input string 'CORPORACION UNIVERSITARIA DE COLOMBIA IDEAS-BOGOTÁ D.C.' cannot be translated to UTF-8, is it valid in 'CP1252'?”\n",
      "Warning message in load(\"saberpro.RData\"):\n",
      "“input string 'CORPORACION UNIVERSITARIA IBEROAMERICANA-BOGOTÁ D.C.' cannot be translated to UTF-8, is it valid in 'CP1252'?”\n",
      "Warning message in load(\"saberpro.RData\"):\n",
      "“input string 'CORPORACION UNIVERSITARIA MINUTO DE DIOS -UNIMINUTO-BOGOTÁ D.C.' cannot be translated to UTF-8, is it valid in 'CP1252'?”\n",
      "Warning message in load(\"saberpro.RData\"):\n",
      "“input string 'CORPORACION UNIVERSITARIA REPUBLICANA-BOGOTÁ D.C.' cannot be translated to UTF-8, is it valid in 'CP1252'?”\n",
      "Warning message in load(\"saberpro.RData\"):\n",
      "“input string 'DIRECCION NACIONAL DE ESCUELAS-BOGOTÁ D.C.' cannot be translated to UTF-8, is it valid in 'CP1252'?”\n",
      "Warning message in load(\"saberpro.RData\"):\n",
      "“input string 'ESC NORMAL SUPERIOR NSTRA SRA DE LA PAZ-BOGOTÁ D.C.' cannot be translated to UTF-8, is it valid in 'CP1252'?”\n",
      "Warning message in load(\"saberpro.RData\"):\n",
      "“input string 'ESCUELA COLOMBIANA DE INGENIERIAJULIO GARAVITO-BOGOTÁ D.C.' cannot be translated to UTF-8, is it valid in 'CP1252'?”\n",
      "Warning message in load(\"saberpro.RData\"):\n",
      "“input string 'ESCUELA DE INGENIEROS MILITARES-BOGOTÁ D.C.' cannot be translated to UTF-8, is it valid in 'CP1252'?”\n",
      "Warning message in load(\"saberpro.RData\"):\n",
      "“input string 'ESCUELA DE INTELIGENCIA Y CONTRAINTELIGENCIA BRIGADIER GENERAL RICARDO CHARRY SOLANO-BOGOTÁ D.C.' cannot be translated to UTF-8, is it valid in 'CP1252'?”\n",
      "Warning message in load(\"saberpro.RData\"):\n",
      "“input string 'ESCUELA DE LOGISTICA-BOGOTÁ D.C.' cannot be translated to UTF-8, is it valid in 'CP1252'?”\n",
      "Warning message in load(\"saberpro.RData\"):\n",
      "“input string 'ESCUELA MILITAR DE CADETES GENERAL JOSE MARIA CORDOVA-BOGOTÁ D.C.' cannot be translated to UTF-8, is it valid in 'CP1252'?”\n",
      "Warning message in load(\"saberpro.RData\"):\n",
      "“input string 'ESCUELA SUPERIOR DE ADMINISTRACION PUBLICA-ESAP-BOGOTÁ D.C.' cannot be translated to UTF-8, is it valid in 'CP1252'?”\n",
      "Warning message in load(\"saberpro.RData\"):\n",
      "“input string 'ESCUELA TECNOLOGICA INSTITUTO TECNICO CENTRAL -BOGOTÁ D.C.' cannot be translated to UTF-8, is it valid in 'CP1252'?”\n",
      "Warning message in load(\"saberpro.RData\"):\n",
      "“input string 'FUNDACIÓN UNIVERSITARIA SAN ALFONSO- FUSA-BOGOTÁ D.C.' cannot be translated to UTF-8, is it valid in 'CP1252'?”\n",
      "Warning message in load(\"saberpro.RData\"):\n",
      "“input string 'FUNDACION DE EDUCACION SUPERIOR SAN JOSE -FESSANJOSE-BOGOTÁ D.C.' cannot be translated to UTF-8, is it valid in 'CP1252'?”\n",
      "Warning message in load(\"saberpro.RData\"):\n",
      "“input string 'FUNDACION ESCUELA COLOMBIANA DE REHABILITACION-BOGOTÁ D.C.' cannot be translated to UTF-8, is it valid in 'CP1252'?”\n",
      "Warning message in load(\"saberpro.RData\"):\n",
      "“input string 'FUNDACION PARA LA EDUCACION SUPERIOR SAN MATEO FUNDACION SAN MATEO-BOGOTÁ D.C.' cannot be translated to UTF-8, is it valid in 'CP1252'?”\n",
      "Warning message in load(\"saberpro.RData\"):\n",
      "“input string 'FUNDACION UNIVERSIDAD AUTONOMA DE COLOMBIA -FUAC--BOGOTÁ D.C.' cannot be translated to UTF-8, is it valid in 'CP1252'?”\n",
      "Warning message in load(\"saberpro.RData\"):\n",
      "“input string 'FUNDACION UNIVERSIDAD DE AMERICA-BOGOTÁ D.C.' cannot be translated to UTF-8, is it valid in 'CP1252'?”\n",
      "Warning message in load(\"saberpro.RData\"):\n",
      "“input string 'FUNDACION UNIVERSIDAD DE BOGOTAJORGE TADEO LOZANO-BOGOTÁ D.C.' cannot be translated to UTF-8, is it valid in 'CP1252'?”\n",
      "Warning message in load(\"saberpro.RData\"):\n",
      "“input string 'FUNDACION UNIVERSITARIA AGRARIA DE COLOMBIA -UNIAGRARIA-BOGOTÁ D.C.' cannot be translated to UTF-8, is it valid in 'CP1252'?”\n",
      "Warning message in load(\"saberpro.RData\"):\n",
      "“input string 'FUNDACION UNIVERSITARIA CAFAM-BOGOTÁ D.C.' cannot be translated to UTF-8, is it valid in 'CP1252'?”\n",
      "Warning message in load(\"saberpro.RData\"):\n",
      "“input string 'FUNDACION UNIVERSITARIA CERVANTINA SAN AGUSTIN - UNICERVANTINA SAN AGUSTIN-BOGOTÁ D.C.' cannot be translated to UTF-8, is it valid in 'CP1252'?”\n",
      "Warning message in load(\"saberpro.RData\"):\n",
      "“input string 'FUNDACION UNIVERSITARIA DE CIENCIAS DE LA SALUD-BOGOTÁ D.C.' cannot be translated to UTF-8, is it valid in 'CP1252'?”\n",
      "Warning message in load(\"saberpro.RData\"):\n",
      "“input string 'FUNDACION UNIVERSITARIA DEL AREA ANDINA-BOGOTÁ D.C.' cannot be translated to UTF-8, is it valid in 'CP1252'?”\n",
      "Warning message in load(\"saberpro.RData\"):\n",
      "“input string 'FUNDACION UNIVERSITARIA EMPRESARIAL DE LA CAMARA DE COMERCIO DE Bogotá -BOGOTÁ D.C.' cannot be translated to UTF-8, is it valid in 'CP1252'?”\n",
      "Warning message in load(\"saberpro.RData\"):\n",
      "“input string 'FUNDACION UNIVERSITARIA JUAN N. CORPAS-BOGOTÁ D.C.' cannot be translated to UTF-8, is it valid in 'CP1252'?”\n",
      "Warning message in load(\"saberpro.RData\"):\n",
      "“input string 'FUNDACION UNIVERSITARIA KONRAD LORENZ-BOGOTÁ D.C.' cannot be translated to UTF-8, is it valid in 'CP1252'?”\n",
      "Warning message in load(\"saberpro.RData\"):\n",
      "“input string 'FUNDACION UNIVERSITARIA LOS LIBERTADORES-BOGOTÁ D.C.' cannot be translated to UTF-8, is it valid in 'CP1252'?”\n",
      "Warning message in load(\"saberpro.RData\"):\n",
      "“input string 'FUNDACION UNIVERSITARIA MONSERRATE - UNIMONSERRATE-BOGOTÁ D.C.' cannot be translated to UTF-8, is it valid in 'CP1252'?”\n",
      "Warning message in load(\"saberpro.RData\"):\n",
      "“input string 'FUNDACION UNIVERSITARIA PARA EL DESARROLLO HUMANO - UNINPAHU-BOGOTÁ D.C.' cannot be translated to UTF-8, is it valid in 'CP1252'?”\n",
      "Warning message in load(\"saberpro.RData\"):\n",
      "“input string 'FUNDACION UNIVERSITARIA SAN MARTIN-BOGOTÁ D.C.' cannot be translated to UTF-8, is it valid in 'CP1252'?”\n",
      "Warning message in load(\"saberpro.RData\"):\n",
      "“input string 'FUNDACION UNIVERSITARIA SANITAS-BOGOTÁ D.C.' cannot be translated to UTF-8, is it valid in 'CP1252'?”\n",
      "Warning message in load(\"saberpro.RData\"):\n",
      "“input string 'IED ESCUELA NORMAL SUPERIOR MARÍA AUXILIADORA - SEDE PRINCIPAL-SANTA MARTA' cannot be translated to UTF-8, is it valid in 'CP1252'?”\n",
      "Warning message in load(\"saberpro.RData\"):\n",
      "“input string 'INSTITUCION UNIVERSITARIA COLEGIOS DE COLOMBIA -UNICOC-BOGOTÁ D.C.' cannot be translated to UTF-8, is it valid in 'CP1252'?”\n",
      "Warning message in load(\"saberpro.RData\"):\n",
      "“input string 'INSTITUCION UNIVERSITARIA COLOMBO AMERICANA - UNICA-BOGOTÁ D.C.' cannot be translated to UTF-8, is it valid in 'CP1252'?”\n",
      "Warning message in load(\"saberpro.RData\"):\n",
      "“input string 'INSTITUCION UNIVERSITARIA DE COLOMBIA - UNIVERSITARIA DE COLOMBIA-BOGOTÁ D.C.' cannot be translated to UTF-8, is it valid in 'CP1252'?”\n",
      "Warning message in load(\"saberpro.RData\"):\n",
      "“input string 'INSTITUCION UNIVERSITARIA LATINA - UNILATINA-BOGOTÁ D.C.' cannot be translated to UTF-8, is it valid in 'CP1252'?”\n",
      "Warning message in load(\"saberpro.RData\"):\n",
      "“input string 'POLITECNICO GRANCOLOMBIANO-BOGOTÁ D.C.' cannot be translated to UTF-8, is it valid in 'CP1252'?”\n",
      "Warning message in load(\"saberpro.RData\"):\n",
      "“input string 'PONTIFICIA UNIVERSIDAD JAVERIANA-BOGOTÁ D.C.' cannot be translated to UTF-8, is it valid in 'CP1252'?”\n",
      "Warning message in load(\"saberpro.RData\"):\n",
      "“input string 'UNIPANAMERICANA - FUNDACION UNIVERSITARIA PANAMERICANA-BOGOTÁ D.C.' cannot be translated to UTF-8, is it valid in 'CP1252'?”\n",
      "Warning message in load(\"saberpro.RData\"):\n",
      "“input string 'UNIVERSIDAD-COLEGIO MAYOR DE CUNDINAMARCA-BOGOTÁ D.C.' cannot be translated to UTF-8, is it valid in 'CP1252'?”\n",
      "Warning message in load(\"saberpro.RData\"):\n",
      "“input string 'UNIVERSIDAD ANTONIO NARIÑO-BOGOTÁ D.C.' cannot be translated to UTF-8, is it valid in 'CP1252'?”\n",
      "Warning message in load(\"saberpro.RData\"):\n",
      "“input string 'UNIVERSIDAD CATOLICA DE COLOMBIA-BOGOTÁ D.C.' cannot be translated to UTF-8, is it valid in 'CP1252'?”\n",
      "Warning message in load(\"saberpro.RData\"):\n",
      "“input string 'UNIVERSIDAD CENTRAL-BOGOTÁ D.C.' cannot be translated to UTF-8, is it valid in 'CP1252'?”\n",
      "Warning message in load(\"saberpro.RData\"):\n",
      "“input string 'UNIVERSIDAD COOPERATIVA DE COLOMBIA-BOGOTÁ D.C.' cannot be translated to UTF-8, is it valid in 'CP1252'?”\n",
      "Warning message in load(\"saberpro.RData\"):\n",
      "“input string 'UNIVERSIDAD DE CIENCIAS APLICADAS Y AMBIENTALES UDCA.-BOGOTÁ D.C.' cannot be translated to UTF-8, is it valid in 'CP1252'?”\n",
      "Warning message in load(\"saberpro.RData\"):\n",
      "“input string 'UNIVERSIDAD DE LA SALLE-BOGOTÁ D.C.' cannot be translated to UTF-8, is it valid in 'CP1252'?”\n",
      "Warning message in load(\"saberpro.RData\"):\n",
      "“input string 'UNIVERSIDAD DE LOS ANDES-BOGOTÁ D.C.' cannot be translated to UTF-8, is it valid in 'CP1252'?”\n",
      "Warning message in load(\"saberpro.RData\"):\n",
      "“input string 'UNIVERSIDAD DE SAN BUENAVENTURA-BOGOTÁ D.C.' cannot be translated to UTF-8, is it valid in 'CP1252'?”\n",
      "Warning message in load(\"saberpro.RData\"):\n",
      "“input string 'UNIVERSIDAD DISTRITALFRANCISCO JOSE DE CALDAS-BOGOTÁ D.C.' cannot be translated to UTF-8, is it valid in 'CP1252'?”\n",
      "Warning message in load(\"saberpro.RData\"):\n",
      "“input string 'UNIVERSIDAD EAN-BOGOTÁ D.C.' cannot be translated to UTF-8, is it valid in 'CP1252'?”\n",
      "Warning message in load(\"saberpro.RData\"):\n",
      "“input string 'UNIVERSIDAD ECCI-BOGOTÁ D.C.' cannot be translated to UTF-8, is it valid in 'CP1252'?”\n",
      "Warning message in load(\"saberpro.RData\"):\n",
      "“input string 'UNIVERSIDAD EL BOSQUE-BOGOTÁ D.C.' cannot be translated to UTF-8, is it valid in 'CP1252'?”\n",
      "Warning message in load(\"saberpro.RData\"):\n",
      "“input string 'UNIVERSIDAD EXTERNADO DE COLOMBIA-BOGOTÁ D.C.' cannot be translated to UTF-8, is it valid in 'CP1252'?”\n",
      "Warning message in load(\"saberpro.RData\"):\n",
      "“input string 'UNIVERSIDAD INCCA DE COLOMBIA-BOGOTÁ D.C.' cannot be translated to UTF-8, is it valid in 'CP1252'?”\n",
      "Warning message in load(\"saberpro.RData\"):\n",
      "“input string 'UNIVERSIDAD LA GRAN COLOMBIA-BOGOTÁ D.C.' cannot be translated to UTF-8, is it valid in 'CP1252'?”\n",
      "Warning message in load(\"saberpro.RData\"):\n",
      "“input string 'UNIVERSIDAD LIBRE-BOGOTÁ D.C.' cannot be translated to UTF-8, is it valid in 'CP1252'?”\n",
      "Warning message in load(\"saberpro.RData\"):\n",
      "“input string 'UNIVERSIDAD MANUELA BELTRAN-UMB--BOGOTÁ D.C.' cannot be translated to UTF-8, is it valid in 'CP1252'?”\n",
      "Warning message in load(\"saberpro.RData\"):\n",
      "“input string 'UNIVERSIDAD MILITARNUEVA GRANADA-BOGOTÁ D.C.' cannot be translated to UTF-8, is it valid in 'CP1252'?”\n",
      "Warning message in load(\"saberpro.RData\"):\n",
      "“input string 'UNIVERSIDAD NACIONAL ABIERTA Y A DISTANCIA UNAD-BOGOTÁ D.C.' cannot be translated to UTF-8, is it valid in 'CP1252'?”\n",
      "Warning message in load(\"saberpro.RData\"):\n",
      "“input string 'UNIVERSIDAD NACIONAL DE COLOMBIA-BOGOTÁ D.C.' cannot be translated to UTF-8, is it valid in 'CP1252'?”\n",
      "Warning message in load(\"saberpro.RData\"):\n",
      "“input string 'UNIVERSIDAD PEDAGOGICA NACIONAL-BOGOTÁ D.C.' cannot be translated to UTF-8, is it valid in 'CP1252'?”\n",
      "Warning message in load(\"saberpro.RData\"):\n",
      "“input string 'UNIVERSIDAD SANTO TOMAS-BOGOTÁ D.C.' cannot be translated to UTF-8, is it valid in 'CP1252'?”\n",
      "Warning message in load(\"saberpro.RData\"):\n",
      "“input string 'UNIVERSIDAD SERGIO ARBOLEDA-BOGOTÁ D.C.' cannot be translated to UTF-8, is it valid in 'CP1252'?”\n",
      "Warning message in load(\"saberpro.RData\"):\n",
      "“input string 'UNIVERSITARIA AGUSTINIANA- UNIAGUSTINIANA-BOGOTÁ D.C.' cannot be translated to UTF-8, is it valid in 'CP1252'?”\n",
      "Warning message in load(\"saberpro.RData\"):\n",
      "“input string 'UNIVERSITARIA VIRTUAL INTERNACIONAL-BOGOTÁ D.C.' cannot be translated to UTF-8, is it valid in 'CP1252'?”\n",
      "Warning message in load(\"saberpro.RData\"):\n",
      "“input string 'COLEGIO DE ESTUDIOS SUPERIORES DE ADMINISTRACION-CESA-BOGOTÃ D.C.' cannot be translated to UTF-8, is it valid in 'CP1252'?”\n",
      "Warning message in load(\"saberpro.RData\"):\n",
      "“input string 'COLEGIO MAYOR DE NUESTRA SEÃ‘ORA DEL ROSARIO-BOGOTÃ D.C.' cannot be translated to UTF-8, is it valid in 'CP1252'?”\n",
      "Warning message in load(\"saberpro.RData\"):\n",
      "“input string 'CORPORACION ESCUELA DE ARTES Y LETRAS-BOGOTÃ D.C.' cannot be translated to UTF-8, is it valid in 'CP1252'?”\n",
      "Warning message in load(\"saberpro.RData\"):\n",
      "“input string 'CORPORACION INTERNACIONAL PARA EL DESARROLLO EDUCATIVO -CIDE-BOGOTÃ D.C.' cannot be translated to UTF-8, is it valid in 'CP1252'?”\n",
      "Warning message in load(\"saberpro.RData\"):\n",
      "“input string 'CORPORACION TECNOLOGICA INDUSTRIAL COLOMBIANA - TEINCO-BOGOTÃ D.C.' cannot be translated to UTF-8, is it valid in 'CP1252'?”\n",
      "Warning message in load(\"saberpro.RData\"):\n",
      "“input string 'CORPORACION UNIFICADA NACIONAL DE EDUCACION SUPERIOR-CUN-BOGOTÃ D.C.' cannot be translated to UTF-8, is it valid in 'CP1252'?”\n",
      "Warning message in load(\"saberpro.RData\"):\n",
      "“input string 'CORPORACION UNIVERSIDAD PILOTO DE COLOMBIA-BOGOTÃ D.C.' cannot be translated to UTF-8, is it valid in 'CP1252'?”\n",
      "Warning message in load(\"saberpro.RData\"):\n",
      "“input string 'CORPORACION UNIVERSITARIA  UNITEC-BOGOTÃ D.C.' cannot be translated to UTF-8, is it valid in 'CP1252'?”\n",
      "Warning message in load(\"saberpro.RData\"):\n",
      "“input string 'CORPORACION UNIVERSITARIA CENDA-BOGOTÃ D.C.' cannot be translated to UTF-8, is it valid in 'CP1252'?”\n",
      "Warning message in load(\"saberpro.RData\"):\n",
      "“input string 'CORPORACION UNIVERSITARIA DE ASTURIAS-BOGOTÃ D.C.' cannot be translated to UTF-8, is it valid in 'CP1252'?”\n",
      "Warning message in load(\"saberpro.RData\"):\n",
      "“input string 'CORPORACION UNIVERSITARIA DE CIENCIA Y DESARROLLO - UNICIENCIA-BOGOTÃ D.C.' cannot be translated to UTF-8, is it valid in 'CP1252'?”\n",
      "Warning message in load(\"saberpro.RData\"):\n",
      "“input string 'CORPORACION UNIVERSITARIA DE COLOMBIA IDEAS-BOGOTÃ D.C.' cannot be translated to UTF-8, is it valid in 'CP1252'?”\n",
      "Warning message in load(\"saberpro.RData\"):\n",
      "“input string 'CORPORACION UNIVERSITARIA IBEROAMERICANA-BOGOTÃ D.C.' cannot be translated to UTF-8, is it valid in 'CP1252'?”\n",
      "Warning message in load(\"saberpro.RData\"):\n",
      "“input string 'CORPORACION UNIVERSITARIA MINUTO DE DIOS -UNIMINUTO-BOGOTÃ D.C.' cannot be translated to UTF-8, is it valid in 'CP1252'?”\n",
      "Warning message in load(\"saberpro.RData\"):\n",
      "“input string 'CORPORACION UNIVERSITARIA REPUBLICANA-BOGOTÃ D.C.' cannot be translated to UTF-8, is it valid in 'CP1252'?”\n",
      "Warning message in load(\"saberpro.RData\"):\n",
      "“input string 'CORPORACION UNIVERSITARIA TALLER CINCO CENTRO DE DISEÃ‘O-BOGOTÃ D.C.' cannot be translated to UTF-8, is it valid in 'CP1252'?”\n",
      "Warning message in load(\"saberpro.RData\"):\n",
      "“input string 'DIRECCION NACIONAL DE ESCUELAS-BOGOTÃ D.C.' cannot be translated to UTF-8, is it valid in 'CP1252'?”\n",
      "Warning message in load(\"saberpro.RData\"):\n",
      "“input string 'ESCUELA COLOMBIANA DE INGENIERIAJULIO GARAVITO-BOGOTÃ D.C.' cannot be translated to UTF-8, is it valid in 'CP1252'?”\n",
      "Warning message in load(\"saberpro.RData\"):\n",
      "“input string 'ESCUELA DE INGENIEROS MILITARES-BOGOTÃ D.C.' cannot be translated to UTF-8, is it valid in 'CP1252'?”\n",
      "Warning message in load(\"saberpro.RData\"):\n",
      "“input string 'ESCUELA DE INTELIGENCIA Y CONTRAINTELIGENCIA BRIGADIER GENERAL RICARDO CHARRY SOLANO-BOGOTÃ D.C.' cannot be translated to UTF-8, is it valid in 'CP1252'?”\n",
      "Warning message in load(\"saberpro.RData\"):\n",
      "“input string 'ESCUELA DE LOGISTICA-BOGOTÃ D.C.' cannot be translated to UTF-8, is it valid in 'CP1252'?”\n",
      "Warning message in load(\"saberpro.RData\"):\n",
      "“input string 'ESCUELA MILITAR DE CADETES GENERAL JOSE MARIA CORDOVA-BOGOTÃ D.C.' cannot be translated to UTF-8, is it valid in 'CP1252'?”\n",
      "Warning message in load(\"saberpro.RData\"):\n",
      "“input string 'ESCUELA SUPERIOR DE ADMINISTRACION PUBLICA-ESAP-BOGOTÃ D.C.' cannot be translated to UTF-8, is it valid in 'CP1252'?”\n",
      "Warning message in load(\"saberpro.RData\"):\n",
      "“input string 'ESCUELA TECNOLOGICA INSTITUTO TECNICO CENTRAL -BOGOTÃ D.C.' cannot be translated to UTF-8, is it valid in 'CP1252'?”\n",
      "Warning message in load(\"saberpro.RData\"):\n",
      "“input string 'FUNDACIÃ“N UNIVERSITARIA SAN ALFONSO- FUSA-BOGOTÃ D.C.' cannot be translated to UTF-8, is it valid in 'CP1252'?”\n",
      "Warning message in load(\"saberpro.RData\"):\n",
      "“input string 'FUNDACION DE EDUCACION SUPERIOR SAN JOSE -FESSANJOSE-BOGOTÃ D.C.' cannot be translated to UTF-8, is it valid in 'CP1252'?”\n",
      "Warning message in load(\"saberpro.RData\"):\n",
      "“input string 'FUNDACION ESCUELA COLOMBIANA DE REHABILITACION-BOGOTÃ D.C.' cannot be translated to UTF-8, is it valid in 'CP1252'?”\n",
      "Warning message in load(\"saberpro.RData\"):\n",
      "“input string 'FUNDACION PARA LA EDUCACION SUPERIOR SAN MATEO FUNDACION SAN MATEO-BOGOTÃ D.C.' cannot be translated to UTF-8, is it valid in 'CP1252'?”\n",
      "Warning message in load(\"saberpro.RData\"):\n",
      "“input string 'FUNDACION UNIVERSIDAD AUTONOMA DE COLOMBIA -FUAC--BOGOTÃ D.C.' cannot be translated to UTF-8, is it valid in 'CP1252'?”\n",
      "Warning message in load(\"saberpro.RData\"):\n",
      "“input string 'FUNDACION UNIVERSIDAD DE AMERICA-BOGOTÃ D.C.' cannot be translated to UTF-8, is it valid in 'CP1252'?”\n",
      "Warning message in load(\"saberpro.RData\"):\n",
      "“input string 'FUNDACION UNIVERSIDAD DE BOGOTAJORGE TADEO LOZANO-BOGOTÃ D.C.' cannot be translated to UTF-8, is it valid in 'CP1252'?”\n",
      "Warning message in load(\"saberpro.RData\"):\n",
      "“input string 'FUNDACION UNIVERSITARIA AGRARIA DE COLOMBIA -UNIAGRARIA-BOGOTÃ D.C.' cannot be translated to UTF-8, is it valid in 'CP1252'?”\n",
      "Warning message in load(\"saberpro.RData\"):\n",
      "“input string 'FUNDACION UNIVERSITARIA CAFAM-BOGOTÃ D.C.' cannot be translated to UTF-8, is it valid in 'CP1252'?”\n",
      "Warning message in load(\"saberpro.RData\"):\n",
      "“input string 'FUNDACION UNIVERSITARIA CERVANTINA SAN AGUSTIN - UNICERVANTINA SAN AGUSTIN-BOGOTÃ D.C.' cannot be translated to UTF-8, is it valid in 'CP1252'?”\n",
      "Warning message in load(\"saberpro.RData\"):\n",
      "“input string 'FUNDACION UNIVERSITARIA DE CIENCIAS DE LA SALUD-BOGOTÃ D.C.' cannot be translated to UTF-8, is it valid in 'CP1252'?”\n",
      "Warning message in load(\"saberpro.RData\"):\n",
      "“input string 'FUNDACION UNIVERSITARIA DEL AREA ANDINA-BOGOTÃ D.C.' cannot be translated to UTF-8, is it valid in 'CP1252'?”\n",
      "Warning message in load(\"saberpro.RData\"):\n",
      "“input string 'FUNDACION UNIVERSITARIA EMPRESARIAL DE LA CAMARA DE COMERCIO DE BogotÃ¡ -BOGOTÃ D.C.' cannot be translated to UTF-8, is it valid in 'CP1252'?”\n",
      "Warning message in load(\"saberpro.RData\"):\n",
      "“input string 'FUNDACION UNIVERSITARIA HORIZONTE-BOGOTÃ D.C.' cannot be translated to UTF-8, is it valid in 'CP1252'?”\n",
      "Warning message in load(\"saberpro.RData\"):\n",
      "“input string 'FUNDACION UNIVERSITARIA JUAN N. CORPAS-BOGOTÃ D.C.' cannot be translated to UTF-8, is it valid in 'CP1252'?”\n",
      "Warning message in load(\"saberpro.RData\"):\n",
      "“input string 'FUNDACION UNIVERSITARIA KONRAD LORENZ-BOGOTÃ D.C.' cannot be translated to UTF-8, is it valid in 'CP1252'?”\n",
      "Warning message in load(\"saberpro.RData\"):\n",
      "“input string 'FUNDACION UNIVERSITARIA LOS LIBERTADORES-BOGOTÃ D.C.' cannot be translated to UTF-8, is it valid in 'CP1252'?”\n",
      "Warning message in load(\"saberpro.RData\"):\n",
      "“input string 'FUNDACION UNIVERSITARIA MONSERRATE - UNIMONSERRATE-BOGOTÃ D.C.' cannot be translated to UTF-8, is it valid in 'CP1252'?”\n",
      "Warning message in load(\"saberpro.RData\"):\n",
      "“input string 'FUNDACION UNIVERSITARIA PARA EL DESARROLLO HUMANO - UNINPAHU-BOGOTÃ D.C.' cannot be translated to UTF-8, is it valid in 'CP1252'?”\n",
      "Warning message in load(\"saberpro.RData\"):\n",
      "“input string 'FUNDACION UNIVERSITARIA SAN MARTIN-BOGOTÃ D.C.' cannot be translated to UTF-8, is it valid in 'CP1252'?”\n",
      "Warning message in load(\"saberpro.RData\"):\n",
      "“input string 'FUNDACION UNIVERSITARIA SANITAS-BOGOTÃ D.C.' cannot be translated to UTF-8, is it valid in 'CP1252'?”\n",
      "Warning message in load(\"saberpro.RData\"):\n",
      "“input string 'INSTITUCION UNIVERSITARIA COLEGIOS DE COLOMBIA -UNICOC-BOGOTÃ D.C.' cannot be translated to UTF-8, is it valid in 'CP1252'?”\n",
      "Warning message in load(\"saberpro.RData\"):\n",
      "“input string 'INSTITUCION UNIVERSITARIA COLOMBO AMERICANA - UNICA-BOGOTÃ D.C.' cannot be translated to UTF-8, is it valid in 'CP1252'?”\n",
      "Warning message in load(\"saberpro.RData\"):\n",
      "“input string 'INSTITUCION UNIVERSITARIA DE COLOMBIA - UNIVERSITARIA DE COLOMBIA-BOGOTÃ D.C.' cannot be translated to UTF-8, is it valid in 'CP1252'?”\n",
      "Warning message in load(\"saberpro.RData\"):\n",
      "“input string 'INSTITUCION UNIVERSITARIA LATINA - UNILATINA-BOGOTÃ D.C.' cannot be translated to UTF-8, is it valid in 'CP1252'?”\n",
      "Warning message in load(\"saberpro.RData\"):\n",
      "“input string 'INSTITUTO SUPERIOR DE CIENCIAS SOCIALES Y ECONOMICO FAMILIARES-ICSEF-BOGOTÃ D.C.' cannot be translated to UTF-8, is it valid in 'CP1252'?”\n",
      "Warning message in load(\"saberpro.RData\"):\n",
      "“input string 'POLITECNICO GRANCOLOMBIANO-BOGOTÃ D.C.' cannot be translated to UTF-8, is it valid in 'CP1252'?”\n",
      "Warning message in load(\"saberpro.RData\"):\n",
      "“input string 'PONTIFICIA UNIVERSIDAD JAVERIANA-BOGOTÃ D.C.' cannot be translated to UTF-8, is it valid in 'CP1252'?”\n",
      "Warning message in load(\"saberpro.RData\"):\n",
      "“input string 'UNIPANAMERICANA - FUNDACION UNIVERSITARIA PANAMERICANA-BOGOTÃ D.C.' cannot be translated to UTF-8, is it valid in 'CP1252'?”\n",
      "Warning message in load(\"saberpro.RData\"):\n",
      "“input string 'UNIVERSIDAD-COLEGIO MAYOR DE CUNDINAMARCA-BOGOTÃ D.C.' cannot be translated to UTF-8, is it valid in 'CP1252'?”\n",
      "Warning message in load(\"saberpro.RData\"):\n",
      "“input string 'UNIVERSIDAD ANTONIO NARIÃ‘O-BOGOTÃ D.C.' cannot be translated to UTF-8, is it valid in 'CP1252'?”\n",
      "Warning message in load(\"saberpro.RData\"):\n",
      "“input string 'UNIVERSIDAD CATOLICA DE COLOMBIA-BOGOTÃ D.C.' cannot be translated to UTF-8, is it valid in 'CP1252'?”\n",
      "Warning message in load(\"saberpro.RData\"):\n",
      "“input string 'UNIVERSIDAD CENTRAL-BOGOTÃ D.C.' cannot be translated to UTF-8, is it valid in 'CP1252'?”\n",
      "Warning message in load(\"saberpro.RData\"):\n",
      "“input string 'UNIVERSIDAD COOPERATIVA DE COLOMBIA-BOGOTÃ D.C.' cannot be translated to UTF-8, is it valid in 'CP1252'?”\n",
      "Warning message in load(\"saberpro.RData\"):\n",
      "“input string 'UNIVERSIDAD DE CIENCIAS APLICADAS Y AMBIENTALES UDCA.-BOGOTÃ D.C.' cannot be translated to UTF-8, is it valid in 'CP1252'?”\n",
      "Warning message in load(\"saberpro.RData\"):\n",
      "“input string 'UNIVERSIDAD DE LA SALLE-BOGOTÃ D.C.' cannot be translated to UTF-8, is it valid in 'CP1252'?”\n",
      "Warning message in load(\"saberpro.RData\"):\n",
      "“input string 'UNIVERSIDAD DE LOS ANDES-BOGOTÃ D.C.' cannot be translated to UTF-8, is it valid in 'CP1252'?”\n",
      "Warning message in load(\"saberpro.RData\"):\n",
      "“input string 'UNIVERSIDAD DE SAN BUENAVENTURA-BOGOTÃ D.C.' cannot be translated to UTF-8, is it valid in 'CP1252'?”\n",
      "Warning message in load(\"saberpro.RData\"):\n",
      "“input string 'UNIVERSIDAD DISTRITALFRANCISCO JOSE DE CALDAS-BOGOTÃ D.C.' cannot be translated to UTF-8, is it valid in 'CP1252'?”\n",
      "Warning message in load(\"saberpro.RData\"):\n",
      "“input string 'UNIVERSIDAD EAN-BOGOTÃ D.C.' cannot be translated to UTF-8, is it valid in 'CP1252'?”\n",
      "Warning message in load(\"saberpro.RData\"):\n",
      "“input string 'UNIVERSIDAD ECCI-BOGOTÃ D.C.' cannot be translated to UTF-8, is it valid in 'CP1252'?”\n",
      "Warning message in load(\"saberpro.RData\"):\n",
      "“input string 'UNIVERSIDAD EL BOSQUE-BOGOTÃ D.C.' cannot be translated to UTF-8, is it valid in 'CP1252'?”\n",
      "Warning message in load(\"saberpro.RData\"):\n",
      "“input string 'UNIVERSIDAD EXTERNADO DE COLOMBIA-BOGOTÃ D.C.' cannot be translated to UTF-8, is it valid in 'CP1252'?”\n",
      "Warning message in load(\"saberpro.RData\"):\n",
      "“input string 'UNIVERSIDAD INCCA DE COLOMBIA-BOGOTÃ D.C.' cannot be translated to UTF-8, is it valid in 'CP1252'?”\n",
      "Warning message in load(\"saberpro.RData\"):\n",
      "“input string 'UNIVERSIDAD LA GRAN COLOMBIA-BOGOTÃ D.C.' cannot be translated to UTF-8, is it valid in 'CP1252'?”\n",
      "Warning message in load(\"saberpro.RData\"):\n",
      "“input string 'UNIVERSIDAD LIBRE-BOGOTÃ D.C.' cannot be translated to UTF-8, is it valid in 'CP1252'?”\n",
      "Warning message in load(\"saberpro.RData\"):\n",
      "“input string 'UNIVERSIDAD MANUELA BELTRAN-UMB--BOGOTÃ D.C.' cannot be translated to UTF-8, is it valid in 'CP1252'?”\n",
      "Warning message in load(\"saberpro.RData\"):\n",
      "“input string 'UNIVERSIDAD MILITARNUEVA GRANADA-BOGOTÃ D.C.' cannot be translated to UTF-8, is it valid in 'CP1252'?”\n",
      "Warning message in load(\"saberpro.RData\"):\n",
      "“input string 'UNIVERSIDAD NACIONAL ABIERTA Y A DISTANCIA UNAD-BOGOTÃ D.C.' cannot be translated to UTF-8, is it valid in 'CP1252'?”\n",
      "Warning message in load(\"saberpro.RData\"):\n",
      "“input string 'UNIVERSIDAD NACIONAL DE COLOMBIA-BOGOTÃ D.C.' cannot be translated to UTF-8, is it valid in 'CP1252'?”\n",
      "Warning message in load(\"saberpro.RData\"):\n",
      "“input string 'UNIVERSIDAD PEDAGOGICA NACIONAL-BOGOTÃ D.C.' cannot be translated to UTF-8, is it valid in 'CP1252'?”\n",
      "Warning message in load(\"saberpro.RData\"):\n",
      "“input string 'UNIVERSIDAD SANTO TOMAS-BOGOTÃ D.C.' cannot be translated to UTF-8, is it valid in 'CP1252'?”\n",
      "Warning message in load(\"saberpro.RData\"):\n",
      "“input string 'UNIVERSIDAD SERGIO ARBOLEDA-BOGOTÃ D.C.' cannot be translated to UTF-8, is it valid in 'CP1252'?”\n",
      "Warning message in load(\"saberpro.RData\"):\n",
      "“input string 'UNIVERSITARIA AGUSTINIANA- UNIAGUSTINIANA-BOGOTÃ D.C.' cannot be translated to UTF-8, is it valid in 'CP1252'?”\n",
      "Warning message in load(\"saberpro.RData\"):\n",
      "“input string 'UNIVERSITARIA VIRTUAL INTERNACIONAL-BOGOTÃ D.C.' cannot be translated to UTF-8, is it valid in 'CP1252'?”\n",
      "Warning message in load(\"saberpro.RData\"):\n",
      "“input string 'ELITE- ESCUELA LATINOAMERICANA DE INGENIEROS, TECNOLOGOS Y EMPRESARIOS-BOGOTÃ D.C.' cannot be translated to UTF-8, is it valid in 'CP1252'?”\n",
      "Warning message in load(\"saberpro.RData\"):\n",
      "“input string 'ESCUELA COLOMBIANA DE INGENIERIA\"JULIO GARAVITO\"-BOGOTÃ D.C.' cannot be translated to UTF-8, is it valid in 'CP1252'?”\n",
      "Warning message in load(\"saberpro.RData\"):\n",
      "“input string 'ESCUELA MILITAR DE CADETES \"GENERAL JOSE MARIA CORDOVA\"-BOGOTÃ D.C.' cannot be translated to UTF-8, is it valid in 'CP1252'?”\n",
      "Warning message in load(\"saberpro.RData\"):\n",
      "“input string 'FUNDACION CENTRO DE EDUCACION SUPERIOR,INVESTIGACION Y PROFESIONALIZACION -CEDINPRO-BOGOTÃ D.C.' cannot be translated to UTF-8, is it valid in 'CP1252'?”\n",
      "Warning message in load(\"saberpro.RData\"):\n",
      "“input string 'FUNDACION PARA LA EDUCACION SUPERIOR SAN MATEO \"FUNDACION SAN MATEO\"-BOGOTÃ D.C.' cannot be translated to UTF-8, is it valid in 'CP1252'?”\n",
      "Warning message in load(\"saberpro.RData\"):\n",
      "“input string 'FUNDACION UNIVERSIDAD DE BOGOTA\"JORGE TADEO LOZANO\"-BOGOTÃ D.C.' cannot be translated to UTF-8, is it valid in 'CP1252'?”\n",
      "Warning message in load(\"saberpro.RData\"):\n",
      "“input string 'UNIVERSIDAD DISTRITAL\"FRANCISCO JOSE DE CALDAS\"-BOGOTÃ D.C.' cannot be translated to UTF-8, is it valid in 'CP1252'?”\n",
      "Warning message in load(\"saberpro.RData\"):\n",
      "“input string 'UNIVERSIDAD MILITAR\"NUEVA GRANADA\"-BOGOTÃ D.C.' cannot be translated to UTF-8, is it valid in 'CP1252'?”\n"
     ]
    }
   ],
   "source": [
    "saberpro<-get(load(\"saberpro.RData\"))\n",
    "#saberpro<-(load(url(\"https://www.dropbox.com/s/xgsf3l5gjw0h0q4/saberpro.RData?dl=1\")))\n",
    "#head(saberpro) #Cargamos los datos en una variable llamada \"saberpro\" e imprimimos los 6 primeros datos."
   ]
  },
  {
   "cell_type": "code",
   "execution_count": 4,
   "metadata": {},
   "outputs": [
    {
     "data": {
      "text/html": [
       "<style>\n",
       ".list-inline {list-style: none; margin:0; padding: 0}\n",
       ".list-inline>li {display: inline-block}\n",
       ".list-inline>li:not(:last-child)::after {content: \"\\00b7\"; padding: 0 .5ex}\n",
       "</style>\n",
       "<ol class=list-inline><li>725295</li><li>16</li></ol>\n"
      ],
      "text/latex": [
       "\\begin{enumerate*}\n",
       "\\item 725295\n",
       "\\item 16\n",
       "\\end{enumerate*}\n"
      ],
      "text/markdown": [
       "1. 725295\n",
       "2. 16\n",
       "\n",
       "\n"
      ],
      "text/plain": [
       "[1] 725295     16"
      ]
     },
     "metadata": {},
     "output_type": "display_data"
    }
   ],
   "source": [
    "dim(saberpro) #Cantidad de columnas y filas del dataframe"
   ]
  },
  {
   "cell_type": "markdown",
   "metadata": {},
   "source": [
    "## Arreglo de la Variable Periodo "
   ]
  },
  {
   "cell_type": "code",
   "execution_count": 5,
   "metadata": {},
   "outputs": [
    {
     "data": {
      "text/html": [
       "<style>\n",
       ".list-inline {list-style: none; margin:0; padding: 0}\n",
       ".list-inline>li {display: inline-block}\n",
       ".list-inline>li:not(:last-child)::after {content: \"\\00b7\"; padding: 0 .5ex}\n",
       "</style>\n",
       "<ol class=list-inline><li>20163</li><li>20162</li><li>20173</li><li>20172</li><li>20183</li><li>20182</li><li>20184</li></ol>\n"
      ],
      "text/latex": [
       "\\begin{enumerate*}\n",
       "\\item 20163\n",
       "\\item 20162\n",
       "\\item 20173\n",
       "\\item 20172\n",
       "\\item 20183\n",
       "\\item 20182\n",
       "\\item 20184\n",
       "\\end{enumerate*}\n"
      ],
      "text/markdown": [
       "1. 20163\n",
       "2. 20162\n",
       "3. 20173\n",
       "4. 20172\n",
       "5. 20183\n",
       "6. 20182\n",
       "7. 20184\n",
       "\n",
       "\n"
      ],
      "text/plain": [
       "[1] 20163 20162 20173 20172 20183 20182 20184"
      ]
     },
     "metadata": {},
     "output_type": "display_data"
    }
   ],
   "source": [
    "unique(saberpro[,1])"
   ]
  },
  {
   "cell_type": "markdown",
   "metadata": {},
   "source": [
    "Encontramos los valores unicos, para ver las diferentes unidades sin repetición de la variable periodo. Podemos deducir que los años que pueden estar en el dataset son 2016, 2017, 2018. Las unidades contenidas en la variable periodo tienen un número extra final en cada unidad, por ejemplo el 2016, tienen un valor 20162 en la variable. Para arreglar este error, se sugiere el uso de la función \"ravalue\" la cual recibe como parámetro un vector el cual desea ser cambiado, su segundo parámetro es vector de caracteres con nombre, con valores nuevos como valores y valores antiguos como nombres. Y como último parámetro tiene un warning que será mostrado en el caso de que un valor que se desea reemplazar del segundo parámetro no se encuentra contenido en el primero.\n",
    "\n",
    "El función revalue funciona de forma sencilla e intuitiva, recibe un vector con valores que queremos cambiar, luego le pasamos un vector mencionando que valores queremos cambiar y porqué valores cambiarlos.\n",
    " \n",
    "Sin embargo esta función no nos va servir, porque sus parámetros deben ser de tipo fct, o character, es por esto que usaremos una función similar llamada mapvalues, que toma 3 parámetros, el primero es el vector que queremos cambiar, el segundo los valores dentro del vector que vamos a cambiar, y el tercero un vector con los valores que se reemplazaran en el orden respectivo del segundo parámetro.\n"
   ]
  },
  {
   "cell_type": "code",
   "execution_count": 6,
   "metadata": {},
   "outputs": [],
   "source": [
    "saberpro[,1]<- mapvalues(saberpro[,1],from=c(20163,20162),to=c(2016,2016))\n",
    "saberpro[,1]<- mapvalues(saberpro[,1],from=c(20173,20172),to=c(2017,2017))\n",
    "saberpro[,1]<- mapvalues(saberpro[,1],from=c(20183,20182,20184),to=c(2018,2018,2018))"
   ]
  },
  {
   "cell_type": "code",
   "execution_count": 7,
   "metadata": {},
   "outputs": [
    {
     "data": {
      "text/html": [
       "<style>\n",
       ".list-inline {list-style: none; margin:0; padding: 0}\n",
       ".list-inline>li {display: inline-block}\n",
       ".list-inline>li:not(:last-child)::after {content: \"\\00b7\"; padding: 0 .5ex}\n",
       "</style>\n",
       "<ol class=list-inline><li>2016</li><li>2017</li><li>2018</li></ol>\n"
      ],
      "text/latex": [
       "\\begin{enumerate*}\n",
       "\\item 2016\n",
       "\\item 2017\n",
       "\\item 2018\n",
       "\\end{enumerate*}\n"
      ],
      "text/markdown": [
       "1. 2016\n",
       "2. 2017\n",
       "3. 2018\n",
       "\n",
       "\n"
      ],
      "text/plain": [
       "[1] 2016 2017 2018"
      ]
     },
     "metadata": {},
     "output_type": "display_data"
    }
   ],
   "source": [
    "unique(saberpro[,1]) # Comprobamos que haya funcionado"
   ]
  },
  {
   "cell_type": "markdown",
   "metadata": {},
   "source": [
    "## Arreglo de la Variable Departamento usando revalue"
   ]
  },
  {
   "cell_type": "code",
   "execution_count": 8,
   "metadata": {},
   "outputs": [
    {
     "data": {
      "text/html": [
       "<style>\n",
       ".list-inline {list-style: none; margin:0; padding: 0}\n",
       ".list-inline>li {display: inline-block}\n",
       ".list-inline>li:not(:last-child)::after {content: \"\\00b7\"; padding: 0 .5ex}\n",
       "</style>\n",
       "<ol class=list-inline><li>ATLANTICO</li><li>CUNDINAMARCA</li><li>CALDAS</li><li>MAGDALENA</li><li>CORDOBA</li><li>CAUCA</li><li>BOGOTA</li><li>ANTIOQUIA</li><li>META</li><li>CESAR</li><li>VALLE</li><li>TOLIMA</li><li>BOYACA</li><li>SANTANDER</li><li>BOLIVAR</li><li></li><li>HUILA</li><li>NORTE SANTANDER</li><li>SUCRE</li><li>QUINDIO</li><li>VAUPES</li><li>RISARALDA</li><li>NARIÑO</li><li>CAQUETA</li><li>CASANARE</li><li>CHOCO</li><li>PUTUMAYO</li><li>LA GUAJIRA</li><li>GUAVIARE</li><li>ARAUCA</li><li>SAN ANDRES</li><li>VICHADA</li><li>AMAZONAS</li><li>EXTRANJERO</li><li>GUAINIA</li></ol>\n",
       "\n",
       "<details>\n",
       "\t<summary style=display:list-item;cursor:pointer>\n",
       "\t\t<strong>Levels</strong>:\n",
       "\t</summary>\n",
       "\t<style>\n",
       "\t.list-inline {list-style: none; margin:0; padding: 0}\n",
       "\t.list-inline>li {display: inline-block}\n",
       "\t.list-inline>li:not(:last-child)::after {content: \"\\00b7\"; padding: 0 .5ex}\n",
       "\t</style>\n",
       "\t<ol class=list-inline><li>''</li><li>'AMAZONAS'</li><li>'ANTIOQUIA'</li><li>'ARAUCA'</li><li>'ATLANTICO'</li><li>'BOGOTA'</li><li>'BOLIVAR'</li><li>'BOYACA'</li><li>'CALDAS'</li><li>'CAQUETA'</li><li>'CASANARE'</li><li>'CAUCA'</li><li>'CESAR'</li><li>'CHOCO'</li><li>'CORDOBA'</li><li>'CUNDINAMARCA'</li><li>'EXTRANJERO'</li><li>'GUAINIA'</li><li>'GUAVIARE'</li><li>'HUILA'</li><li>'LA GUAJIRA'</li><li>'MAGDALENA'</li><li>'META'</li><li>'NARIÑO'</li><li>'NORTE SANTANDER'</li><li>'PUTUMAYO'</li><li>'QUINDIO'</li><li>'RISARALDA'</li><li>'SAN ANDRES'</li><li>'SANTANDER'</li><li>'SUCRE'</li><li>'TOLIMA'</li><li>'VALLE'</li><li>'VAUPES'</li><li>'VICHADA'</li></ol>\n",
       "</details>"
      ],
      "text/latex": [
       "\\begin{enumerate*}\n",
       "\\item ATLANTICO\n",
       "\\item CUNDINAMARCA\n",
       "\\item CALDAS\n",
       "\\item MAGDALENA\n",
       "\\item CORDOBA\n",
       "\\item CAUCA\n",
       "\\item BOGOTA\n",
       "\\item ANTIOQUIA\n",
       "\\item META\n",
       "\\item CESAR\n",
       "\\item VALLE\n",
       "\\item TOLIMA\n",
       "\\item BOYACA\n",
       "\\item SANTANDER\n",
       "\\item BOLIVAR\n",
       "\\item \n",
       "\\item HUILA\n",
       "\\item NORTE SANTANDER\n",
       "\\item SUCRE\n",
       "\\item QUINDIO\n",
       "\\item VAUPES\n",
       "\\item RISARALDA\n",
       "\\item NARIÑO\n",
       "\\item CAQUETA\n",
       "\\item CASANARE\n",
       "\\item CHOCO\n",
       "\\item PUTUMAYO\n",
       "\\item LA GUAJIRA\n",
       "\\item GUAVIARE\n",
       "\\item ARAUCA\n",
       "\\item SAN ANDRES\n",
       "\\item VICHADA\n",
       "\\item AMAZONAS\n",
       "\\item EXTRANJERO\n",
       "\\item GUAINIA\n",
       "\\end{enumerate*}\n",
       "\n",
       "\\emph{Levels}: \\begin{enumerate*}\n",
       "\\item ''\n",
       "\\item 'AMAZONAS'\n",
       "\\item 'ANTIOQUIA'\n",
       "\\item 'ARAUCA'\n",
       "\\item 'ATLANTICO'\n",
       "\\item 'BOGOTA'\n",
       "\\item 'BOLIVAR'\n",
       "\\item 'BOYACA'\n",
       "\\item 'CALDAS'\n",
       "\\item 'CAQUETA'\n",
       "\\item 'CASANARE'\n",
       "\\item 'CAUCA'\n",
       "\\item 'CESAR'\n",
       "\\item 'CHOCO'\n",
       "\\item 'CORDOBA'\n",
       "\\item 'CUNDINAMARCA'\n",
       "\\item 'EXTRANJERO'\n",
       "\\item 'GUAINIA'\n",
       "\\item 'GUAVIARE'\n",
       "\\item 'HUILA'\n",
       "\\item 'LA GUAJIRA'\n",
       "\\item 'MAGDALENA'\n",
       "\\item 'META'\n",
       "\\item 'NARIÑO'\n",
       "\\item 'NORTE SANTANDER'\n",
       "\\item 'PUTUMAYO'\n",
       "\\item 'QUINDIO'\n",
       "\\item 'RISARALDA'\n",
       "\\item 'SAN ANDRES'\n",
       "\\item 'SANTANDER'\n",
       "\\item 'SUCRE'\n",
       "\\item 'TOLIMA'\n",
       "\\item 'VALLE'\n",
       "\\item 'VAUPES'\n",
       "\\item 'VICHADA'\n",
       "\\end{enumerate*}\n"
      ],
      "text/markdown": [
       "1. ATLANTICO\n",
       "2. CUNDINAMARCA\n",
       "3. CALDAS\n",
       "4. MAGDALENA\n",
       "5. CORDOBA\n",
       "6. CAUCA\n",
       "7. BOGOTA\n",
       "8. ANTIOQUIA\n",
       "9. META\n",
       "10. CESAR\n",
       "11. VALLE\n",
       "12. TOLIMA\n",
       "13. BOYACA\n",
       "14. SANTANDER\n",
       "15. BOLIVAR\n",
       "16. \n",
       "17. HUILA\n",
       "18. NORTE SANTANDER\n",
       "19. SUCRE\n",
       "20. QUINDIO\n",
       "21. VAUPES\n",
       "22. RISARALDA\n",
       "23. NARIÑO\n",
       "24. CAQUETA\n",
       "25. CASANARE\n",
       "26. CHOCO\n",
       "27. PUTUMAYO\n",
       "28. LA GUAJIRA\n",
       "29. GUAVIARE\n",
       "30. ARAUCA\n",
       "31. SAN ANDRES\n",
       "32. VICHADA\n",
       "33. AMAZONAS\n",
       "34. EXTRANJERO\n",
       "35. GUAINIA\n",
       "\n",
       "\n",
       "\n",
       "**Levels**: 1. ''\n",
       "2. 'AMAZONAS'\n",
       "3. 'ANTIOQUIA'\n",
       "4. 'ARAUCA'\n",
       "5. 'ATLANTICO'\n",
       "6. 'BOGOTA'\n",
       "7. 'BOLIVAR'\n",
       "8. 'BOYACA'\n",
       "9. 'CALDAS'\n",
       "10. 'CAQUETA'\n",
       "11. 'CASANARE'\n",
       "12. 'CAUCA'\n",
       "13. 'CESAR'\n",
       "14. 'CHOCO'\n",
       "15. 'CORDOBA'\n",
       "16. 'CUNDINAMARCA'\n",
       "17. 'EXTRANJERO'\n",
       "18. 'GUAINIA'\n",
       "19. 'GUAVIARE'\n",
       "20. 'HUILA'\n",
       "21. 'LA GUAJIRA'\n",
       "22. 'MAGDALENA'\n",
       "23. 'META'\n",
       "24. 'NARIÑO'\n",
       "25. 'NORTE SANTANDER'\n",
       "26. 'PUTUMAYO'\n",
       "27. 'QUINDIO'\n",
       "28. 'RISARALDA'\n",
       "29. 'SAN ANDRES'\n",
       "30. 'SANTANDER'\n",
       "31. 'SUCRE'\n",
       "32. 'TOLIMA'\n",
       "33. 'VALLE'\n",
       "34. 'VAUPES'\n",
       "35. 'VICHADA'\n",
       "\n",
       "\n"
      ],
      "text/plain": [
       " [1] ATLANTICO       CUNDINAMARCA    CALDAS          MAGDALENA      \n",
       " [5] CORDOBA         CAUCA           BOGOTA          ANTIOQUIA      \n",
       " [9] META            CESAR           VALLE           TOLIMA         \n",
       "[13] BOYACA          SANTANDER       BOLIVAR                        \n",
       "[17] HUILA           NORTE SANTANDER SUCRE           QUINDIO        \n",
       "[21] VAUPES          RISARALDA       NARIÑO          CAQUETA        \n",
       "[25] CASANARE        CHOCO           PUTUMAYO        LA GUAJIRA     \n",
       "[29] GUAVIARE        ARAUCA          SAN ANDRES      VICHADA        \n",
       "[33] AMAZONAS        EXTRANJERO      GUAINIA        \n",
       "35 Levels:  AMAZONAS ANTIOQUIA ARAUCA ATLANTICO BOGOTA BOLIVAR ... VICHADA"
      ]
     },
     "metadata": {},
     "output_type": "display_data"
    }
   ],
   "source": [
    "#Arreglo valores de Nariño, debido a que al cargar la codificación UTF-8 es_CO no es teniada en cuenta, por lo tanto tildes y ñ no son validas\n",
    "saberpro[,3] <- revalue(saberpro[,3], c( 'NARIÃ‘O'= \"NARIÑO\", 'NARIÃƒâ€˜O' = \"NARIÑO\"))\n",
    "unique(saberpro[,3])# Ver las regiones "
   ]
  },
  {
   "cell_type": "markdown",
   "metadata": {},
   "source": [
    "## Calcular tamaño de la muestra"
   ]
  },
  {
   "cell_type": "markdown",
   "metadata": {},
   "source": [
    "Para los siguientes ejercicios necesitaremos una muestra de la poblacion total, para ello como variables usaremos un nivel de confianza del 95%, la poblacion que como se nos indica anteriormente es de 725295 y el nivel de error (e) de 0.05.\n"
   ]
  },
  {
   "cell_type": "code",
   "execution_count": 9,
   "metadata": {},
   "outputs": [
    {
     "name": "stdout",
     "output_type": "stream",
     "text": [
      "\n",
      "sample.size.prop object: Sample size for proportion estimate\n",
      "With finite population correction: N=725295, precision e=0.05 and expected proportion P=0.5\n",
      "\n",
      "Sample size needed: 384\n",
      "\n"
     ]
    }
   ],
   "source": [
    "TM<-sample.size.prop(e=0.05, P = 0.5, N = 725295 , level = 0.95)\n",
    "print(TM)"
   ]
  },
  {
   "cell_type": "markdown",
   "metadata": {},
   "source": [
    "## 1. Realice muestreo aleatorio simple y realice las estimaciones (inferencia) correspondientes. Tenga en cuenta que son múltiples variables"
   ]
  },
  {
   "cell_type": "code",
   "execution_count": 10,
   "metadata": {},
   "outputs": [],
   "source": [
    "puntajes<-data.frame(periodo=saberpro$periodo,dpto=saberpro$estu_depto_reside,puntajeing=saberpro$ingles_punt, puntajelec=saberpro$lect_crit_punt, puntajeraz=saberpro$raz_cuant_punt)"
   ]
  },
  {
   "cell_type": "code",
   "execution_count": 11,
   "metadata": {},
   "outputs": [
    {
     "data": {
      "text/html": [
       "<style>\n",
       ".list-inline {list-style: none; margin:0; padding: 0}\n",
       ".list-inline>li {display: inline-block}\n",
       ".list-inline>li:not(:last-child)::after {content: \"\\00b7\"; padding: 0 .5ex}\n",
       "</style>\n",
       "<ol class=list-inline><li>143728</li><li>261008</li><li>392860</li><li>633511</li><li>514251</li><li>156233</li></ol>\n"
      ],
      "text/latex": [
       "\\begin{enumerate*}\n",
       "\\item 143728\n",
       "\\item 261008\n",
       "\\item 392860\n",
       "\\item 633511\n",
       "\\item 514251\n",
       "\\item 156233\n",
       "\\end{enumerate*}\n"
      ],
      "text/markdown": [
       "1. 143728\n",
       "2. 261008\n",
       "3. 392860\n",
       "4. 633511\n",
       "5. 514251\n",
       "6. 156233\n",
       "\n",
       "\n"
      ],
      "text/plain": [
       "[1] 143728 261008 392860 633511 514251 156233"
      ]
     },
     "metadata": {},
     "output_type": "display_data"
    }
   ],
   "source": [
    "n1<-100\n",
    "n2<-200\n",
    "n3<-500\n",
    "n4<-1000\n",
    "muestra1<- sample(1:nrow(puntajes),size=n1,replace=FALSE)\n",
    "muestra2<- sample(1:nrow(puntajes),size=n2,replace=FALSE)\n",
    "muestra3<- sample(1:nrow(puntajes),size=n3,replace=FALSE)\n",
    "muestra4<- sample(1:nrow(puntajes),size=n4,replace=FALSE)\n",
    "head(muestra3)"
   ]
  },
  {
   "cell_type": "code",
   "execution_count": 12,
   "metadata": {},
   "outputs": [
    {
     "data": {
      "image/png": "[encoded data removed]",
      "text/plain": [
       "Plot with title “Histogram of puntajeraz”"
      ]
     },
     "metadata": {
      "image/png": {
       "height": 420,
       "width": 420
      },
      "text/plain": {
       "height": 420,
       "width": 420
      }
     },
     "output_type": "display_data"
    }
   ],
   "source": [
    "par(mfrow=c(3,3))\n",
    "with(puntajes[muestra3,], boxplot(puntajeing, main=\"Puntaje Ingles\"))\n",
    "with(puntajes[muestra3,], boxplot(puntajelec, main=\"Puntaje Lectura Critica\"))\n",
    "with(puntajes[muestra3,], boxplot(puntajeraz, main=\"Puntaje Razonamiento C\"))\n",
    "with(puntajes[muestra3,], plot(puntajeing, pch = 20))\n",
    "with(puntajes[muestra3,], plot(puntajelec, pch = 20))\n",
    "with(puntajes[muestra3,], plot(puntajeraz, pch = 20))\n",
    "with(puntajes[muestra3,], hist(puntajeing, nclass = 50))\n",
    "with(puntajes[muestra3,], hist(puntajelec, nclass = 50))\n",
    "with(puntajes[muestra3,], hist(puntajeraz, nclass = 50))\n",
    "par(mfrow=c(1,1))"
   ]
  },
  {
   "cell_type": "code",
   "execution_count": 13,
   "metadata": {},
   "outputs": [
    {
     "data": {
      "text/html": [
       "<table>\n",
       "<caption>A data.frame: 6 × 5</caption>\n",
       "<thead>\n",
       "\t<tr><th></th><th scope=col>periodo</th><th scope=col>dpto</th><th scope=col>puntajeing</th><th scope=col>puntajelec</th><th scope=col>puntajeraz</th></tr>\n",
       "\t<tr><th></th><th scope=col>&lt;dbl&gt;</th><th scope=col>&lt;fct&gt;</th><th scope=col>&lt;int&gt;</th><th scope=col>&lt;int&gt;</th><th scope=col>&lt;int&gt;</th></tr>\n",
       "</thead>\n",
       "<tbody>\n",
       "\t<tr><th scope=row>1</th><td>2016</td><td>ATLANTICO   </td><td>160</td><td>130</td><td>160</td></tr>\n",
       "\t<tr><th scope=row>2</th><td>2016</td><td>CUNDINAMARCA</td><td>125</td><td>132</td><td>138</td></tr>\n",
       "\t<tr><th scope=row>3</th><td>2016</td><td>CALDAS      </td><td>104</td><td>157</td><td>146</td></tr>\n",
       "\t<tr><th scope=row>4</th><td>2016</td><td>MAGDALENA   </td><td>160</td><td>172</td><td>160</td></tr>\n",
       "\t<tr><th scope=row>5</th><td>2016</td><td>CORDOBA     </td><td>192</td><td>122</td><td>130</td></tr>\n",
       "\t<tr><th scope=row>6</th><td>2016</td><td>CAUCA       </td><td>108</td><td>129</td><td>159</td></tr>\n",
       "</tbody>\n",
       "</table>\n"
      ],
      "text/latex": [
       "A data.frame: 6 × 5\n",
       "\\begin{tabular}{r|lllll}\n",
       "  & periodo & dpto & puntajeing & puntajelec & puntajeraz\\\\\n",
       "  & <dbl> & <fct> & <int> & <int> & <int>\\\\\n",
       "\\hline\n",
       "\t1 & 2016 & ATLANTICO    & 160 & 130 & 160\\\\\n",
       "\t2 & 2016 & CUNDINAMARCA & 125 & 132 & 138\\\\\n",
       "\t3 & 2016 & CALDAS       & 104 & 157 & 146\\\\\n",
       "\t4 & 2016 & MAGDALENA    & 160 & 172 & 160\\\\\n",
       "\t5 & 2016 & CORDOBA      & 192 & 122 & 130\\\\\n",
       "\t6 & 2016 & CAUCA        & 108 & 129 & 159\\\\\n",
       "\\end{tabular}\n"
      ],
      "text/markdown": [
       "\n",
       "A data.frame: 6 × 5\n",
       "\n",
       "| <!--/--> | periodo &lt;dbl&gt; | dpto &lt;fct&gt; | puntajeing &lt;int&gt; | puntajelec &lt;int&gt; | puntajeraz &lt;int&gt; |\n",
       "|---|---|---|---|---|---|\n",
       "| 1 | 2016 | ATLANTICO    | 160 | 130 | 160 |\n",
       "| 2 | 2016 | CUNDINAMARCA | 125 | 132 | 138 |\n",
       "| 3 | 2016 | CALDAS       | 104 | 157 | 146 |\n",
       "| 4 | 2016 | MAGDALENA    | 160 | 172 | 160 |\n",
       "| 5 | 2016 | CORDOBA      | 192 | 122 | 130 |\n",
       "| 6 | 2016 | CAUCA        | 108 | 129 | 159 |\n",
       "\n"
      ],
      "text/plain": [
       "  periodo dpto         puntajeing puntajelec puntajeraz\n",
       "1 2016    ATLANTICO    160        130        160       \n",
       "2 2016    CUNDINAMARCA 125        132        138       \n",
       "3 2016    CALDAS       104        157        146       \n",
       "4 2016    MAGDALENA    160        172        160       \n",
       "5 2016    CORDOBA      192        122        130       \n",
       "6 2016    CAUCA        108        129        159       "
      ]
     },
     "metadata": {},
     "output_type": "display_data"
    }
   ],
   "source": [
    "head(puntajes)"
   ]
  },
  {
   "cell_type": "code",
   "execution_count": 14,
   "metadata": {},
   "outputs": [
    {
     "data": {
      "text/html": [
       "<table>\n",
       "<caption>A data.frame: 5 × 5</caption>\n",
       "<thead>\n",
       "\t<tr><th></th><th scope=col>pop</th><th scope=col>m1</th><th scope=col>m2</th><th scope=col>m3</th><th scope=col>m4</th></tr>\n",
       "\t<tr><th></th><th scope=col>&lt;dbl&gt;</th><th scope=col>&lt;dbl&gt;</th><th scope=col>&lt;dbl&gt;</th><th scope=col>&lt;dbl&gt;</th><th scope=col>&lt;dbl&gt;</th></tr>\n",
       "</thead>\n",
       "<tbody>\n",
       "\t<tr><th scope=row>tamaño</th><td>725295,0</td><td>100,0</td><td>200,0</td><td>500,0</td><td>1000,0</td></tr>\n",
       "\t<tr><th scope=row>media</th><td>   150,4</td><td>147,2</td><td>151,9</td><td>150,0</td><td> 152,0</td></tr>\n",
       "\t<tr><th scope=row>desviación estándar</th><td>    31,9</td><td> 33,5</td><td> 35,0</td><td> 32,5</td><td>  32,1</td></tr>\n",
       "\t<tr><th scope=row>simetría</th><td>     0,3</td><td> -0,4</td><td> -0,5</td><td>  0,5</td><td>   0,1</td></tr>\n",
       "\t<tr><th scope=row>kurtosis</th><td>     1,5</td><td>  2,4</td><td>  2,1</td><td>  1,7</td><td>   1,7</td></tr>\n",
       "</tbody>\n",
       "</table>\n"
      ],
      "text/latex": [
       "A data.frame: 5 × 5\n",
       "\\begin{tabular}{r|lllll}\n",
       "  & pop & m1 & m2 & m3 & m4\\\\\n",
       "  & <dbl> & <dbl> & <dbl> & <dbl> & <dbl>\\\\\n",
       "\\hline\n",
       "\ttamaño & 725295,0 & 100,0 & 200,0 & 500,0 & 1000,0\\\\\n",
       "\tmedia &    150,4 & 147,2 & 151,9 & 150,0 &  152,0\\\\\n",
       "\tdesviación estándar &     31,9 &  33,5 &  35,0 &  32,5 &   32,1\\\\\n",
       "\tsimetría &      0,3 &  -0,4 &  -0,5 &   0,5 &    0,1\\\\\n",
       "\tkurtosis &      1,5 &   2,4 &   2,1 &   1,7 &    1,7\\\\\n",
       "\\end{tabular}\n"
      ],
      "text/markdown": [
       "\n",
       "A data.frame: 5 × 5\n",
       "\n",
       "| <!--/--> | pop &lt;dbl&gt; | m1 &lt;dbl&gt; | m2 &lt;dbl&gt; | m3 &lt;dbl&gt; | m4 &lt;dbl&gt; |\n",
       "|---|---|---|---|---|---|\n",
       "| tamaño | 725295,0 | 100,0 | 200,0 | 500,0 | 1000,0 |\n",
       "| media |    150,4 | 147,2 | 151,9 | 150,0 |  152,0 |\n",
       "| desviación estándar |     31,9 |  33,5 |  35,0 |  32,5 |   32,1 |\n",
       "| simetría |      0,3 |  -0,4 |  -0,5 |   0,5 |    0,1 |\n",
       "| kurtosis |      1,5 |   2,4 |   2,1 |   1,7 |    1,7 |\n",
       "\n"
      ],
      "text/plain": [
       "                    pop      m1    m2    m3    m4    \n",
       "tamaño              725295,0 100,0 200,0 500,0 1000,0\n",
       "media                  150,4 147,2 151,9 150,0  152,0\n",
       "desviación estándar     31,9  33,5  35,0  32,5   32,1\n",
       "simetría                 0,3  -0,4  -0,5   0,5    0,1\n",
       "kurtosis                 1,5   2,4   2,1   1,7    1,7"
      ]
     },
     "metadata": {},
     "output_type": "display_data"
    },
    {
     "data": {
      "text/html": [
       "<table>\n",
       "<caption>A data.frame: 5 × 5</caption>\n",
       "<thead>\n",
       "\t<tr><th></th><th scope=col>pop</th><th scope=col>m1</th><th scope=col>m2</th><th scope=col>m3</th><th scope=col>m4</th></tr>\n",
       "\t<tr><th></th><th scope=col>&lt;dbl&gt;</th><th scope=col>&lt;dbl&gt;</th><th scope=col>&lt;dbl&gt;</th><th scope=col>&lt;dbl&gt;</th><th scope=col>&lt;dbl&gt;</th></tr>\n",
       "</thead>\n",
       "<tbody>\n",
       "\t<tr><th scope=row>tamaño</th><td>725295,0</td><td>100,0</td><td>200,0</td><td>500,0</td><td>1000,0</td></tr>\n",
       "\t<tr><th scope=row>media</th><td>   150,1</td><td>152,2</td><td>152,6</td><td>149,4</td><td> 152,5</td></tr>\n",
       "\t<tr><th scope=row>desviación estándar</th><td>    31,0</td><td> 28,2</td><td> 32,6</td><td> 31,6</td><td>  31,1</td></tr>\n",
       "\t<tr><th scope=row>simetría</th><td>     0,0</td><td> -0,1</td><td>  0,2</td><td>  0,0</td><td>   0,2</td></tr>\n",
       "\t<tr><th scope=row>kurtosis</th><td>    -0,3</td><td> -0,3</td><td> -0,6</td><td> -0,2</td><td>   0,3</td></tr>\n",
       "</tbody>\n",
       "</table>\n"
      ],
      "text/latex": [
       "A data.frame: 5 × 5\n",
       "\\begin{tabular}{r|lllll}\n",
       "  & pop & m1 & m2 & m3 & m4\\\\\n",
       "  & <dbl> & <dbl> & <dbl> & <dbl> & <dbl>\\\\\n",
       "\\hline\n",
       "\ttamaño & 725295,0 & 100,0 & 200,0 & 500,0 & 1000,0\\\\\n",
       "\tmedia &    150,1 & 152,2 & 152,6 & 149,4 &  152,5\\\\\n",
       "\tdesviación estándar &     31,0 &  28,2 &  32,6 &  31,6 &   31,1\\\\\n",
       "\tsimetría &      0,0 &  -0,1 &   0,2 &   0,0 &    0,2\\\\\n",
       "\tkurtosis &     -0,3 &  -0,3 &  -0,6 &  -0,2 &    0,3\\\\\n",
       "\\end{tabular}\n"
      ],
      "text/markdown": [
       "\n",
       "A data.frame: 5 × 5\n",
       "\n",
       "| <!--/--> | pop &lt;dbl&gt; | m1 &lt;dbl&gt; | m2 &lt;dbl&gt; | m3 &lt;dbl&gt; | m4 &lt;dbl&gt; |\n",
       "|---|---|---|---|---|---|\n",
       "| tamaño | 725295,0 | 100,0 | 200,0 | 500,0 | 1000,0 |\n",
       "| media |    150,1 | 152,2 | 152,6 | 149,4 |  152,5 |\n",
       "| desviación estándar |     31,0 |  28,2 |  32,6 |  31,6 |   31,1 |\n",
       "| simetría |      0,0 |  -0,1 |   0,2 |   0,0 |    0,2 |\n",
       "| kurtosis |     -0,3 |  -0,3 |  -0,6 |  -0,2 |    0,3 |\n",
       "\n"
      ],
      "text/plain": [
       "                    pop      m1    m2    m3    m4    \n",
       "tamaño              725295,0 100,0 200,0 500,0 1000,0\n",
       "media                  150,1 152,2 152,6 149,4  152,5\n",
       "desviación estándar     31,0  28,2  32,6  31,6   31,1\n",
       "simetría                 0,0  -0,1   0,2   0,0    0,2\n",
       "kurtosis                -0,3  -0,3  -0,6  -0,2    0,3"
      ]
     },
     "metadata": {},
     "output_type": "display_data"
    },
    {
     "data": {
      "text/html": [
       "<table>\n",
       "<caption>A data.frame: 5 × 5</caption>\n",
       "<thead>\n",
       "\t<tr><th></th><th scope=col>pop</th><th scope=col>m1</th><th scope=col>m2</th><th scope=col>m3</th><th scope=col>m4</th></tr>\n",
       "\t<tr><th></th><th scope=col>&lt;dbl&gt;</th><th scope=col>&lt;dbl&gt;</th><th scope=col>&lt;dbl&gt;</th><th scope=col>&lt;dbl&gt;</th><th scope=col>&lt;dbl&gt;</th></tr>\n",
       "</thead>\n",
       "<tbody>\n",
       "\t<tr><th scope=row>tamaño</th><td>725295,0</td><td>100,0</td><td>200,0</td><td>500,0</td><td>1000,0</td></tr>\n",
       "\t<tr><th scope=row>media</th><td>   149,5</td><td>152,6</td><td>147,3</td><td>148,1</td><td> 151,2</td></tr>\n",
       "\t<tr><th scope=row>desviación estándar</th><td>    30,7</td><td> 30,0</td><td> 31,3</td><td> 29,7</td><td>  30,2</td></tr>\n",
       "\t<tr><th scope=row>simetría</th><td>     0,2</td><td>  0,1</td><td>  0,3</td><td>  0,2</td><td>   0,1</td></tr>\n",
       "\t<tr><th scope=row>kurtosis</th><td>     0,1</td><td> -0,6</td><td> -0,6</td><td> -0,4</td><td>  -0,6</td></tr>\n",
       "</tbody>\n",
       "</table>\n"
      ],
      "text/latex": [
       "A data.frame: 5 × 5\n",
       "\\begin{tabular}{r|lllll}\n",
       "  & pop & m1 & m2 & m3 & m4\\\\\n",
       "  & <dbl> & <dbl> & <dbl> & <dbl> & <dbl>\\\\\n",
       "\\hline\n",
       "\ttamaño & 725295,0 & 100,0 & 200,0 & 500,0 & 1000,0\\\\\n",
       "\tmedia &    149,5 & 152,6 & 147,3 & 148,1 &  151,2\\\\\n",
       "\tdesviación estándar &     30,7 &  30,0 &  31,3 &  29,7 &   30,2\\\\\n",
       "\tsimetría &      0,2 &   0,1 &   0,3 &   0,2 &    0,1\\\\\n",
       "\tkurtosis &      0,1 &  -0,6 &  -0,6 &  -0,4 &   -0,6\\\\\n",
       "\\end{tabular}\n"
      ],
      "text/markdown": [
       "\n",
       "A data.frame: 5 × 5\n",
       "\n",
       "| <!--/--> | pop &lt;dbl&gt; | m1 &lt;dbl&gt; | m2 &lt;dbl&gt; | m3 &lt;dbl&gt; | m4 &lt;dbl&gt; |\n",
       "|---|---|---|---|---|---|\n",
       "| tamaño | 725295,0 | 100,0 | 200,0 | 500,0 | 1000,0 |\n",
       "| media |    149,5 | 152,6 | 147,3 | 148,1 |  151,2 |\n",
       "| desviación estándar |     30,7 |  30,0 |  31,3 |  29,7 |   30,2 |\n",
       "| simetría |      0,2 |   0,1 |   0,3 |   0,2 |    0,1 |\n",
       "| kurtosis |      0,1 |  -0,6 |  -0,6 |  -0,4 |   -0,6 |\n",
       "\n"
      ],
      "text/plain": [
       "                    pop      m1    m2    m3    m4    \n",
       "tamaño              725295,0 100,0 200,0 500,0 1000,0\n",
       "media                  149,5 152,6 147,3 148,1  151,2\n",
       "desviación estándar     30,7  30,0  31,3  29,7   30,2\n",
       "simetría                 0,2   0,1   0,3   0,2    0,1\n",
       "kurtosis                 0,1  -0,6  -0,6  -0,4   -0,6"
      ]
     },
     "metadata": {},
     "output_type": "display_data"
    }
   ],
   "source": [
    "pop<-round(mystats(puntajes[,'puntajeing']),1)\n",
    "m1<-round(mystats(puntajes[muestra1,'puntajeing']),1)\n",
    "m2<-round(mystats(puntajes[muestra2,'puntajeing']),1)\n",
    "m3<-round(mystats(puntajes[muestra3,'puntajeing']),1)\n",
    "m4<-round(mystats(puntajes[muestra4,'puntajeing']),1)\n",
    "data.frame(pop,m1,m2,m3,m4)\n",
    "pop<-round(mystats(puntajes[,'puntajelec']),1)\n",
    "m1<-round(mystats(puntajes[muestra1,'puntajelec']),1)\n",
    "m2<-round(mystats(puntajes[muestra2,'puntajelec']),1)\n",
    "m3<-round(mystats(puntajes[muestra3,'puntajelec']),1)\n",
    "m4<-round(mystats(puntajes[muestra4,'puntajelec']),1)\n",
    "data.frame(pop,m1,m2,m3,m4)\n",
    "pop<-round(mystats(puntajes[,'puntajeraz']),1)\n",
    "m1<-round(mystats(puntajes[muestra1,'puntajeraz']),1)\n",
    "m2<-round(mystats(puntajes[muestra2,'puntajeraz']),1)\n",
    "m3<-round(mystats(puntajes[muestra3,'puntajeraz']),1)\n",
    "m4<-round(mystats(puntajes[muestra4,'puntajeraz']),1)\n",
    "data.frame(pop,m1,m2,m3,m4)"
   ]
  },
  {
   "cell_type": "markdown",
   "metadata": {},
   "source": [
    "Ahora vamos a ver como varia las graficas del puntaje obtenido en ingles a traves de los años en ingles, para ello usaremos las muestras y graficaremos para observar si hay alguna diferencia."
   ]
  },
  {
   "cell_type": "code",
   "execution_count": 15,
   "metadata": {},
   "outputs": [
    {
     "data": {
      "image/png": "[encoded data removed]",
      "text/plain": [
       "Plot with title “Muestra 3 (1000)”"
      ]
     },
     "metadata": {
      "image/png": {
       "height": 420,
       "width": 420
      },
      "text/plain": {
       "height": 420,
       "width": 420
      }
     },
     "output_type": "display_data"
    }
   ],
   "source": [
    "par(mfrow=c(2,5))\n",
    "with(puntajes, boxplot(puntajeing, main = 'Población'))\n",
    "with(puntajes[muestra1,], boxplot(puntajeing, main = 'Muestra 1 (100)'))\n",
    "with(puntajes[muestra2,], boxplot(puntajeing, main = 'Muestra 2 (200)'))\n",
    "with(puntajes[muestra3,], boxplot(puntajeing, main = 'Muestra 3 (500)'))\n",
    "with(puntajes[muestra4,], boxplot(puntajeing, main = 'Muestra 3 (1000)'))\n",
    "with(puntajes, hist(puntajeing, nclass = 50, main = 'Población'))\n",
    "with(puntajes[muestra1,], hist(puntajeing, nclass = 50, main = 'Muestra 1 (100)'))\n",
    "with(puntajes[muestra2,], hist(puntajeing, nclass = 50, main = 'Muestra 2 (200)'))\n",
    "with(puntajes[muestra3,], hist(puntajeing, nclass = 50, main = 'Muestra 3 (500)'))\n",
    "with(puntajes[muestra4,], hist(puntajeing, nclass = 50, main = 'Muestra 3 (1000)'))\n",
    "par(mfrow=c(1,1))"
   ]
  },
  {
   "cell_type": "markdown",
   "metadata": {},
   "source": [
    "## Inferencias"
   ]
  },
  {
   "cell_type": "markdown",
   "metadata": {},
   "source": [
    "Gracias a las graficas y a las tablas generadas por el software podemos comparar de forma facil e intuitiva los 3 tipos de puntajes que analizamos en este caso.\n",
    "\n",
    "A simple vista se puede ver que los puntajes de lectura critica y razonamiento cuantitativo estan mas dispersos, lo cual hara que al graficar sus datos formen una campana gausiana mesocurtica ya que su curtosis oscila o tiende al 0. En cambio, el puntaje de ingles se agrupa en la media formando una grafica leptocurtica. Esto nos quiere decir que los estudiantes en Colombia en un muy alto promedio poseen las mismas capacidades en la prueba de ingles como si tuviesen el mismo nivel de ingles, mientras que en las otras dos materias no tienen eel mismo nivel.\n",
    "\n",
    "Ahora bien podemos ver que superando la cantidad de la muestra por defecto (384) la grafica se asemeja en gran manera a la grafica poblacional, es decir, a medida que pasamos el 95% de confianza podemos ver practicamente como se distribuye todo el cuerpo estudiantil en las pruebas de ingles."
   ]
  },
  {
   "cell_type": "markdown",
   "metadata": {},
   "source": [
    "2.  Realice los correspondientes muestreos estratificados y compare los resultados con los anteriores. Explique las diferencias y/o similitudes"
   ]
  },
  {
   "cell_type": "code",
   "execution_count": 16,
   "metadata": {},
   "outputs": [
    {
     "name": "stderr",
     "output_type": "stream",
     "text": [
      "\n",
      "Attaching package: ‘magrittr’\n",
      "\n",
      "\n",
      "The following object is masked from ‘package:purrr’:\n",
      "\n",
      "    set_names\n",
      "\n",
      "\n",
      "The following object is masked from ‘package:tidyr’:\n",
      "\n",
      "    extract\n",
      "\n",
      "\n"
     ]
    }
   ],
   "source": [
    "library(magrittr) # Permite leer la función %>%"
   ]
  },
  {
   "cell_type": "code",
   "execution_count": 17,
   "metadata": {},
   "outputs": [
    {
     "name": "stderr",
     "output_type": "stream",
     "text": [
      "`summarise()` ungrouping output (override with `.groups` argument)\n",
      "\n"
     ]
    },
    {
     "data": {
      "text/html": [
       "<table>\n",
       "<caption>A tibble: 3 × 4</caption>\n",
       "<thead>\n",
       "\t<tr><th scope=col>periodo</th><th scope=col>n</th><th scope=col>s</th><th scope=col>p</th></tr>\n",
       "\t<tr><th scope=col>&lt;dbl&gt;</th><th scope=col>&lt;int&gt;</th><th scope=col>&lt;dbl&gt;</th><th scope=col>&lt;dbl&gt;</th></tr>\n",
       "</thead>\n",
       "<tbody>\n",
       "\t<tr><td>2016</td><td>242628</td><td>31,87524</td><td>0,3345232</td></tr>\n",
       "\t<tr><td>2017</td><td>245566</td><td>31,64669</td><td>0,3385740</td></tr>\n",
       "\t<tr><td>2018</td><td>237101</td><td>32,32753</td><td>0,3269028</td></tr>\n",
       "</tbody>\n",
       "</table>\n"
      ],
      "text/latex": [
       "A tibble: 3 × 4\n",
       "\\begin{tabular}{llll}\n",
       " periodo & n & s & p\\\\\n",
       " <dbl> & <int> & <dbl> & <dbl>\\\\\n",
       "\\hline\n",
       "\t 2016 & 242628 & 31,87524 & 0,3345232\\\\\n",
       "\t 2017 & 245566 & 31,64669 & 0,3385740\\\\\n",
       "\t 2018 & 237101 & 32,32753 & 0,3269028\\\\\n",
       "\\end{tabular}\n"
      ],
      "text/markdown": [
       "\n",
       "A tibble: 3 × 4\n",
       "\n",
       "| periodo &lt;dbl&gt; | n &lt;int&gt; | s &lt;dbl&gt; | p &lt;dbl&gt; |\n",
       "|---|---|---|---|\n",
       "| 2016 | 242628 | 31,87524 | 0,3345232 |\n",
       "| 2017 | 245566 | 31,64669 | 0,3385740 |\n",
       "| 2018 | 237101 | 32,32753 | 0,3269028 |\n",
       "\n"
      ],
      "text/plain": [
       "  periodo n      s        p        \n",
       "1 2016    242628 31,87524 0,3345232\n",
       "2 2017    245566 31,64669 0,3385740\n",
       "3 2018    237101 32,32753 0,3269028"
      ]
     },
     "metadata": {},
     "output_type": "display_data"
    }
   ],
   "source": [
    "Estratos<- puntajes %>%\n",
    "  select(periodo,puntajeing) %>%\n",
    "  group_by(periodo) %>%\n",
    "  summarise(n=n(),\n",
    "            s=sd(puntajeing)) %>%\n",
    "  mutate(p=n/sum(n))\n",
    "\n",
    "Estratos"
   ]
  },
  {
   "cell_type": "markdown",
   "metadata": {},
   "source": [
    "3.  Realice los correspondientes muestreos por conglomerados y compare los resultados con los puntos 1 y 2. Explique las diferencias y/o similitudes"
   ]
  },
  {
   "cell_type": "code",
   "execution_count": 18,
   "metadata": {},
   "outputs": [],
   "source": [
    "#head(saberpro,2)"
   ]
  },
  {
   "cell_type": "code",
   "execution_count": 40,
   "metadata": {},
   "outputs": [],
   "source": [
    "#Creamos un Data Frame con las informacion necesaria. \n",
    "puntajes_conglomerados<-data.frame(dpto=saberpro$estu_depto_reside\n",
    "                    ,puntajecomp=saberpro$comp_ciud_punt\n",
    "                    ,puntajeing=saberpro$ingles_punt, puntajelec=saberpro$lect_crit_punt,\n",
    "                     puntajeraz=saberpro$raz_cuant_punt,puntajecomu=saberpro$comu_escr_punt)"
   ]
  },
  {
   "cell_type": "code",
   "execution_count": 41,
   "metadata": {},
   "outputs": [
    {
     "name": "stderr",
     "output_type": "stream",
     "text": [
      "`summarise()` ungrouping output (override with `.groups` argument)\n",
      "\n"
     ]
    },
    {
     "data": {
      "text/html": [
       "<table>\n",
       "<caption>A tibble: 6 × 4</caption>\n",
       "<thead>\n",
       "\t<tr><th scope=col>dpto</th><th scope=col>n</th><th scope=col>std1</th><th scope=col>p</th></tr>\n",
       "\t<tr><th scope=col>&lt;fct&gt;</th><th scope=col>&lt;int&gt;</th><th scope=col>&lt;dbl&gt;</th><th scope=col>&lt;dbl&gt;</th></tr>\n",
       "</thead>\n",
       "<tbody>\n",
       "\t<tr><td>         </td><td>  1997</td><td>39,72940</td><td>0,0027533624</td></tr>\n",
       "\t<tr><td>AMAZONAS </td><td>   195</td><td>24,34471</td><td>0,0002688561</td></tr>\n",
       "\t<tr><td>ANTIOQUIA</td><td> 86465</td><td>33,45743</td><td>0,1192135614</td></tr>\n",
       "\t<tr><td>ARAUCA   </td><td>  1863</td><td>21,68492</td><td>0,0025686100</td></tr>\n",
       "\t<tr><td>ATLANTICO</td><td> 41127</td><td>33,44570</td><td>0,0567038240</td></tr>\n",
       "\t<tr><td>BOGOTA   </td><td>210798</td><td>32,69948</td><td>0,2906376026</td></tr>\n",
       "</tbody>\n",
       "</table>\n"
      ],
      "text/latex": [
       "A tibble: 6 × 4\n",
       "\\begin{tabular}{llll}\n",
       " dpto & n & std1 & p\\\\\n",
       " <fct> & <int> & <dbl> & <dbl>\\\\\n",
       "\\hline\n",
       "\t           &   1997 & 39,72940 & 0,0027533624\\\\\n",
       "\t AMAZONAS  &    195 & 24,34471 & 0,0002688561\\\\\n",
       "\t ANTIOQUIA &  86465 & 33,45743 & 0,1192135614\\\\\n",
       "\t ARAUCA    &   1863 & 21,68492 & 0,0025686100\\\\\n",
       "\t ATLANTICO &  41127 & 33,44570 & 0,0567038240\\\\\n",
       "\t BOGOTA    & 210798 & 32,69948 & 0,2906376026\\\\\n",
       "\\end{tabular}\n"
      ],
      "text/markdown": [
       "\n",
       "A tibble: 6 × 4\n",
       "\n",
       "| dpto &lt;fct&gt; | n &lt;int&gt; | std1 &lt;dbl&gt; | p &lt;dbl&gt; |\n",
       "|---|---|---|---|\n",
       "| <!----> |   1997 | 39,72940 | 0,0027533624 |\n",
       "| AMAZONAS  |    195 | 24,34471 | 0,0002688561 |\n",
       "| ANTIOQUIA |  86465 | 33,45743 | 0,1192135614 |\n",
       "| ARAUCA    |   1863 | 21,68492 | 0,0025686100 |\n",
       "| ATLANTICO |  41127 | 33,44570 | 0,0567038240 |\n",
       "| BOGOTA    | 210798 | 32,69948 | 0,2906376026 |\n",
       "\n"
      ],
      "text/plain": [
       "  dpto      n      std1     p           \n",
       "1             1997 39,72940 0,0027533624\n",
       "2 AMAZONAS     195 24,34471 0,0002688561\n",
       "3 ANTIOQUIA  86465 33,45743 0,1192135614\n",
       "4 ARAUCA      1863 21,68492 0,0025686100\n",
       "5 ATLANTICO  41127 33,44570 0,0567038240\n",
       "6 BOGOTA    210798 32,69948 0,2906376026"
      ]
     },
     "metadata": {},
     "output_type": "display_data"
    }
   ],
   "source": [
    "Conglomerados<- puntajes_conglomerados %>%\n",
    "  select(dpto,puntajeing) %>%\n",
    "  group_by(dpto) %>%\n",
    "  summarise(n=n(),\n",
    "            std1=sd(puntajeing)) %>%\n",
    "  mutate(p=n/sum(n))\n",
    "  \n",
    "head(Conglomerados,6)"
   ]
  },
  {
   "cell_type": "code",
   "execution_count": 42,
   "metadata": {},
   "outputs": [
    {
     "data": {
      "text/html": [
       "<table>\n",
       "<caption>A data.frame: 6 × 2</caption>\n",
       "<thead>\n",
       "\t<tr><th></th><th scope=col>dpto</th><th scope=col>p</th></tr>\n",
       "\t<tr><th></th><th scope=col>&lt;fct&gt;</th><th scope=col>&lt;dbl&gt;</th></tr>\n",
       "</thead>\n",
       "<tbody>\n",
       "\t<tr><th scope=row>1</th><td>         </td><td>  2</td></tr>\n",
       "\t<tr><th scope=row>2</th><td>AMAZONAS </td><td>  1</td></tr>\n",
       "\t<tr><th scope=row>3</th><td>ANTIOQUIA</td><td> 46</td></tr>\n",
       "\t<tr><th scope=row>4</th><td>ARAUCA   </td><td>  1</td></tr>\n",
       "\t<tr><th scope=row>5</th><td>ATLANTICO</td><td> 22</td></tr>\n",
       "\t<tr><th scope=row>6</th><td>BOGOTA   </td><td>112</td></tr>\n",
       "</tbody>\n",
       "</table>\n"
      ],
      "text/latex": [
       "A data.frame: 6 × 2\n",
       "\\begin{tabular}{r|ll}\n",
       "  & dpto & p\\\\\n",
       "  & <fct> & <dbl>\\\\\n",
       "\\hline\n",
       "\t1 &           &   2\\\\\n",
       "\t2 & AMAZONAS  &   1\\\\\n",
       "\t3 & ANTIOQUIA &  46\\\\\n",
       "\t4 & ARAUCA    &   1\\\\\n",
       "\t5 & ATLANTICO &  22\\\\\n",
       "\t6 & BOGOTA    & 112\\\\\n",
       "\\end{tabular}\n"
      ],
      "text/markdown": [
       "\n",
       "A data.frame: 6 × 2\n",
       "\n",
       "| <!--/--> | dpto &lt;fct&gt; | p &lt;dbl&gt; |\n",
       "|---|---|---|\n",
       "| 1 | <!----> |   2 |\n",
       "| 2 | AMAZONAS  |   1 |\n",
       "| 3 | ANTIOQUIA |  46 |\n",
       "| 4 | ARAUCA    |   1 |\n",
       "| 5 | ATLANTICO |  22 |\n",
       "| 6 | BOGOTA    | 112 |\n",
       "\n"
      ],
      "text/plain": [
       "  dpto      p  \n",
       "1             2\n",
       "2 AMAZONAS    1\n",
       "3 ANTIOQUIA  46\n",
       "4 ARAUCA      1\n",
       "5 ATLANTICO  22\n",
       "6 BOGOTA    112"
      ]
     },
     "metadata": {},
     "output_type": "display_data"
    }
   ],
   "source": [
    "nsCProp100<-nstrata(n=384,wh=Conglomerados[,4],method=\"proportional\")\n",
    "muestras_por_conglomerado =  data.frame(dpto=Conglomerados$dpto,nsCProp100)\n",
    "head(muestras_por_conglomerado)\n",
    "nombre_departamento = muestras_por_conglomerado[[1]]\n",
    "size = muestras_por_conglomerado[[2]]\n"
   ]
  },
  {
   "cell_type": "code",
   "execution_count": 45,
   "metadata": {},
   "outputs": [
    {
     "data": {
      "text/html": [
       "<table>\n",
       "<caption>A data.frame: 6 × 6</caption>\n",
       "<thead>\n",
       "\t<tr><th></th><th scope=col>dpto</th><th scope=col>puntajecomp</th><th scope=col>puntajeing</th><th scope=col>puntajelec</th><th scope=col>puntajeraz</th><th scope=col>puntajecomu</th></tr>\n",
       "\t<tr><th></th><th scope=col>&lt;fct&gt;</th><th scope=col>&lt;int&gt;</th><th scope=col>&lt;int&gt;</th><th scope=col>&lt;int&gt;</th><th scope=col>&lt;int&gt;</th><th scope=col>&lt;int&gt;</th></tr>\n",
       "</thead>\n",
       "<tbody>\n",
       "\t<tr><th scope=row>282</th><td>ANTIOQUIA      </td><td>104</td><td>176</td><td>138</td><td>152</td><td>162</td></tr>\n",
       "\t<tr><th scope=row>324</th><td>LA GUAJIRA     </td><td>110</td><td>127</td><td>101</td><td>117</td><td> 70</td></tr>\n",
       "\t<tr><th scope=row>175</th><td>VALLE          </td><td>185</td><td>127</td><td>180</td><td>189</td><td>163</td></tr>\n",
       "\t<tr><th scope=row>47683</th><td>NORTE SANTANDER</td><td>186</td><td>164</td><td>185</td><td>226</td><td>162</td></tr>\n",
       "\t<tr><th scope=row>41464</th><td>HUILA          </td><td>164</td><td>126</td><td>142</td><td>158</td><td>119</td></tr>\n",
       "\t<tr><th scope=row>34472</th><td>BOGOTA         </td><td> 99</td><td>132</td><td> 92</td><td>119</td><td>126</td></tr>\n",
       "</tbody>\n",
       "</table>\n"
      ],
      "text/latex": [
       "A data.frame: 6 × 6\n",
       "\\begin{tabular}{r|llllll}\n",
       "  & dpto & puntajecomp & puntajeing & puntajelec & puntajeraz & puntajecomu\\\\\n",
       "  & <fct> & <int> & <int> & <int> & <int> & <int>\\\\\n",
       "\\hline\n",
       "\t282 & ANTIOQUIA       & 104 & 176 & 138 & 152 & 162\\\\\n",
       "\t324 & LA GUAJIRA      & 110 & 127 & 101 & 117 &  70\\\\\n",
       "\t175 & VALLE           & 185 & 127 & 180 & 189 & 163\\\\\n",
       "\t47683 & NORTE SANTANDER & 186 & 164 & 185 & 226 & 162\\\\\n",
       "\t41464 & HUILA           & 164 & 126 & 142 & 158 & 119\\\\\n",
       "\t34472 & BOGOTA          &  99 & 132 &  92 & 119 & 126\\\\\n",
       "\\end{tabular}\n"
      ],
      "text/markdown": [
       "\n",
       "A data.frame: 6 × 6\n",
       "\n",
       "| <!--/--> | dpto &lt;fct&gt; | puntajecomp &lt;int&gt; | puntajeing &lt;int&gt; | puntajelec &lt;int&gt; | puntajeraz &lt;int&gt; | puntajecomu &lt;int&gt; |\n",
       "|---|---|---|---|---|---|---|\n",
       "| 282 | ANTIOQUIA       | 104 | 176 | 138 | 152 | 162 |\n",
       "| 324 | LA GUAJIRA      | 110 | 127 | 101 | 117 |  70 |\n",
       "| 175 | VALLE           | 185 | 127 | 180 | 189 | 163 |\n",
       "| 47683 | NORTE SANTANDER | 186 | 164 | 185 | 226 | 162 |\n",
       "| 41464 | HUILA           | 164 | 126 | 142 | 158 | 119 |\n",
       "| 34472 | BOGOTA          |  99 | 132 |  92 | 119 | 126 |\n",
       "\n"
      ],
      "text/plain": [
       "      dpto            puntajecomp puntajeing puntajelec puntajeraz puntajecomu\n",
       "282   ANTIOQUIA       104         176        138        152        162        \n",
       "324   LA GUAJIRA      110         127        101        117         70        \n",
       "175   VALLE           185         127        180        189        163        \n",
       "47683 NORTE SANTANDER 186         164        185        226        162        \n",
       "41464 HUILA           164         126        142        158        119        \n",
       "34472 BOGOTA           99         132         92        119        126        "
      ]
     },
     "metadata": {},
     "output_type": "display_data"
    }
   ],
   "source": [
    "output<-c()\n",
    "for (i in seq_along(nombre_departamento)) {      \n",
    "    nvar <- sample(1:nrow(puntajes_conglomerados[puntajes_conglomerados$dpto==nombre_departamento[i],]),size=size[i],replace=FALSE)  \n",
    "    output<-append(output,nvar) \n",
    "}\n",
    "\n",
    "MC <- puntajes_conglomerados[output,]\n",
    "head(MC)\n"
   ]
  },
  {
   "cell_type": "code",
   "execution_count": 59,
   "metadata": {},
   "outputs": [
    {
     "ename": "ERROR",
     "evalue": "Error in MC[, \"puntajeing\"]: número incorreto de dimensiones\n",
     "output_type": "error",
     "traceback": [
      "Error in MC[, \"puntajeing\"]: número incorreto de dimensiones\nTraceback:\n"
     ]
    }
   ],
   "source": []
  },
  {
   "cell_type": "code",
   "execution_count": 61,
   "metadata": {},
   "outputs": [
    {
     "data": {
      "text/html": [
       "<table>\n",
       "<caption>A data.frame: 5 × 4</caption>\n",
       "<thead>\n",
       "\t<tr><th></th><th scope=col>pop</th><th scope=col>MAS</th><th scope=col>ME</th><th scope=col>MC</th></tr>\n",
       "\t<tr><th></th><th scope=col>&lt;dbl&gt;</th><th scope=col>&lt;dbl&gt;</th><th scope=col>&lt;dbl&gt;</th><th scope=col>&lt;dbl&gt;</th></tr>\n",
       "</thead>\n",
       "<tbody>\n",
       "\t<tr><th scope=row>tamaño</th><td>725295,0</td><td>384,0</td><td>1000,0</td><td>404,0</td></tr>\n",
       "\t<tr><th scope=row>media</th><td>   150,4</td><td>150,0</td><td> 152,0</td><td>150,9</td></tr>\n",
       "\t<tr><th scope=row>desviación estándar</th><td>    31,9</td><td> 31,6</td><td>  32,1</td><td> 32,5</td></tr>\n",
       "\t<tr><th scope=row>simetría</th><td>     0,3</td><td>  0,3</td><td>   0,1</td><td>  0,4</td></tr>\n",
       "\t<tr><th scope=row>kurtosis</th><td>     1,5</td><td>  1,5</td><td>   1,7</td><td>  1,0</td></tr>\n",
       "</tbody>\n",
       "</table>\n"
      ],
      "text/latex": [
       "A data.frame: 5 × 4\n",
       "\\begin{tabular}{r|llll}\n",
       "  & pop & MAS & ME & MC\\\\\n",
       "  & <dbl> & <dbl> & <dbl> & <dbl>\\\\\n",
       "\\hline\n",
       "\ttamaño & 725295,0 & 384,0 & 1000,0 & 404,0\\\\\n",
       "\tmedia &    150,4 & 150,0 &  152,0 & 150,9\\\\\n",
       "\tdesviación estándar &     31,9 &  31,6 &   32,1 &  32,5\\\\\n",
       "\tsimetría &      0,3 &   0,3 &    0,1 &   0,4\\\\\n",
       "\tkurtosis &      1,5 &   1,5 &    1,7 &   1,0\\\\\n",
       "\\end{tabular}\n"
      ],
      "text/markdown": [
       "\n",
       "A data.frame: 5 × 4\n",
       "\n",
       "| <!--/--> | pop &lt;dbl&gt; | MAS &lt;dbl&gt; | ME &lt;dbl&gt; | MC &lt;dbl&gt; |\n",
       "|---|---|---|---|---|\n",
       "| tamaño | 725295,0 | 384,0 | 1000,0 | 404,0 |\n",
       "| media |    150,4 | 150,0 |  152,0 | 150,9 |\n",
       "| desviación estándar |     31,9 |  31,6 |   32,1 |  32,5 |\n",
       "| simetría |      0,3 |   0,3 |    0,1 |   0,4 |\n",
       "| kurtosis |      1,5 |   1,5 |    1,7 |   1,0 |\n",
       "\n"
      ],
      "text/plain": [
       "                    pop      MAS   ME     MC   \n",
       "tamaño              725295,0 384,0 1000,0 404,0\n",
       "media                  150,4 150,0  152,0 150,9\n",
       "desviación estándar     31,9  31,6   32,1  32,5\n",
       "simetría                 0,3   0,3    0,1   0,4\n",
       "kurtosis                 1,5   1,5    1,7   1,0"
      ]
     },
     "metadata": {},
     "output_type": "display_data"
    },
    {
     "data": {
      "text/html": [
       "<table>\n",
       "<caption>A data.frame: 5 × 5</caption>\n",
       "<thead>\n",
       "\t<tr><th></th><th scope=col>pop</th><th scope=col>m1</th><th scope=col>m2</th><th scope=col>m3</th><th scope=col>m4</th></tr>\n",
       "\t<tr><th></th><th scope=col>&lt;dbl&gt;</th><th scope=col>&lt;dbl&gt;</th><th scope=col>&lt;dbl&gt;</th><th scope=col>&lt;dbl&gt;</th><th scope=col>&lt;dbl&gt;</th></tr>\n",
       "</thead>\n",
       "<tbody>\n",
       "\t<tr><th scope=row>tamaño</th><td>725295,0</td><td>100,0</td><td>200,0</td><td>500,0</td><td>1000,0</td></tr>\n",
       "\t<tr><th scope=row>media</th><td>   150,1</td><td>152,2</td><td>152,6</td><td>149,4</td><td> 152,5</td></tr>\n",
       "\t<tr><th scope=row>desviación estándar</th><td>    31,0</td><td> 28,2</td><td> 32,6</td><td> 31,6</td><td>  31,1</td></tr>\n",
       "\t<tr><th scope=row>simetría</th><td>     0,0</td><td> -0,1</td><td>  0,2</td><td>  0,0</td><td>   0,2</td></tr>\n",
       "\t<tr><th scope=row>kurtosis</th><td>    -0,3</td><td> -0,3</td><td> -0,6</td><td> -0,2</td><td>   0,3</td></tr>\n",
       "</tbody>\n",
       "</table>\n"
      ],
      "text/latex": [
       "A data.frame: 5 × 5\n",
       "\\begin{tabular}{r|lllll}\n",
       "  & pop & m1 & m2 & m3 & m4\\\\\n",
       "  & <dbl> & <dbl> & <dbl> & <dbl> & <dbl>\\\\\n",
       "\\hline\n",
       "\ttamaño & 725295,0 & 100,0 & 200,0 & 500,0 & 1000,0\\\\\n",
       "\tmedia &    150,1 & 152,2 & 152,6 & 149,4 &  152,5\\\\\n",
       "\tdesviación estándar &     31,0 &  28,2 &  32,6 &  31,6 &   31,1\\\\\n",
       "\tsimetría &      0,0 &  -0,1 &   0,2 &   0,0 &    0,2\\\\\n",
       "\tkurtosis &     -0,3 &  -0,3 &  -0,6 &  -0,2 &    0,3\\\\\n",
       "\\end{tabular}\n"
      ],
      "text/markdown": [
       "\n",
       "A data.frame: 5 × 5\n",
       "\n",
       "| <!--/--> | pop &lt;dbl&gt; | m1 &lt;dbl&gt; | m2 &lt;dbl&gt; | m3 &lt;dbl&gt; | m4 &lt;dbl&gt; |\n",
       "|---|---|---|---|---|---|\n",
       "| tamaño | 725295,0 | 100,0 | 200,0 | 500,0 | 1000,0 |\n",
       "| media |    150,1 | 152,2 | 152,6 | 149,4 |  152,5 |\n",
       "| desviación estándar |     31,0 |  28,2 |  32,6 |  31,6 |   31,1 |\n",
       "| simetría |      0,0 |  -0,1 |   0,2 |   0,0 |    0,2 |\n",
       "| kurtosis |     -0,3 |  -0,3 |  -0,6 |  -0,2 |    0,3 |\n",
       "\n"
      ],
      "text/plain": [
       "                    pop      m1    m2    m3    m4    \n",
       "tamaño              725295,0 100,0 200,0 500,0 1000,0\n",
       "media                  150,1 152,2 152,6 149,4  152,5\n",
       "desviación estándar     31,0  28,2  32,6  31,6   31,1\n",
       "simetría                 0,0  -0,1   0,2   0,0    0,2\n",
       "kurtosis                -0,3  -0,3  -0,6  -0,2    0,3"
      ]
     },
     "metadata": {},
     "output_type": "display_data"
    },
    {
     "data": {
      "text/html": [
       "<table>\n",
       "<caption>A data.frame: 5 × 5</caption>\n",
       "<thead>\n",
       "\t<tr><th></th><th scope=col>pop</th><th scope=col>m1</th><th scope=col>m2</th><th scope=col>m3</th><th scope=col>m4</th></tr>\n",
       "\t<tr><th></th><th scope=col>&lt;dbl&gt;</th><th scope=col>&lt;dbl&gt;</th><th scope=col>&lt;dbl&gt;</th><th scope=col>&lt;dbl&gt;</th><th scope=col>&lt;dbl&gt;</th></tr>\n",
       "</thead>\n",
       "<tbody>\n",
       "\t<tr><th scope=row>tamaño</th><td>725295,0</td><td>100,0</td><td>200,0</td><td>500,0</td><td>1000,0</td></tr>\n",
       "\t<tr><th scope=row>media</th><td>   149,5</td><td>152,6</td><td>147,3</td><td>148,1</td><td> 151,2</td></tr>\n",
       "\t<tr><th scope=row>desviación estándar</th><td>    30,7</td><td> 30,0</td><td> 31,3</td><td> 29,7</td><td>  30,2</td></tr>\n",
       "\t<tr><th scope=row>simetría</th><td>     0,2</td><td>  0,1</td><td>  0,3</td><td>  0,2</td><td>   0,1</td></tr>\n",
       "\t<tr><th scope=row>kurtosis</th><td>     0,1</td><td> -0,6</td><td> -0,6</td><td> -0,4</td><td>  -0,6</td></tr>\n",
       "</tbody>\n",
       "</table>\n"
      ],
      "text/latex": [
       "A data.frame: 5 × 5\n",
       "\\begin{tabular}{r|lllll}\n",
       "  & pop & m1 & m2 & m3 & m4\\\\\n",
       "  & <dbl> & <dbl> & <dbl> & <dbl> & <dbl>\\\\\n",
       "\\hline\n",
       "\ttamaño & 725295,0 & 100,0 & 200,0 & 500,0 & 1000,0\\\\\n",
       "\tmedia &    149,5 & 152,6 & 147,3 & 148,1 &  151,2\\\\\n",
       "\tdesviación estándar &     30,7 &  30,0 &  31,3 &  29,7 &   30,2\\\\\n",
       "\tsimetría &      0,2 &   0,1 &   0,3 &   0,2 &    0,1\\\\\n",
       "\tkurtosis &      0,1 &  -0,6 &  -0,6 &  -0,4 &   -0,6\\\\\n",
       "\\end{tabular}\n"
      ],
      "text/markdown": [
       "\n",
       "A data.frame: 5 × 5\n",
       "\n",
       "| <!--/--> | pop &lt;dbl&gt; | m1 &lt;dbl&gt; | m2 &lt;dbl&gt; | m3 &lt;dbl&gt; | m4 &lt;dbl&gt; |\n",
       "|---|---|---|---|---|---|\n",
       "| tamaño | 725295,0 | 100,0 | 200,0 | 500,0 | 1000,0 |\n",
       "| media |    149,5 | 152,6 | 147,3 | 148,1 |  151,2 |\n",
       "| desviación estándar |     30,7 |  30,0 |  31,3 |  29,7 |   30,2 |\n",
       "| simetría |      0,2 |   0,1 |   0,3 |   0,2 |    0,1 |\n",
       "| kurtosis |      0,1 |  -0,6 |  -0,6 |  -0,4 |   -0,6 |\n",
       "\n"
      ],
      "text/plain": [
       "                    pop      m1    m2    m3    m4    \n",
       "tamaño              725295,0 100,0 200,0 500,0 1000,0\n",
       "media                  149,5 152,6 147,3 148,1  151,2\n",
       "desviación estándar     30,7  30,0  31,3  29,7   30,2\n",
       "simetría                 0,2   0,1   0,3   0,2    0,1\n",
       "kurtosis                 0,1  -0,6  -0,6  -0,4   -0,6"
      ]
     },
     "metadata": {},
     "output_type": "display_data"
    }
   ],
   "source": [
    "#MAS n = 384\n",
    "n5=384\n",
    "muestra5 = sample(1:nrow(puntajes),size=n5,replace=FALSE)\n",
    "pop<-round(mystats(puntajes_conglomerados[,'puntajeing']),1)\n",
    "MAS<-round(mystats(puntajes[muestra5,'puntajeing']),1)\n",
    "ME<-round(mystats(puntajes[muestra4,'puntajeing']),1)\n",
    "MC<-round(mystats(puntajes_conglomerados[output,'puntajeing']),1)\n",
    "data.frame(pop,MAS,ME,MC)\n",
    "pop<-round(mystats(puntajes[,'puntajelec']),1)\n",
    "m1<-round(mystats(puntajes[muestra1,'puntajelec']),1)\n",
    "m2<-round(mystats(puntajes[muestra2,'puntajelec']),1)\n",
    "m3<-round(mystats(puntajes[muestra3,'puntajelec']),1)\n",
    "m4<-round(mystats(puntajes[muestra4,'puntajelec']),1)\n",
    "data.frame(pop,m1,m2,m3,m4)\n",
    "pop<-round(mystats(puntajes[,'puntajeraz']),1)\n",
    "m1<-round(mystats(puntajes[muestra1,'puntajeraz']),1)\n",
    "m2<-round(mystats(puntajes[muestra2,'puntajeraz']),1)\n",
    "m3<-round(mystats(puntajes[muestra3,'puntajeraz']),1)\n",
    "m4<-round(mystats(puntajes[muestra4,'puntajeraz']),1)\n",
    "data.frame(pop,m1,m2,m3,m4)"
   ]
  },
  {
   "cell_type": "code",
   "execution_count": 49,
   "metadata": {},
   "outputs": [
    {
     "data": {
      "image/png": "[encoded data removed]",
      "text/plain": [
       "Plot with title “ConglomeradosMC1”"
      ]
     },
     "metadata": {
      "image/png": {
       "height": 420,
       "width": 420
      },
      "text/plain": {
       "height": 420,
       "width": 420
      }
     },
     "output_type": "display_data"
    }
   ],
   "source": [
    "par(mfrow=c(1,2))\n",
    "with(MC, hist(puntajeing, main = 'Conglomerado MC1'))\n",
    "with(MC, plot(puntajeing, pch=20, main = 'ConglomeradosMC1'))"
   ]
  },
  {
   "cell_type": "code",
   "execution_count": null,
   "metadata": {},
   "outputs": [],
   "source": []
  },
  {
   "cell_type": "code",
   "execution_count": null,
   "metadata": {},
   "outputs": [],
   "source": []
  },
  {
   "cell_type": "markdown",
   "metadata": {},
   "source": [
    "4.  ¿Considera que es procedente realizar un muestreo sistemático? Argumente su respuesta"
   ]
  },
  {
   "cell_type": "code",
   "execution_count": null,
   "metadata": {},
   "outputs": [],
   "source": []
  },
  {
   "cell_type": "markdown",
   "metadata": {},
   "source": [
    "5.  Para las estimaciones emplee los siguientes niveles de confianza: 90%, 95% y 99%."
   ]
  },
  {
   "cell_type": "code",
   "execution_count": null,
   "metadata": {},
   "outputs": [],
   "source": []
  }
 ],
 "metadata": {
  "kernelspec": {
   "display_name": "R",
   "language": "R",
   "name": "ir"
  },
  "language_info": {
   "codemirror_mode": "r",
   "file_extension": ".r",
   "mimetype": "text/x-r-source",
   "name": "R",
   "pygments_lexer": "r",
   "version": "3.5.3"
  }
 },
 "nbformat": 4,
 "nbformat_minor": 4
}
